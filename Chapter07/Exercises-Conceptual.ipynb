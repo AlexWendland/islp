{
 "cells": [
  {
   "cell_type": "code",
   "execution_count": 1,
   "metadata": {},
   "outputs": [],
   "source": [
    "import numpy as np"
   ]
  },
  {
   "cell_type": "markdown",
   "metadata": {},
   "source": [
    "# 7.9 Exercises"
   ]
  },
  {
   "cell_type": "markdown",
   "metadata": {},
   "source": [
    "## Conceptual"
   ]
  },
  {
   "cell_type": "markdown",
   "metadata": {},
   "source": [
    "### 1.\n",
    "\n",
    "It was mentioned in the chapter that a cubic regression spline with one knot at $\\xi$ can be obtained using a basis of the form $x, x^2, x^3, \\left(x-\\xi\\right)^3_+$ where $\\left(x-\\xi\\right)^3_+ = \\left(x-\\xi\\right)^3$ if $x>\\xi$ and equals 0 otherwise.\n",
    "\n",
    "We will now show that a function of the form\n",
    "\n",
    "$$\\begin{align}\n",
    "    f\\left(x\\right) = \\beta_0 + \\beta_1 x + \\beta_2 x^2 + \\beta_3 x^3 + \\beta_4 \\left(x-\\xi\\right)^3_+\n",
    "\\end{align}$$\n",
    "\n",
    "is indeed a cubic regression spline, regardless of the values of $\\beta_0,\\beta_1,\\beta_2,\\beta_3,\\beta_4$.\n"
   ]
  },
  {
   "cell_type": "markdown",
   "metadata": {},
   "source": [
    "\n",
    "### Answer\n"
   ]
  },
  {
   "cell_type": "markdown",
   "metadata": {},
   "source": [
    "\n",
    "a. Find a cubic polynomial\n",
    "\n",
    "$$\\begin{align}\n",
    "    f_1\\left(x\\right) = a_1 + b_1 x + c_1x^2 + d_1x^3\n",
    "\\end{align}$$\n",
    "\n",
    "such that $f\\left(x\\right) = f_1\\left(x\\right)$ for all $x\\leq\\xi$. Express $a_1, b_1, c_1, d_1$ in terms of $\\beta_0,\\beta_1,\\beta_2,\\beta_3,\\beta_4$\n",
    "\n",
    "We have:\n",
    "\n",
    "$$\\begin{align}\n",
    "    a_1 = \\beta_0, \n",
    "    b_1 = \\beta_1, \n",
    "    c_1 = \\beta_2, \n",
    "    d_1 = \\beta_3\n",
    "\\end{align}$$\n"
   ]
  },
  {
   "cell_type": "markdown",
   "metadata": {},
   "source": [
    "\n",
    "b. Find a cubic polynomial\n",
    "\n",
    "$$\\begin{align}\n",
    "    f_2\\left(x\\right) = a_2 + b_2 x + c_2x^2 + d_2x^3\n",
    "\\end{align}$$\n",
    "\n",
    "such that $f\\left(x\\right) = f_2\\left(x\\right)$ for all $x>\\xi$. Express $a_1, b_1, c_1, d_1$ in terms of $\\beta_0,\\beta_1,\\beta_2,\\beta_3,\\beta_4$\n",
    "\n",
    "\n",
    "Assuming $x > \\xi$, we have:\n",
    "$$\\begin{align}\n",
    "    f\\left(x\\right) \n",
    "    &= \\beta_0 + \\beta_1 x + \\beta_2 x^2 + \\beta_3 x^3 + \\beta_4 \\left(x-\\xi\\right)^3_+\\\\\n",
    "    &= \\beta_0 + \\beta_1 x + \\beta_2 x^2 + \\beta_3 x^3 + \\beta_4 \\left(x-\\xi\\right)^3\\\\\n",
    "    &= \\beta_0 + \\beta_1 x + \\beta_2 x^2 + \\beta_3 x^3 + \\beta_4 \\left(x^3 - 2x^2\\xi + 2x\\xi^2 -\\xi^3\\right)\\\\\n",
    "    &= \\left(\\beta_0-\\beta_4\\xi^3\\right) + \\left(\\beta_1 + 3\\beta_4\\xi^2\\right) x + \\left(\\beta_2 -3\\beta_4\\xi \\right)x^2 + \\left(\\beta_3 + \\beta_4\\right) x^3\n",
    "\\end{align}$$\n",
    "\n",
    "We have:\n",
    "\n",
    "$$\\begin{align}\n",
    "    a_2 = \\beta_0 - \\beta_4\\xi^3, \n",
    "    b_2 = \\beta_1 + 3\\beta_4\\xi^2, \n",
    "    c_2 = \\beta_2 - 3\\beta_4\\xi, \n",
    "    d_2 = \\beta_3 + \\beta_4\n",
    "\\end{align}$$\n"
   ]
  },
  {
   "cell_type": "markdown",
   "metadata": {},
   "source": [
    "c. Show that $f_1\\left(\\xi\\right) = f_2\\left(\\xi\\right)$. That is, $f\\left(x\\right)$ is continuous at $\\xi$.\n",
    "\n",
    "$$\\begin{align}\n",
    "    f_2\\left(\\xi\\right) \n",
    "    &= \\left(\\beta_0-\\beta_4\\xi^3\\right) + \\left(\\beta_1 + 3\\beta_4\\xi^2\\right) \\xi + \\left(\\beta_2 -3\\beta_4\\xi \\right)\\xi^2 + \\left(\\beta_3 + \\beta_4\\right) \\xi^3\\\\\n",
    "    &= \\beta_0 -\\beta_4\\xi^3 + \\beta_1 \\xi + 3\\beta_4\\xi^3 + \\beta_2\\xi^2 -3\\beta_4\\xi^3 + \\beta_3\\xi^3 + \\beta_4\\xi^3 \\\\\n",
    "    &= \\beta_0 + \\beta_1 \\xi + \\beta_2 \\xi^2 + \\beta_3 \\xi^3\\\\\n",
    "    &= f_1\\left(\\xi\\right) \n",
    "\\end{align}$$"
   ]
  },
  {
   "cell_type": "markdown",
   "metadata": {},
   "source": [
    "d. Show that $f_1'\\left(\\xi\\right) = f_2'\\left(\\xi\\right)$. That is, $f'\\left(x\\right)$ is continuous at $\\xi$.\n",
    "\n",
    "$$\\begin{align}\n",
    "    f_2'\\left(\\xi\\right) \n",
    "    &= \\left(\\beta_1 + 3\\beta_4\\xi^2\\right) + 2\\left(\\beta_2 -3\\beta_4\\xi \\right)\\xi + 3\\left(\\beta_3 + \\beta_4\\right) \\xi^2\\\\\n",
    "    &= \\beta_1 + 3\\beta_4\\xi^2 + 2\\beta_2 \\xi - 6\\beta_4\\xi^2 + 3\\beta_3\\xi^2 +3\\beta_4\\xi^2 \\\\\n",
    "    &= \\beta_1 + 2\\beta_2 \\xi + 3\\beta_3 \\xi^2\\\\\n",
    "    &= f_1'\\left(\\xi\\right) \n",
    "\\end{align}$$"
   ]
  },
  {
   "cell_type": "markdown",
   "metadata": {},
   "source": [
    "e. Show that $f_1''\\left(\\xi\\right) = f_2''\\left(\\xi\\right)$. That is, $f''\\left(x\\right)$ is continuous at $\\xi$.\n",
    "\n",
    "$$\\begin{align}\n",
    "    f_2''\\left(\\xi\\right) \n",
    "    &= 2\\left(\\beta_2 -3\\beta_4\\xi \\right)\\xi + 6\\left(\\beta_3 + \\beta_4\\right) \\xi\\\\\n",
    "    &= 2\\beta_2 - 6\\beta_4\\xi + 6\\beta_3\\xi +6\\beta_4\\xi \\\\\n",
    "    &= 2\\beta_2 + 6\\beta_3 \\xi\\\\\n",
    "    &= f_1''\\left(\\xi\\right) \n",
    "\\end{align}$$"
   ]
  },
  {
   "cell_type": "markdown",
   "metadata": {},
   "source": [
    "### 2.\n",
    "\n",
    "Suppose that a curve $\\hat{g}$ is computed to smoothly fit a set of $n$ points using the following formula:\n",
    "\n",
    "$$\\begin{align}\n",
    "    \\hat{g} = \\arg\\min_g \\left(\\sum_{i=1}^n\\left(y_i - g\\left(x_i\\right)\\right)^2 + \\lambda \\int\\left[g^{\\left(m\\right)}\\left(x\\right)\\right]^2dx\\right)\n",
    "\\end{align}$$\n",
    "\n",
    "where $g^{\\left(m\\right)}$ represents the $m$th derivative of $g$ (and $g^{\\left(0\\right)} = g$). Provide example of sketches of $\\hat{g}$ of the following scenarios."
   ]
  },
  {
   "cell_type": "markdown",
   "metadata": {},
   "source": [
    "### Answer"
   ]
  },
  {
   "cell_type": "markdown",
   "metadata": {},
   "source": [
    "a. $\\lambda = \\infty, m = 0$\n",
    "\n",
    "$$\\hat{g}\\left(x\\right) = 0$$"
   ]
  },
  {
   "cell_type": "markdown",
   "metadata": {},
   "source": [
    "b. $\\lambda = \\infty, m = 1$\n",
    "\n",
    "$$\\hat{g}\\left(x\\right) = \\bar{y}$$"
   ]
  },
  {
   "cell_type": "markdown",
   "metadata": {},
   "source": [
    "c. $\\lambda = \\infty, m = 2$\n",
    "\n",
    "$$\\hat{g}\\left(x\\right) \\text{ is the ordinary least squares regression solution}$$"
   ]
  },
  {
   "cell_type": "markdown",
   "metadata": {},
   "source": [
    "d. $\\lambda = \\infty, m = 3$\n",
    "\n",
    "$$\\hat{g}\\left(x\\right) \\text{ is the ordinary least squares regression solution with quadratic polynomial expansion}$$"
   ]
  },
  {
   "cell_type": "markdown",
   "metadata": {},
   "source": [
    "e. $\\lambda = 0, m = 3$\n",
    "\n",
    "$$\\hat{g}\\left(x\\right) \\text{ is the indicator function at each point}$$"
   ]
  },
  {
   "cell_type": "markdown",
   "metadata": {},
   "source": [
    "### 3.\n",
    "\n",
    "Suppose we fit a curve with basis functions $b_1\\left(X\\right) = X$, $b_2\\left(X\\right) = \\left(X-1\\right)^2I\\left(X\\geq 1\\right)$. (Note that $I\\left(X\\geq 1\\right)$ equals $1$ where $X\\geq 1$ and $0$ otherwise.) We fit the linear regression model\n",
    "\n",
    "$$\\begin{align}\n",
    "    y = \\beta_0 + \\beta_1b_1\\left(X\\right) + \\beta_2b_2\\left(X\\right) + \\epsilon\n",
    "\\end{align}$$\n",
    "\n",
    "and obtain coefficient estimates $\\hat{\\beta}_0 = 1, \\hat{\\beta}_1 = 1, \\hat{\\beta}_2 = -2$. Sketch the estimated curve between $X=-2$ and $X=2$. Note the intercepts, slopes and other relevant information."
   ]
  },
  {
   "cell_type": "markdown",
   "metadata": {},
   "source": [
    "### Answer"
   ]
  },
  {
   "cell_type": "markdown",
   "metadata": {},
   "source": [
    "- Crosses x axis at -1\n",
    "- Crosses y axis at 1\n",
    "- For $x\\geq 1$, we have $-2x^2 + 5x - 1$, differential $-4x+5$, therefore maximum at $x=5/4$\n",
    "- Does not cross the x axis again up to $x = 2$"
   ]
  },
  {
   "cell_type": "code",
   "execution_count": 2,
   "metadata": {},
   "outputs": [
    {
     "data": {
      "text/plain": [
       "2.2807764064044154"
      ]
     },
     "execution_count": 2,
     "metadata": {},
     "output_type": "execute_result"
    }
   ],
   "source": [
    "import math\n",
    "\n",
    "(5 + math.sqrt(17)) / 4"
   ]
  },
  {
   "cell_type": "markdown",
   "metadata": {},
   "source": [
    "### 4.\n",
    "\n",
    "Suppose we fit a curve with basis functions $b_1\\left(X\\right) = I\\left(0\\leq X\\leq 2\\right) - \\left(X-1\\right)I\\left(1\\leq X\\leq 2\\right)$, $b_2\\left(X\\right) = \\left(X-3\\right)^2I\\left(3\\leq X\\leq 4\\right) + I\\left(4 < X \\leq 5\\right)$. We fit the linear regression model\n",
    "\n",
    "$$\\begin{align}\n",
    "    y = \\beta_0 + \\beta_1b_1\\left(X\\right) + \\beta_2b_2\\left(X\\right) + \\epsilon\n",
    "\\end{align}$$\n",
    "\n",
    "and obtain coefficient estimates $\\hat{\\beta}_0 = 1, \\hat{\\beta}_1 = 1, \\hat{\\beta}_2 = 3$. Sketch the estimated curve between $X=-2$ and $X=6$. Note the intercepts, slopes and other relevant information."
   ]
  },
  {
   "cell_type": "markdown",
   "metadata": {},
   "source": [
    "### Answer"
   ]
  },
  {
   "cell_type": "markdown",
   "metadata": {},
   "source": [
    "$$\n",
    "Y = 1 + I\\left(0\\leq X \\leq 2\\right) - \\left(X-1\\right)I\\left(1\\leq X \\leq 2\\right) + 3\\left(X-3\\right) + 3I\\left(4 < X \\leq 5\\right)\n",
    "$$\n",
    "\n",
    "- $y = 1$ for $-2\\leq x \\leq 0$\n",
    "- $y = 2$ for $0\\leq x \\leq 1$\n",
    "- $y = 3-x$ for $1\\leq x \\leq 2$\n",
    "- $y = 1$ for $2\\leq x \\leq 3$\n",
    "- $y = 3x-8$ for $3\\leq x \\leq 4$\n",
    "- $y = 4$ for $4\\leq x \\leq 5$\n",
    "- $y = 1$ for $5\\leq x \\leq 6$"
   ]
  },
  {
   "cell_type": "markdown",
   "metadata": {},
   "source": [
    "### 5.\n",
    "\n",
    "Consider two curves $\\hat{g}_1$ and $\\hat{g}_2$, defined by\n",
    "\n",
    "$$\\begin{align}\n",
    "    \\hat{g}_1 = \\arg\\min_g \\left(\\sum_{i=1}^n\\left(y_i - g\\left(x_i\\right)\\right)^2 + \\lambda \\int\\left[g^{\\left(3\\right)}\\left(x\\right)\\right]^2dx\\right)\\\\\n",
    "    \\hat{g}_2 = \\arg\\min_g \\left(\\sum_{i=1}^n\\left(y_i - g\\left(x_i\\right)\\right)^2 + \\lambda \\int\\left[g^{\\left(4\\right)}\\left(x\\right)\\right]^2dx\\right)\\\\\n",
    "\\end{align}$$\n",
    "\n",
    "where $g^{\\left(m\\right)}$ represents the $m$th derivative of $g$."
   ]
  },
  {
   "cell_type": "markdown",
   "metadata": {},
   "source": [
    "### Answer"
   ]
  },
  {
   "cell_type": "markdown",
   "metadata": {},
   "source": [
    "a. As $\\lambda\\rightarrow\\infty$, $\\hat{g}_1$ has the smaller training RSS\n",
    "\n",
    "b. As $\\lambda\\rightarrow\\infty$, $\\hat{g}_2$ has smaller test RSS\n",
    "\n",
    "c. For $\\lambda=0$, both have same training and test RSS"
   ]
  }
 ],
 "metadata": {
  "kernelspec": {
   "display_name": "islp",
   "language": "python",
   "name": "python3"
  },
  "language_info": {
   "codemirror_mode": {
    "name": "ipython",
    "version": 3
   },
   "file_extension": ".py",
   "mimetype": "text/x-python",
   "name": "python",
   "nbconvert_exporter": "python",
   "pygments_lexer": "ipython3",
   "version": "3.11.5"
  }
 },
 "nbformat": 4,
 "nbformat_minor": 2
}

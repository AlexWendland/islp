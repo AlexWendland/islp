{
 "cells": [
  {
   "cell_type": "code",
   "execution_count": 1,
   "metadata": {},
   "outputs": [],
   "source": [
    "import numpy as np"
   ]
  },
  {
   "cell_type": "markdown",
   "metadata": {},
   "source": [
    "# 7.9 Exercises"
   ]
  },
  {
   "cell_type": "markdown",
   "metadata": {},
   "source": [
    "## Conceptual"
   ]
  },
  {
   "cell_type": "markdown",
   "metadata": {},
   "source": [
    "### 1.\n",
    "\n",
    "It was mentioned in the chapter that a cubic regression spline with one knot at $\\xi$ can be obtained using a basis of the form $x, x^2, x^3, \\left(x-\\xi\\right)^3_+$ where $\\left(x-\\xi\\right)^3_+ = \\left(x-\\xi\\right)^3$ if $x>\\xi$ and equals 0 otherwise.\n",
    "\n",
    "We will now show that a function of the form\n",
    "\n",
    "$$\\begin{align}\n",
    "    f\\left(x\\right) = \\beta_0 + \\beta_1 x + \\beta_2 x^2 + \\beta_3 x^3 + \\beta_4 \\left(x-\\xi\\right)^3_+\n",
    "\\end{align}$$\n",
    "\n",
    "is indeed a cubic regression spline, regardless of the values of $\\beta_0,\\beta_1,\\beta_2,\\beta_3,\\beta_4$.\n"
   ]
  },
  {
   "cell_type": "markdown",
   "metadata": {},
   "source": [
    "\n",
    "### Answer\n"
   ]
  },
  {
   "cell_type": "markdown",
   "metadata": {},
   "source": [
    "\n",
    "a. Find a cubic polynomial\n",
    "\n",
    "$$\\begin{align}\n",
    "    f_1\\left(x\\right) = a_1 + b_1 x + c_1x^2 + d_1x^3\n",
    "\\end{align}$$\n",
    "\n",
    "such that $f\\left(x\\right) = f_1\\left(x\\right)$ for all $x\\leq\\xi$. Express $a_1, b_1, c_1, d_1$ in terms of $\\beta_0,\\beta_1,\\beta_2,\\beta_3,\\beta_4$\n",
    "\n",
    "We have:\n",
    "\n",
    "$$\\begin{align}\n",
    "    a_1 = \\beta_0, \n",
    "    b_1 = \\beta_1, \n",
    "    c_1 = \\beta_2, \n",
    "    d_1 = \\beta_3\n",
    "\\end{align}$$\n"
   ]
  },
  {
   "cell_type": "markdown",
   "metadata": {},
   "source": [
    "\n",
    "b. Find a cubic polynomial\n",
    "\n",
    "$$\\begin{align}\n",
    "    f_2\\left(x\\right) = a_2 + b_2 x + c_2x^2 + d_2x^3\n",
    "\\end{align}$$\n",
    "\n",
    "such that $f\\left(x\\right) = f_2\\left(x\\right)$ for all $x>\\xi$. Express $a_1, b_1, c_1, d_1$ in terms of $\\beta_0,\\beta_1,\\beta_2,\\beta_3,\\beta_4$\n",
    "\n",
    "\n",
    "Assuming $x > \\xi$, we have:\n",
    "$$\\begin{align}\n",
    "    f\\left(x\\right) \n",
    "    &= \\beta_0 + \\beta_1 x + \\beta_2 x^2 + \\beta_3 x^3 + \\beta_4 \\left(x-\\xi\\right)^3_+\\\\\n",
    "    &= \\beta_0 + \\beta_1 x + \\beta_2 x^2 + \\beta_3 x^3 + \\beta_4 \\left(x-\\xi\\right)^3\\\\\n",
    "    &= \\beta_0 + \\beta_1 x + \\beta_2 x^2 + \\beta_3 x^3 + \\beta_4 \\left(x^3 - 2x^2\\xi + 2x\\xi^2 -\\xi^3\\right)\\\\\n",
    "    &= \\left(\\beta_0-\\beta_4\\xi^3\\right) + \\left(\\beta_1 + 3\\beta_4\\xi^2\\right) x + \\left(\\beta_2 -3\\beta_4\\xi \\right)x^2 + \\left(\\beta_3 + \\beta_4\\right) x^3\n",
    "\\end{align}$$\n",
    "\n",
    "We have:\n",
    "\n",
    "$$\\begin{align}\n",
    "    a_2 = \\beta_0 - \\beta_4\\xi^3, \n",
    "    b_2 = \\beta_1 + 3\\beta_4\\xi^2, \n",
    "    c_2 = \\beta_2 - 3\\beta_4\\xi, \n",
    "    d_2 = \\beta_3 + \\beta_4\n",
    "\\end{align}$$\n"
   ]
  },
  {
   "cell_type": "markdown",
   "metadata": {},
   "source": [
    "c. Show that $f_1\\left(\\xi\\right) = f_2\\left(\\xi\\right)$. That is, $f\\left(x\\right)$ is continuous at $\\xi$.\n",
    "\n",
    "$$\\begin{align}\n",
    "    f_2\\left(\\xi\\right) \n",
    "    &= \\left(\\beta_0-\\beta_4\\xi^3\\right) + \\left(\\beta_1 + 3\\beta_4\\xi^2\\right) \\xi + \\left(\\beta_2 -3\\beta_4\\xi \\right)\\xi^2 + \\left(\\beta_3 + \\beta_4\\right) \\xi^3\\\\\n",
    "    &= \\beta_0 -\\beta_4\\xi^3 + \\beta_1 \\xi + 3\\beta_4\\xi^3 + \\beta_2\\xi^2 -3\\beta_4\\xi^3 + \\beta_3\\xi^3 + \\beta_4\\xi^3 \\\\\n",
    "    &= \\beta_0 + \\beta_1 \\xi + \\beta_2 \\xi^2 + \\beta_3 \\xi^3\\\\\n",
    "    &= f_1\\left(\\xi\\right) \n",
    "\\end{align}$$"
   ]
  },
  {
   "cell_type": "markdown",
   "metadata": {},
   "source": [
    "d. Show that $f_1'\\left(\\xi\\right) = f_2'\\left(\\xi\\right)$. That is, $f'\\left(x\\right)$ is continuous at $\\xi$.\n",
    "\n",
    "$$\\begin{align}\n",
    "    f_2'\\left(\\xi\\right) \n",
    "    &= \\left(\\beta_1 + 3\\beta_4\\xi^2\\right) + 2\\left(\\beta_2 -3\\beta_4\\xi \\right)\\xi + 3\\left(\\beta_3 + \\beta_4\\right) \\xi^2\\\\\n",
    "    &= \\beta_1 + 3\\beta_4\\xi^2 + 2\\beta_2 \\xi - 6\\beta_4\\xi^2 + 3\\beta_3\\xi^2 +3\\beta_4\\xi^2 \\\\\n",
    "    &= \\beta_1 + 2\\beta_2 \\xi + 3\\beta_3 \\xi^2\\\\\n",
    "    &= f_1'\\left(\\xi\\right) \n",
    "\\end{align}$$"
   ]
  },
  {
   "cell_type": "markdown",
   "metadata": {},
   "source": [
    "e. Show that $f_1''\\left(\\xi\\right) = f_2''\\left(\\xi\\right)$. That is, $f''\\left(x\\right)$ is continuous at $\\xi$.\n",
    "\n",
    "$$\\begin{align}\n",
    "    f_2''\\left(\\xi\\right) \n",
    "    &= 2\\left(\\beta_2 -3\\beta_4\\xi \\right)\\xi + 6\\left(\\beta_3 + \\beta_4\\right) \\xi\\\\\n",
    "    &= 2\\beta_2 - 6\\beta_4\\xi + 6\\beta_3\\xi +6\\beta_4\\xi \\\\\n",
    "    &= 2\\beta_2 + 6\\beta_3 \\xi\\\\\n",
    "    &= f_1''\\left(\\xi\\right) \n",
    "\\end{align}$$"
   ]
  }
 ],
 "metadata": {
  "kernelspec": {
   "display_name": "islp",
   "language": "python",
   "name": "python3"
  },
  "language_info": {
   "codemirror_mode": {
    "name": "ipython",
    "version": 3
   },
   "file_extension": ".py",
   "mimetype": "text/x-python",
   "name": "python",
   "nbconvert_exporter": "python",
   "pygments_lexer": "ipython3",
   "version": "3.11.5"
  }
 },
 "nbformat": 4,
 "nbformat_minor": 2
}

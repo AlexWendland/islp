{
 "cells": [
  {
   "cell_type": "code",
   "execution_count": 1,
   "metadata": {},
   "outputs": [],
   "source": [
    "import matplotlib.pyplot as plt\n",
    "from sklearn import datasets\n",
    "\n",
    "from ISLP.transforms import (BSpline,\n",
    "                             NaturalSpline)\n",
    "from ISLP.models import bs, ns\n",
    "from ISLP.pygam import (approx_lam,\n",
    "                        degrees_of_freedom,\n",
    "                        plot as plot_gam,\n",
    "                        anova as anova_gam)\n"
   ]
  },
  {
   "cell_type": "markdown",
   "metadata": {},
   "source": [
    "## Question 7\n",
    "In Section 8.3.3, we applied random forests to the Boston data using\n",
    "max_features = 6 and using n_estimators = 100 and n_estimators =\n",
    "500. Create a plot displaying the test error resulting from random\n",
    "forests on this data set for a more comprehensive range of values\n",
    "for max_features and n_estimators. You can model your plot after\n",
    "Figure 8.10. Describe the results obtained."
   ]
  },
  {
   "cell_type": "code",
   "execution_count": 2,
   "metadata": {},
   "outputs": [
    {
     "name": "stdout",
     "output_type": "stream",
     "text": [
      "Fitting 1 folds for each of 240 candidates, totalling 240 fits\n"
     ]
    },
    {
     "name": "stderr",
     "output_type": "stream",
     "text": [
      "/home/albert/miniforge3/envs/islp/lib/python3.11/site-packages/sklearn/model_selection/_validation.py:540: FitFailedWarning: \n",
      "12 fits failed out of a total of 240.\n",
      "The score on these train-test partitions for these parameters will be set to nan.\n",
      "If these failures are not expected, you can try to debug them by setting error_score='raise'.\n",
      "\n",
      "Below are more details about the failures:\n",
      "--------------------------------------------------------------------------------\n",
      "12 fits failed with the following error:\n",
      "Traceback (most recent call last):\n",
      "  File \"/home/albert/miniforge3/envs/islp/lib/python3.11/site-packages/sklearn/model_selection/_validation.py\", line 888, in _fit_and_score\n",
      "    estimator.fit(X_train, y_train, **fit_params)\n",
      "  File \"/home/albert/miniforge3/envs/islp/lib/python3.11/site-packages/sklearn/base.py\", line 1466, in wrapper\n",
      "    estimator._validate_params()\n",
      "  File \"/home/albert/miniforge3/envs/islp/lib/python3.11/site-packages/sklearn/base.py\", line 666, in _validate_params\n",
      "    validate_parameter_constraints(\n",
      "  File \"/home/albert/miniforge3/envs/islp/lib/python3.11/site-packages/sklearn/utils/_param_validation.py\", line 95, in validate_parameter_constraints\n",
      "    raise InvalidParameterError(\n",
      "sklearn.utils._param_validation.InvalidParameterError: The 'n_estimators' parameter of RandomForestRegressor must be an int in the range [1, inf). Got 0 instead.\n",
      "\n",
      "  warnings.warn(some_fits_failed_message, FitFailedWarning)\n",
      "/home/albert/miniforge3/envs/islp/lib/python3.11/site-packages/numpy/ma/core.py:2820: RuntimeWarning: invalid value encountered in cast\n",
      "  _data = np.array(data, dtype=dtype, copy=copy,\n",
      "/home/albert/miniforge3/envs/islp/lib/python3.11/site-packages/sklearn/model_selection/_search.py:1102: UserWarning: One or more of the test scores are non-finite: [       nan 0.34236237 0.7153356  0.7776243  0.78989285 0.74774116\n",
      " 0.74983484 0.77626064 0.77988106 0.79649298 0.79343535 0.79676001\n",
      " 0.81988802 0.82108752 0.80484739 0.81390084 0.81898382 0.81973662\n",
      " 0.81955025 0.81767637        nan 0.79936201 0.86040726 0.82472058\n",
      " 0.80822235 0.81759294 0.82852008 0.84306301 0.8496448  0.84788977\n",
      " 0.8452284  0.87490789 0.86129429 0.85596691 0.84851009 0.84701481\n",
      " 0.84942031 0.85334416 0.85496806 0.85313018        nan 0.78311573\n",
      " 0.8194417  0.81970675 0.82252645 0.813612   0.81215291 0.82399149\n",
      " 0.82166968 0.82569027 0.82608752 0.87587678 0.88135455 0.88486768\n",
      " 0.87389959 0.87597424 0.87786706 0.88063069 0.87718438 0.875318\n",
      "        nan 0.81313533 0.84562133 0.84471477 0.85451354 0.85525988\n",
      " 0.87232423 0.87137777 0.86949245 0.87217483 0.87131744 0.88592929\n",
      " 0.8969222  0.89351655 0.89049604 0.88819159 0.88580456 0.88573211\n",
      " 0.88516267 0.88305095        nan 0.80766729 0.8743789  0.87022579\n",
      " 0.87022835 0.8710499  0.89173201 0.88292756 0.89140352 0.88944789\n",
      " 0.88686332 0.88971265 0.89196969 0.89166534 0.89465083 0.89498103\n",
      " 0.89664499 0.89619376 0.89616167 0.89615918        nan 0.81487875\n",
      " 0.8325558  0.84092538 0.82536571 0.84247676 0.84972253 0.84029128\n",
      " 0.85583326 0.86046885 0.86169975 0.87296134 0.8824965  0.88680446\n",
      " 0.88580828 0.88993025 0.8944156  0.8974506  0.89836387 0.8980002\n",
      "        nan 0.81814805 0.79680228 0.85617691 0.85929403 0.86117314\n",
      " 0.88624463 0.88280105 0.89206934 0.88871965 0.88851415 0.89930797\n",
      " 0.89912399 0.8999161  0.90138788 0.90236917 0.90749071 0.90669583\n",
      " 0.90600079 0.90577518        nan 0.76700098 0.87448742 0.90396608\n",
      " 0.919787   0.90264966 0.90978291 0.90186475 0.90011231 0.89494613\n",
      " 0.89049421 0.90278179 0.90240189 0.90574883 0.9081254  0.90628027\n",
      " 0.9061658  0.90699693 0.90728818 0.90808412        nan 0.79633759\n",
      " 0.74472912 0.80528618 0.82400401 0.83871898 0.86851981 0.87982379\n",
      " 0.8728118  0.87374925 0.86972821 0.88384575 0.89891047 0.89722332\n",
      " 0.90030973 0.90136008 0.90139598 0.90390773 0.9042641  0.90691139\n",
      "        nan 0.72456495 0.75679469 0.84978133 0.84909912 0.85447294\n",
      " 0.88372234 0.89145329 0.88015161 0.88055282 0.88016182 0.89028751\n",
      " 0.89758533 0.89722142 0.90041017 0.90408462 0.90725262 0.90621666\n",
      " 0.90793475 0.90958832        nan 0.8175723  0.78502383 0.85791695\n",
      " 0.86468309 0.87153199 0.89225343 0.89587981 0.88674931 0.88858008\n",
      " 0.88641167 0.89770073 0.90717967 0.90610964 0.90948268 0.91075165\n",
      " 0.91234997 0.91457911 0.91596013 0.91581754        nan 0.77538822\n",
      " 0.80519635 0.87761253 0.88254682 0.88001644 0.89719272 0.89827856\n",
      " 0.89080084 0.88999219 0.88899236 0.89802093 0.90717689 0.9072321\n",
      " 0.90585163 0.90819729 0.91015463 0.91210339 0.91395563 0.91474013]\n",
      "  warnings.warn(\n",
      "/home/albert/miniforge3/envs/islp/lib/python3.11/site-packages/sklearn/model_selection/_search.py:1102: UserWarning: One or more of the train scores are non-finite: [       nan 0.67122462 0.85169076 0.90842373 0.92485459 0.92416024\n",
      " 0.92695278 0.93631671 0.94464144 0.94867965 0.94638988 0.96249049\n",
      " 0.96713693 0.96814367 0.96702744 0.96903606 0.97005907 0.97099879\n",
      " 0.97138231 0.97166739        nan 0.59006783 0.8581477  0.92124336\n",
      " 0.93473037 0.94688777 0.95884972 0.9640598  0.96683506 0.96467734\n",
      " 0.96191277 0.96751097 0.97177164 0.97339651 0.97327268 0.97574365\n",
      " 0.97697491 0.97727533 0.97790979 0.97802068        nan 0.91254446\n",
      " 0.92511818 0.94417027 0.95452241 0.95616516 0.96312488 0.96739547\n",
      " 0.96871549 0.96871416 0.96426986 0.97182923 0.97646829 0.97697661\n",
      " 0.97678258 0.97856311 0.97953799 0.98033226 0.98020063 0.98087305\n",
      "        nan 0.90363011 0.91681303 0.94879157 0.95586101 0.95771276\n",
      " 0.960916   0.9671377  0.96998604 0.96991263 0.96597775 0.97298901\n",
      " 0.97731299 0.9781651  0.97855158 0.97998049 0.98084138 0.98104266\n",
      " 0.98063857 0.98064612        nan 0.86814781 0.9227714  0.94889715\n",
      " 0.95575081 0.95783961 0.96487207 0.96894844 0.9722024  0.97077721\n",
      " 0.96907745 0.97295367 0.97769217 0.97886935 0.9789593  0.97943109\n",
      " 0.97984628 0.98017466 0.98020708 0.9802769         nan 0.91654568\n",
      " 0.91748322 0.94997444 0.95826547 0.96303062 0.9621053  0.96776247\n",
      " 0.97007109 0.97277601 0.97152907 0.97388931 0.97844692 0.97923535\n",
      " 0.97913483 0.97957949 0.98008472 0.98016337 0.98060729 0.98088343\n",
      "        nan 0.88752518 0.92836768 0.94966351 0.95705519 0.95572568\n",
      " 0.96113313 0.96250675 0.96643052 0.96724124 0.96694782 0.96995459\n",
      " 0.97457093 0.97557216 0.97597532 0.97751504 0.97869797 0.97926303\n",
      " 0.97953567 0.97964014        nan 0.90639085 0.9410948  0.95819291\n",
      " 0.96143542 0.9653391  0.96598282 0.97041034 0.97362696 0.97431547\n",
      " 0.9738241  0.97483787 0.97790381 0.97752182 0.97774017 0.97870152\n",
      " 0.97975318 0.979832   0.98010681 0.98033385        nan 0.90569048\n",
      " 0.93683943 0.95530628 0.96072622 0.96705515 0.97003692 0.97144811\n",
      " 0.97364775 0.97409323 0.97291495 0.97561962 0.97820819 0.9782354\n",
      " 0.97863637 0.97961594 0.97961232 0.97925215 0.97942405 0.97970626\n",
      "        nan 0.92387121 0.93280231 0.95514886 0.95949931 0.96320563\n",
      " 0.96685078 0.96978068 0.97071785 0.97092467 0.97141332 0.97416916\n",
      " 0.97675228 0.97710555 0.97752212 0.9785253  0.97875841 0.97884607\n",
      " 0.97881742 0.97917471        nan 0.90786294 0.93163047 0.95270368\n",
      " 0.95978127 0.96437651 0.96796573 0.97000234 0.97233957 0.97292193\n",
      " 0.97319081 0.97440221 0.97782426 0.97804371 0.97751907 0.97868816\n",
      " 0.97903769 0.97906178 0.97918392 0.97921535        nan 0.91166868\n",
      " 0.93230459 0.95367108 0.95980426 0.96109368 0.96512071 0.96690817\n",
      " 0.97037452 0.97131866 0.97107081 0.97457323 0.97775406 0.97769219\n",
      " 0.97752175 0.97819847 0.97858594 0.97897493 0.97933509 0.97952662]\n",
      "  warnings.warn(\n"
     ]
    }
   ],
   "source": [
    "import random\n",
    "import pandas as pd\n",
    "import plotly.express as px\n",
    "\n",
    "from ISLP import load_data\n",
    "from sklearn.ensemble import RandomForestRegressor\n",
    "from sklearn.model_selection import GridSearchCV, PredefinedSplit\n",
    "\n",
    "random.seed(0)\n",
    "data = load_data('Boston')\n",
    "\n",
    "X = data.drop(\"medv\", axis=1)\n",
    "y = data[\"medv\"]\n",
    "\n",
    "forest = RandomForestRegressor(n_estimators=100, random_state=0)\n",
    "\n",
    "test_size = 0.2\n",
    "test_fold = [-1] * int((1 - test_size) * len(X)) + [0] * int(test_size * len(X))\n",
    "random.shuffle(test_fold)\n",
    "ps = PredefinedSplit(test_fold=test_fold)\n",
    "\n",
    "max_features = list(range(1, X.shape[1] + 1))\n",
    "n_estimators = list(range(10)) + list(range(10, 101, 10))\n",
    "param_grid = {'n_estimators': n_estimators, 'max_features': max_features}\n",
    "\n",
    "grid_search = GridSearchCV(forest, param_grid, cv=ps, n_jobs=-1, verbose=1, return_train_score=True)\n",
    "grid_search.fit(X, y)\n",
    "\n",
    "results = pd.DataFrame(grid_search.cv_results_)\n"
   ]
  },
  {
   "cell_type": "code",
   "execution_count": 3,
   "metadata": {},
   "outputs": [
    {
     "data": {
      "application/vnd.plotly.v1+json": {
       "config": {
        "plotlyServerURL": "https://plot.ly"
       },
       "data": [
        {
         "hovertemplate": "param_max_features=1<br>param_n_estimators=%{x}<br>mean_test_error=%{y}<extra></extra>",
         "legendgroup": "1",
         "line": {
          "color": "#636efa",
          "dash": "solid"
         },
         "marker": {
          "symbol": "circle"
         },
         "mode": "lines",
         "name": "1",
         "orientation": "v",
         "showlegend": true,
         "type": "scatter",
         "x": [
          0,
          1,
          2,
          3,
          4,
          5,
          6,
          7,
          8,
          9,
          10,
          20,
          30,
          40,
          50,
          60,
          70,
          80,
          90,
          100
         ],
         "xaxis": "x",
         "y": [
          null,
          0.6576376295708255,
          0.28466440295809226,
          0.22237570304608556,
          0.21010714554420218,
          0.25225884040028035,
          0.2501651613624114,
          0.22373935978414794,
          0.2201189406882773,
          0.2035070232201388,
          0.20656465384714406,
          0.2032399909865079,
          0.18011197600471807,
          0.17891248261318737,
          0.1951526065962892,
          0.18609916444952668,
          0.18101617911312728,
          0.18026338310425327,
          0.1804497469872477,
          0.18232363005591323
         ],
         "yaxis": "y"
        },
        {
         "hovertemplate": "param_max_features=2<br>param_n_estimators=%{x}<br>mean_test_error=%{y}<extra></extra>",
         "legendgroup": "2",
         "line": {
          "color": "#EF553B",
          "dash": "solid"
         },
         "marker": {
          "symbol": "circle"
         },
         "mode": "lines",
         "name": "2",
         "orientation": "v",
         "showlegend": true,
         "type": "scatter",
         "x": [
          0,
          1,
          2,
          3,
          4,
          5,
          6,
          7,
          8,
          9,
          10,
          20,
          30,
          40,
          50,
          60,
          70,
          80,
          90,
          100
         ],
         "xaxis": "x",
         "y": [
          null,
          0.20063798732540927,
          0.13959274033699454,
          0.17527941763934352,
          0.1917776474365145,
          0.18240705619071207,
          0.17147991569062793,
          0.15693699333098343,
          0.15035520272692948,
          0.15211023201744822,
          0.1547716039036624,
          0.1250921081052,
          0.13870570531790904,
          0.1440330914035911,
          0.1514899108298453,
          0.1529851898407405,
          0.15057969153302664,
          0.1466558394409877,
          0.14503193646130375,
          0.14686981875838212
         ],
         "yaxis": "y"
        },
        {
         "hovertemplate": "param_max_features=3<br>param_n_estimators=%{x}<br>mean_test_error=%{y}<extra></extra>",
         "legendgroup": "3",
         "line": {
          "color": "#00cc96",
          "dash": "solid"
         },
         "marker": {
          "symbol": "circle"
         },
         "mode": "lines",
         "name": "3",
         "orientation": "v",
         "showlegend": true,
         "type": "scatter",
         "x": [
          0,
          1,
          2,
          3,
          4,
          5,
          6,
          7,
          8,
          9,
          10,
          20,
          30,
          40,
          50,
          60,
          70,
          80,
          90,
          100
         ],
         "xaxis": "x",
         "y": [
          null,
          0.2168842731545909,
          0.18055830252613203,
          0.18029325367736448,
          0.17747354709912722,
          0.1863880033296923,
          0.1878470896532718,
          0.17600851277582585,
          0.1783303164487563,
          0.17430972672921863,
          0.17391248286990701,
          0.1241232249897638,
          0.11864544581665515,
          0.11513232022506581,
          0.12610040839724435,
          0.12402576374548069,
          0.12213294238140993,
          0.1193693141434633,
          0.12281562265588453,
          0.12468199846559236
         ],
         "yaxis": "y"
        },
        {
         "hovertemplate": "param_max_features=4<br>param_n_estimators=%{x}<br>mean_test_error=%{y}<extra></extra>",
         "legendgroup": "4",
         "line": {
          "color": "#ab63fa",
          "dash": "solid"
         },
         "marker": {
          "symbol": "circle"
         },
         "mode": "lines",
         "name": "4",
         "orientation": "v",
         "showlegend": true,
         "type": "scatter",
         "x": [
          0,
          1,
          2,
          3,
          4,
          5,
          6,
          7,
          8,
          9,
          10,
          20,
          30,
          40,
          50,
          60,
          70,
          80,
          90,
          100
         ],
         "xaxis": "x",
         "y": [
          null,
          0.1868646662798923,
          0.1543786716555281,
          0.15528523428205476,
          0.14548645844802233,
          0.1447401193964597,
          0.1276757730842345,
          0.12862223213896096,
          0.13050754809825538,
          0.1278251741903519,
          0.1286825640875109,
          0.11407071421079151,
          0.1030777985925293,
          0.10648345095145595,
          0.10950396168269083,
          0.11180841070183889,
          0.11419544156882622,
          0.11426789258337233,
          0.1148373337621772,
          0.11694904689610575
         ],
         "yaxis": "y"
        },
        {
         "hovertemplate": "param_max_features=5<br>param_n_estimators=%{x}<br>mean_test_error=%{y}<extra></extra>",
         "legendgroup": "5",
         "line": {
          "color": "#FFA15A",
          "dash": "solid"
         },
         "marker": {
          "symbol": "circle"
         },
         "mode": "lines",
         "name": "5",
         "orientation": "v",
         "showlegend": true,
         "type": "scatter",
         "x": [
          0,
          1,
          2,
          3,
          4,
          5,
          6,
          7,
          8,
          9,
          10,
          20,
          30,
          40,
          50,
          60,
          70,
          80,
          90,
          100
         ],
         "xaxis": "x",
         "y": [
          null,
          0.19233271116161232,
          0.12562109642011987,
          0.1297742123207276,
          0.12977164755853776,
          0.1289500975935669,
          0.10826798571123364,
          0.11707244418582063,
          0.10859647553378415,
          0.11055210904577284,
          0.11313668178666503,
          0.11028735382128674,
          0.10803031306381283,
          0.10833465709082912,
          0.105349168762084,
          0.10501896942224076,
          0.10335501306127581,
          0.10380624080379863,
          0.10383833432500578,
          0.10384081849760507
         ],
         "yaxis": "y"
        },
        {
         "hovertemplate": "param_max_features=6<br>param_n_estimators=%{x}<br>mean_test_error=%{y}<extra></extra>",
         "legendgroup": "6",
         "line": {
          "color": "#19d3f3",
          "dash": "solid"
         },
         "marker": {
          "symbol": "circle"
         },
         "mode": "lines",
         "name": "6",
         "orientation": "v",
         "showlegend": true,
         "type": "scatter",
         "x": [
          0,
          1,
          2,
          3,
          4,
          5,
          6,
          7,
          8,
          9,
          10,
          20,
          30,
          40,
          50,
          60,
          70,
          80,
          90,
          100
         ],
         "xaxis": "x",
         "y": [
          null,
          0.18512124634443639,
          0.16744420265760263,
          0.15907461771692555,
          0.1746342921142815,
          0.15752324267712636,
          0.15027746935234065,
          0.1597087227234364,
          0.14416673546963876,
          0.13953114544546352,
          0.13830025197103135,
          0.12703866226534688,
          0.11750349732683674,
          0.11319554181410729,
          0.1141917214166761,
          0.11006975180821676,
          0.10558440436016814,
          0.1025494009107214,
          0.10163613097823365,
          0.10199980276411746
         ],
         "yaxis": "y"
        },
        {
         "hovertemplate": "param_max_features=7<br>param_n_estimators=%{x}<br>mean_test_error=%{y}<extra></extra>",
         "legendgroup": "7",
         "line": {
          "color": "#FF6692",
          "dash": "solid"
         },
         "marker": {
          "symbol": "circle"
         },
         "mode": "lines",
         "name": "7",
         "orientation": "v",
         "showlegend": true,
         "type": "scatter",
         "x": [
          0,
          1,
          2,
          3,
          4,
          5,
          6,
          7,
          8,
          9,
          10,
          20,
          30,
          40,
          50,
          60,
          70,
          80,
          90,
          100
         ],
         "xaxis": "x",
         "y": [
          null,
          0.1818519545211874,
          0.20319771836529288,
          0.14382309422661743,
          0.14070596658205514,
          0.1388268599055692,
          0.11375536819719034,
          0.1171989462589087,
          0.10793066151261965,
          0.11128035472677189,
          0.11148584625288893,
          0.10069202532373478,
          0.10087601222846332,
          0.1000839039064777,
          0.09861212463243996,
          0.09763082945086854,
          0.09250928616947574,
          0.09330416682622944,
          0.09399920701326969,
          0.09422482010234123
         ],
         "yaxis": "y"
        },
        {
         "hovertemplate": "param_max_features=8<br>param_n_estimators=%{x}<br>mean_test_error=%{y}<extra></extra>",
         "legendgroup": "8",
         "line": {
          "color": "#B6E880",
          "dash": "solid"
         },
         "marker": {
          "symbol": "circle"
         },
         "mode": "lines",
         "name": "8",
         "orientation": "v",
         "showlegend": true,
         "type": "scatter",
         "x": [
          0,
          1,
          2,
          3,
          4,
          5,
          6,
          7,
          8,
          9,
          10,
          20,
          30,
          40,
          50,
          60,
          70,
          80,
          90,
          100
         ],
         "xaxis": "x",
         "y": [
          null,
          0.23299901830379044,
          0.12551257535913463,
          0.09603391547737117,
          0.08021300072743098,
          0.09735034312281177,
          0.09021709104481801,
          0.09813525317477467,
          0.09988769201007075,
          0.10505387101841968,
          0.10950579475265887,
          0.09721820545051274,
          0.09759811292277032,
          0.09425117071079958,
          0.09187460007575865,
          0.09371973041295878,
          0.09383419631880041,
          0.09300307163266619,
          0.09271182374984088,
          0.0919158837134304
         ],
         "yaxis": "y"
        },
        {
         "hovertemplate": "param_max_features=9<br>param_n_estimators=%{x}<br>mean_test_error=%{y}<extra></extra>",
         "legendgroup": "9",
         "line": {
          "color": "#FF97FF",
          "dash": "solid"
         },
         "marker": {
          "symbol": "circle"
         },
         "mode": "lines",
         "name": "9",
         "orientation": "v",
         "showlegend": true,
         "type": "scatter",
         "x": [
          0,
          1,
          2,
          3,
          4,
          5,
          6,
          7,
          8,
          9,
          10,
          20,
          30,
          40,
          50,
          60,
          70,
          80,
          90,
          100
         ],
         "xaxis": "x",
         "y": [
          null,
          0.2036624111136145,
          0.25527087912753954,
          0.19471382232515277,
          0.1759959911149429,
          0.16128101587474597,
          0.1314801937549579,
          0.12017620538258034,
          0.1271882012518304,
          0.12625074592809615,
          0.1302717879904861,
          0.11615424775211203,
          0.10108953423189515,
          0.10277668202009216,
          0.09969026766274247,
          0.09863992129176524,
          0.0986040205866715,
          0.09609226861294351,
          0.09573590275905586,
          0.09308861420641334
         ],
         "yaxis": "y"
        },
        {
         "hovertemplate": "param_max_features=10<br>param_n_estimators=%{x}<br>mean_test_error=%{y}<extra></extra>",
         "legendgroup": "10",
         "line": {
          "color": "#FECB52",
          "dash": "solid"
         },
         "marker": {
          "symbol": "circle"
         },
         "mode": "lines",
         "name": "10",
         "orientation": "v",
         "showlegend": true,
         "type": "scatter",
         "x": [
          0,
          1,
          2,
          3,
          4,
          5,
          6,
          7,
          8,
          9,
          10,
          20,
          30,
          40,
          50,
          60,
          70,
          80,
          90,
          100
         ],
         "xaxis": "x",
         "y": [
          null,
          0.2754350535174207,
          0.24320531025617564,
          0.15021866954410923,
          0.15090087520636497,
          0.14552705645519604,
          0.11627766073584833,
          0.10854670832037705,
          0.1198483894106045,
          0.11944718213878891,
          0.11983818362457788,
          0.10971248563496627,
          0.10241467279347694,
          0.10277857860903106,
          0.09958983088957873,
          0.09591537624447011,
          0.09274737831074831,
          0.09378333679633633,
          0.09206524534360272,
          0.09041167768866687
         ],
         "yaxis": "y"
        },
        {
         "hovertemplate": "param_max_features=11<br>param_n_estimators=%{x}<br>mean_test_error=%{y}<extra></extra>",
         "legendgroup": "11",
         "line": {
          "color": "#636efa",
          "dash": "solid"
         },
         "marker": {
          "symbol": "circle"
         },
         "mode": "lines",
         "name": "11",
         "orientation": "v",
         "showlegend": true,
         "type": "scatter",
         "x": [
          0,
          1,
          2,
          3,
          4,
          5,
          6,
          7,
          8,
          9,
          10,
          20,
          30,
          40,
          50,
          60,
          70,
          80,
          90,
          100
         ],
         "xaxis": "x",
         "y": [
          null,
          0.18242769795895541,
          0.21497617440631123,
          0.1420830471291099,
          0.13531690934903595,
          0.1284680111199461,
          0.10774657307141544,
          0.10412018891373709,
          0.11325069150900402,
          0.11141991526587558,
          0.11358833177064076,
          0.10229926524061073,
          0.09282032944567564,
          0.09389035525801559,
          0.09051732286564729,
          0.0892483518371342,
          0.08765003303074248,
          0.08542089261033414,
          0.08403986526122154,
          0.08418245738327423
         ],
         "yaxis": "y"
        },
        {
         "hovertemplate": "param_max_features=12<br>param_n_estimators=%{x}<br>mean_test_error=%{y}<extra></extra>",
         "legendgroup": "12",
         "line": {
          "color": "#EF553B",
          "dash": "solid"
         },
         "marker": {
          "symbol": "circle"
         },
         "mode": "lines",
         "name": "12",
         "orientation": "v",
         "showlegend": true,
         "type": "scatter",
         "x": [
          0,
          1,
          2,
          3,
          4,
          5,
          6,
          7,
          8,
          9,
          10,
          20,
          30,
          40,
          50,
          60,
          70,
          80,
          90,
          100
         ],
         "xaxis": "x",
         "y": [
          null,
          0.22461178217785072,
          0.19480365224250806,
          0.12238747235817371,
          0.11745317908176589,
          0.11998355631298585,
          0.10280727675205104,
          0.10172144033161967,
          0.10919915951466397,
          0.11000780795287801,
          0.11100763517007062,
          0.10197907498850645,
          0.092823108664145,
          0.09276789586907164,
          0.09414836936743165,
          0.09180271388114392,
          0.08984536933553855,
          0.0878966101040699,
          0.08604436596405884,
          0.08525987238650556
         ],
         "yaxis": "y"
        }
       ],
       "layout": {
        "legend": {
         "title": {
          "text": "param_max_features"
         },
         "tracegroupgap": 0
        },
        "margin": {
         "t": 60
        },
        "template": {
         "data": {
          "bar": [
           {
            "error_x": {
             "color": "#2a3f5f"
            },
            "error_y": {
             "color": "#2a3f5f"
            },
            "marker": {
             "line": {
              "color": "#E5ECF6",
              "width": 0.5
             },
             "pattern": {
              "fillmode": "overlay",
              "size": 10,
              "solidity": 0.2
             }
            },
            "type": "bar"
           }
          ],
          "barpolar": [
           {
            "marker": {
             "line": {
              "color": "#E5ECF6",
              "width": 0.5
             },
             "pattern": {
              "fillmode": "overlay",
              "size": 10,
              "solidity": 0.2
             }
            },
            "type": "barpolar"
           }
          ],
          "carpet": [
           {
            "aaxis": {
             "endlinecolor": "#2a3f5f",
             "gridcolor": "white",
             "linecolor": "white",
             "minorgridcolor": "white",
             "startlinecolor": "#2a3f5f"
            },
            "baxis": {
             "endlinecolor": "#2a3f5f",
             "gridcolor": "white",
             "linecolor": "white",
             "minorgridcolor": "white",
             "startlinecolor": "#2a3f5f"
            },
            "type": "carpet"
           }
          ],
          "choropleth": [
           {
            "colorbar": {
             "outlinewidth": 0,
             "ticks": ""
            },
            "type": "choropleth"
           }
          ],
          "contour": [
           {
            "colorbar": {
             "outlinewidth": 0,
             "ticks": ""
            },
            "colorscale": [
             [
              0,
              "#0d0887"
             ],
             [
              0.1111111111111111,
              "#46039f"
             ],
             [
              0.2222222222222222,
              "#7201a8"
             ],
             [
              0.3333333333333333,
              "#9c179e"
             ],
             [
              0.4444444444444444,
              "#bd3786"
             ],
             [
              0.5555555555555556,
              "#d8576b"
             ],
             [
              0.6666666666666666,
              "#ed7953"
             ],
             [
              0.7777777777777778,
              "#fb9f3a"
             ],
             [
              0.8888888888888888,
              "#fdca26"
             ],
             [
              1,
              "#f0f921"
             ]
            ],
            "type": "contour"
           }
          ],
          "contourcarpet": [
           {
            "colorbar": {
             "outlinewidth": 0,
             "ticks": ""
            },
            "type": "contourcarpet"
           }
          ],
          "heatmap": [
           {
            "colorbar": {
             "outlinewidth": 0,
             "ticks": ""
            },
            "colorscale": [
             [
              0,
              "#0d0887"
             ],
             [
              0.1111111111111111,
              "#46039f"
             ],
             [
              0.2222222222222222,
              "#7201a8"
             ],
             [
              0.3333333333333333,
              "#9c179e"
             ],
             [
              0.4444444444444444,
              "#bd3786"
             ],
             [
              0.5555555555555556,
              "#d8576b"
             ],
             [
              0.6666666666666666,
              "#ed7953"
             ],
             [
              0.7777777777777778,
              "#fb9f3a"
             ],
             [
              0.8888888888888888,
              "#fdca26"
             ],
             [
              1,
              "#f0f921"
             ]
            ],
            "type": "heatmap"
           }
          ],
          "heatmapgl": [
           {
            "colorbar": {
             "outlinewidth": 0,
             "ticks": ""
            },
            "colorscale": [
             [
              0,
              "#0d0887"
             ],
             [
              0.1111111111111111,
              "#46039f"
             ],
             [
              0.2222222222222222,
              "#7201a8"
             ],
             [
              0.3333333333333333,
              "#9c179e"
             ],
             [
              0.4444444444444444,
              "#bd3786"
             ],
             [
              0.5555555555555556,
              "#d8576b"
             ],
             [
              0.6666666666666666,
              "#ed7953"
             ],
             [
              0.7777777777777778,
              "#fb9f3a"
             ],
             [
              0.8888888888888888,
              "#fdca26"
             ],
             [
              1,
              "#f0f921"
             ]
            ],
            "type": "heatmapgl"
           }
          ],
          "histogram": [
           {
            "marker": {
             "pattern": {
              "fillmode": "overlay",
              "size": 10,
              "solidity": 0.2
             }
            },
            "type": "histogram"
           }
          ],
          "histogram2d": [
           {
            "colorbar": {
             "outlinewidth": 0,
             "ticks": ""
            },
            "colorscale": [
             [
              0,
              "#0d0887"
             ],
             [
              0.1111111111111111,
              "#46039f"
             ],
             [
              0.2222222222222222,
              "#7201a8"
             ],
             [
              0.3333333333333333,
              "#9c179e"
             ],
             [
              0.4444444444444444,
              "#bd3786"
             ],
             [
              0.5555555555555556,
              "#d8576b"
             ],
             [
              0.6666666666666666,
              "#ed7953"
             ],
             [
              0.7777777777777778,
              "#fb9f3a"
             ],
             [
              0.8888888888888888,
              "#fdca26"
             ],
             [
              1,
              "#f0f921"
             ]
            ],
            "type": "histogram2d"
           }
          ],
          "histogram2dcontour": [
           {
            "colorbar": {
             "outlinewidth": 0,
             "ticks": ""
            },
            "colorscale": [
             [
              0,
              "#0d0887"
             ],
             [
              0.1111111111111111,
              "#46039f"
             ],
             [
              0.2222222222222222,
              "#7201a8"
             ],
             [
              0.3333333333333333,
              "#9c179e"
             ],
             [
              0.4444444444444444,
              "#bd3786"
             ],
             [
              0.5555555555555556,
              "#d8576b"
             ],
             [
              0.6666666666666666,
              "#ed7953"
             ],
             [
              0.7777777777777778,
              "#fb9f3a"
             ],
             [
              0.8888888888888888,
              "#fdca26"
             ],
             [
              1,
              "#f0f921"
             ]
            ],
            "type": "histogram2dcontour"
           }
          ],
          "mesh3d": [
           {
            "colorbar": {
             "outlinewidth": 0,
             "ticks": ""
            },
            "type": "mesh3d"
           }
          ],
          "parcoords": [
           {
            "line": {
             "colorbar": {
              "outlinewidth": 0,
              "ticks": ""
             }
            },
            "type": "parcoords"
           }
          ],
          "pie": [
           {
            "automargin": true,
            "type": "pie"
           }
          ],
          "scatter": [
           {
            "fillpattern": {
             "fillmode": "overlay",
             "size": 10,
             "solidity": 0.2
            },
            "type": "scatter"
           }
          ],
          "scatter3d": [
           {
            "line": {
             "colorbar": {
              "outlinewidth": 0,
              "ticks": ""
             }
            },
            "marker": {
             "colorbar": {
              "outlinewidth": 0,
              "ticks": ""
             }
            },
            "type": "scatter3d"
           }
          ],
          "scattercarpet": [
           {
            "marker": {
             "colorbar": {
              "outlinewidth": 0,
              "ticks": ""
             }
            },
            "type": "scattercarpet"
           }
          ],
          "scattergeo": [
           {
            "marker": {
             "colorbar": {
              "outlinewidth": 0,
              "ticks": ""
             }
            },
            "type": "scattergeo"
           }
          ],
          "scattergl": [
           {
            "marker": {
             "colorbar": {
              "outlinewidth": 0,
              "ticks": ""
             }
            },
            "type": "scattergl"
           }
          ],
          "scattermapbox": [
           {
            "marker": {
             "colorbar": {
              "outlinewidth": 0,
              "ticks": ""
             }
            },
            "type": "scattermapbox"
           }
          ],
          "scatterpolar": [
           {
            "marker": {
             "colorbar": {
              "outlinewidth": 0,
              "ticks": ""
             }
            },
            "type": "scatterpolar"
           }
          ],
          "scatterpolargl": [
           {
            "marker": {
             "colorbar": {
              "outlinewidth": 0,
              "ticks": ""
             }
            },
            "type": "scatterpolargl"
           }
          ],
          "scatterternary": [
           {
            "marker": {
             "colorbar": {
              "outlinewidth": 0,
              "ticks": ""
             }
            },
            "type": "scatterternary"
           }
          ],
          "surface": [
           {
            "colorbar": {
             "outlinewidth": 0,
             "ticks": ""
            },
            "colorscale": [
             [
              0,
              "#0d0887"
             ],
             [
              0.1111111111111111,
              "#46039f"
             ],
             [
              0.2222222222222222,
              "#7201a8"
             ],
             [
              0.3333333333333333,
              "#9c179e"
             ],
             [
              0.4444444444444444,
              "#bd3786"
             ],
             [
              0.5555555555555556,
              "#d8576b"
             ],
             [
              0.6666666666666666,
              "#ed7953"
             ],
             [
              0.7777777777777778,
              "#fb9f3a"
             ],
             [
              0.8888888888888888,
              "#fdca26"
             ],
             [
              1,
              "#f0f921"
             ]
            ],
            "type": "surface"
           }
          ],
          "table": [
           {
            "cells": {
             "fill": {
              "color": "#EBF0F8"
             },
             "line": {
              "color": "white"
             }
            },
            "header": {
             "fill": {
              "color": "#C8D4E3"
             },
             "line": {
              "color": "white"
             }
            },
            "type": "table"
           }
          ]
         },
         "layout": {
          "annotationdefaults": {
           "arrowcolor": "#2a3f5f",
           "arrowhead": 0,
           "arrowwidth": 1
          },
          "autotypenumbers": "strict",
          "coloraxis": {
           "colorbar": {
            "outlinewidth": 0,
            "ticks": ""
           }
          },
          "colorscale": {
           "diverging": [
            [
             0,
             "#8e0152"
            ],
            [
             0.1,
             "#c51b7d"
            ],
            [
             0.2,
             "#de77ae"
            ],
            [
             0.3,
             "#f1b6da"
            ],
            [
             0.4,
             "#fde0ef"
            ],
            [
             0.5,
             "#f7f7f7"
            ],
            [
             0.6,
             "#e6f5d0"
            ],
            [
             0.7,
             "#b8e186"
            ],
            [
             0.8,
             "#7fbc41"
            ],
            [
             0.9,
             "#4d9221"
            ],
            [
             1,
             "#276419"
            ]
           ],
           "sequential": [
            [
             0,
             "#0d0887"
            ],
            [
             0.1111111111111111,
             "#46039f"
            ],
            [
             0.2222222222222222,
             "#7201a8"
            ],
            [
             0.3333333333333333,
             "#9c179e"
            ],
            [
             0.4444444444444444,
             "#bd3786"
            ],
            [
             0.5555555555555556,
             "#d8576b"
            ],
            [
             0.6666666666666666,
             "#ed7953"
            ],
            [
             0.7777777777777778,
             "#fb9f3a"
            ],
            [
             0.8888888888888888,
             "#fdca26"
            ],
            [
             1,
             "#f0f921"
            ]
           ],
           "sequentialminus": [
            [
             0,
             "#0d0887"
            ],
            [
             0.1111111111111111,
             "#46039f"
            ],
            [
             0.2222222222222222,
             "#7201a8"
            ],
            [
             0.3333333333333333,
             "#9c179e"
            ],
            [
             0.4444444444444444,
             "#bd3786"
            ],
            [
             0.5555555555555556,
             "#d8576b"
            ],
            [
             0.6666666666666666,
             "#ed7953"
            ],
            [
             0.7777777777777778,
             "#fb9f3a"
            ],
            [
             0.8888888888888888,
             "#fdca26"
            ],
            [
             1,
             "#f0f921"
            ]
           ]
          },
          "colorway": [
           "#636efa",
           "#EF553B",
           "#00cc96",
           "#ab63fa",
           "#FFA15A",
           "#19d3f3",
           "#FF6692",
           "#B6E880",
           "#FF97FF",
           "#FECB52"
          ],
          "font": {
           "color": "#2a3f5f"
          },
          "geo": {
           "bgcolor": "white",
           "lakecolor": "white",
           "landcolor": "#E5ECF6",
           "showlakes": true,
           "showland": true,
           "subunitcolor": "white"
          },
          "hoverlabel": {
           "align": "left"
          },
          "hovermode": "closest",
          "mapbox": {
           "style": "light"
          },
          "paper_bgcolor": "white",
          "plot_bgcolor": "#E5ECF6",
          "polar": {
           "angularaxis": {
            "gridcolor": "white",
            "linecolor": "white",
            "ticks": ""
           },
           "bgcolor": "#E5ECF6",
           "radialaxis": {
            "gridcolor": "white",
            "linecolor": "white",
            "ticks": ""
           }
          },
          "scene": {
           "xaxis": {
            "backgroundcolor": "#E5ECF6",
            "gridcolor": "white",
            "gridwidth": 2,
            "linecolor": "white",
            "showbackground": true,
            "ticks": "",
            "zerolinecolor": "white"
           },
           "yaxis": {
            "backgroundcolor": "#E5ECF6",
            "gridcolor": "white",
            "gridwidth": 2,
            "linecolor": "white",
            "showbackground": true,
            "ticks": "",
            "zerolinecolor": "white"
           },
           "zaxis": {
            "backgroundcolor": "#E5ECF6",
            "gridcolor": "white",
            "gridwidth": 2,
            "linecolor": "white",
            "showbackground": true,
            "ticks": "",
            "zerolinecolor": "white"
           }
          },
          "shapedefaults": {
           "line": {
            "color": "#2a3f5f"
           }
          },
          "ternary": {
           "aaxis": {
            "gridcolor": "white",
            "linecolor": "white",
            "ticks": ""
           },
           "baxis": {
            "gridcolor": "white",
            "linecolor": "white",
            "ticks": ""
           },
           "bgcolor": "#E5ECF6",
           "caxis": {
            "gridcolor": "white",
            "linecolor": "white",
            "ticks": ""
           }
          },
          "title": {
           "x": 0.05
          },
          "xaxis": {
           "automargin": true,
           "gridcolor": "white",
           "linecolor": "white",
           "ticks": "",
           "title": {
            "standoff": 15
           },
           "zerolinecolor": "white",
           "zerolinewidth": 2
          },
          "yaxis": {
           "automargin": true,
           "gridcolor": "white",
           "linecolor": "white",
           "ticks": "",
           "title": {
            "standoff": 15
           },
           "zerolinecolor": "white",
           "zerolinewidth": 2
          }
         }
        },
        "xaxis": {
         "anchor": "y",
         "domain": [
          0,
          1
         ],
         "title": {
          "text": "param_n_estimators"
         }
        },
        "yaxis": {
         "anchor": "x",
         "domain": [
          0,
          1
         ],
         "title": {
          "text": "mean_test_error"
         }
        }
       }
      }
     },
     "metadata": {},
     "output_type": "display_data"
    }
   ],
   "source": [
    "results[\"mean_test_error\"] = 1 - results[\"mean_test_score\"]\n",
    "fig = px.line(\n",
    "    results,\n",
    "    x='param_n_estimators',y=\"mean_test_error\", color='param_max_features')\n",
    "fig.show()"
   ]
  },
  {
   "cell_type": "code",
   "execution_count": 4,
   "metadata": {},
   "outputs": [
    {
     "data": {
      "text/html": [
       "<div>\n",
       "<style scoped>\n",
       "    .dataframe tbody tr th:only-of-type {\n",
       "        vertical-align: middle;\n",
       "    }\n",
       "\n",
       "    .dataframe tbody tr th {\n",
       "        vertical-align: top;\n",
       "    }\n",
       "\n",
       "    .dataframe thead th {\n",
       "        text-align: right;\n",
       "    }\n",
       "</style>\n",
       "<table border=\"1\" class=\"dataframe\">\n",
       "  <thead>\n",
       "    <tr style=\"text-align: right;\">\n",
       "      <th></th>\n",
       "      <th>mean_fit_time</th>\n",
       "      <th>std_fit_time</th>\n",
       "      <th>mean_score_time</th>\n",
       "      <th>std_score_time</th>\n",
       "      <th>param_max_features</th>\n",
       "      <th>param_n_estimators</th>\n",
       "      <th>params</th>\n",
       "      <th>split0_test_score</th>\n",
       "      <th>mean_test_score</th>\n",
       "      <th>std_test_score</th>\n",
       "      <th>rank_test_score</th>\n",
       "      <th>split0_train_score</th>\n",
       "      <th>mean_train_score</th>\n",
       "      <th>std_train_score</th>\n",
       "      <th>mean_test_error</th>\n",
       "    </tr>\n",
       "  </thead>\n",
       "  <tbody>\n",
       "    <tr>\n",
       "      <th>144</th>\n",
       "      <td>0.008946</td>\n",
       "      <td>0.0</td>\n",
       "      <td>0.001537</td>\n",
       "      <td>0.0</td>\n",
       "      <td>8</td>\n",
       "      <td>4</td>\n",
       "      <td>{'max_features': 8, 'n_estimators': 4}</td>\n",
       "      <td>0.919787</td>\n",
       "      <td>0.919787</td>\n",
       "      <td>0.0</td>\n",
       "      <td>1</td>\n",
       "      <td>0.961435</td>\n",
       "      <td>0.961435</td>\n",
       "      <td>0.0</td>\n",
       "      <td>0.080213</td>\n",
       "    </tr>\n",
       "    <tr>\n",
       "      <th>218</th>\n",
       "      <td>0.188686</td>\n",
       "      <td>0.0</td>\n",
       "      <td>0.003822</td>\n",
       "      <td>0.0</td>\n",
       "      <td>11</td>\n",
       "      <td>90</td>\n",
       "      <td>{'max_features': 11, 'n_estimators': 90}</td>\n",
       "      <td>0.915960</td>\n",
       "      <td>0.915960</td>\n",
       "      <td>0.0</td>\n",
       "      <td>2</td>\n",
       "      <td>0.979184</td>\n",
       "      <td>0.979184</td>\n",
       "      <td>0.0</td>\n",
       "      <td>0.084040</td>\n",
       "    </tr>\n",
       "    <tr>\n",
       "      <th>219</th>\n",
       "      <td>0.212045</td>\n",
       "      <td>0.0</td>\n",
       "      <td>0.005373</td>\n",
       "      <td>0.0</td>\n",
       "      <td>11</td>\n",
       "      <td>100</td>\n",
       "      <td>{'max_features': 11, 'n_estimators': 100}</td>\n",
       "      <td>0.915818</td>\n",
       "      <td>0.915818</td>\n",
       "      <td>0.0</td>\n",
       "      <td>3</td>\n",
       "      <td>0.979215</td>\n",
       "      <td>0.979215</td>\n",
       "      <td>0.0</td>\n",
       "      <td>0.084182</td>\n",
       "    </tr>\n",
       "    <tr>\n",
       "      <th>239</th>\n",
       "      <td>0.194601</td>\n",
       "      <td>0.0</td>\n",
       "      <td>0.003636</td>\n",
       "      <td>0.0</td>\n",
       "      <td>12</td>\n",
       "      <td>100</td>\n",
       "      <td>{'max_features': 12, 'n_estimators': 100}</td>\n",
       "      <td>0.914740</td>\n",
       "      <td>0.914740</td>\n",
       "      <td>0.0</td>\n",
       "      <td>4</td>\n",
       "      <td>0.979527</td>\n",
       "      <td>0.979527</td>\n",
       "      <td>0.0</td>\n",
       "      <td>0.085260</td>\n",
       "    </tr>\n",
       "    <tr>\n",
       "      <th>217</th>\n",
       "      <td>0.171164</td>\n",
       "      <td>0.0</td>\n",
       "      <td>0.004676</td>\n",
       "      <td>0.0</td>\n",
       "      <td>11</td>\n",
       "      <td>80</td>\n",
       "      <td>{'max_features': 11, 'n_estimators': 80}</td>\n",
       "      <td>0.914579</td>\n",
       "      <td>0.914579</td>\n",
       "      <td>0.0</td>\n",
       "      <td>5</td>\n",
       "      <td>0.979062</td>\n",
       "      <td>0.979062</td>\n",
       "      <td>0.0</td>\n",
       "      <td>0.085421</td>\n",
       "    </tr>\n",
       "    <tr>\n",
       "      <th>238</th>\n",
       "      <td>0.164453</td>\n",
       "      <td>0.0</td>\n",
       "      <td>0.003667</td>\n",
       "      <td>0.0</td>\n",
       "      <td>12</td>\n",
       "      <td>90</td>\n",
       "      <td>{'max_features': 12, 'n_estimators': 90}</td>\n",
       "      <td>0.913956</td>\n",
       "      <td>0.913956</td>\n",
       "      <td>0.0</td>\n",
       "      <td>6</td>\n",
       "      <td>0.979335</td>\n",
       "      <td>0.979335</td>\n",
       "      <td>0.0</td>\n",
       "      <td>0.086044</td>\n",
       "    </tr>\n",
       "    <tr>\n",
       "      <th>216</th>\n",
       "      <td>0.174882</td>\n",
       "      <td>0.0</td>\n",
       "      <td>0.005419</td>\n",
       "      <td>0.0</td>\n",
       "      <td>11</td>\n",
       "      <td>70</td>\n",
       "      <td>{'max_features': 11, 'n_estimators': 70}</td>\n",
       "      <td>0.912350</td>\n",
       "      <td>0.912350</td>\n",
       "      <td>0.0</td>\n",
       "      <td>7</td>\n",
       "      <td>0.979038</td>\n",
       "      <td>0.979038</td>\n",
       "      <td>0.0</td>\n",
       "      <td>0.087650</td>\n",
       "    </tr>\n",
       "    <tr>\n",
       "      <th>237</th>\n",
       "      <td>0.170442</td>\n",
       "      <td>0.0</td>\n",
       "      <td>0.003205</td>\n",
       "      <td>0.0</td>\n",
       "      <td>12</td>\n",
       "      <td>80</td>\n",
       "      <td>{'max_features': 12, 'n_estimators': 80}</td>\n",
       "      <td>0.912103</td>\n",
       "      <td>0.912103</td>\n",
       "      <td>0.0</td>\n",
       "      <td>8</td>\n",
       "      <td>0.978975</td>\n",
       "      <td>0.978975</td>\n",
       "      <td>0.0</td>\n",
       "      <td>0.087897</td>\n",
       "    </tr>\n",
       "    <tr>\n",
       "      <th>215</th>\n",
       "      <td>0.112297</td>\n",
       "      <td>0.0</td>\n",
       "      <td>0.002697</td>\n",
       "      <td>0.0</td>\n",
       "      <td>11</td>\n",
       "      <td>60</td>\n",
       "      <td>{'max_features': 11, 'n_estimators': 60}</td>\n",
       "      <td>0.910752</td>\n",
       "      <td>0.910752</td>\n",
       "      <td>0.0</td>\n",
       "      <td>9</td>\n",
       "      <td>0.978688</td>\n",
       "      <td>0.978688</td>\n",
       "      <td>0.0</td>\n",
       "      <td>0.089248</td>\n",
       "    </tr>\n",
       "    <tr>\n",
       "      <th>236</th>\n",
       "      <td>0.129550</td>\n",
       "      <td>0.0</td>\n",
       "      <td>0.003008</td>\n",
       "      <td>0.0</td>\n",
       "      <td>12</td>\n",
       "      <td>70</td>\n",
       "      <td>{'max_features': 12, 'n_estimators': 70}</td>\n",
       "      <td>0.910155</td>\n",
       "      <td>0.910155</td>\n",
       "      <td>0.0</td>\n",
       "      <td>10</td>\n",
       "      <td>0.978586</td>\n",
       "      <td>0.978586</td>\n",
       "      <td>0.0</td>\n",
       "      <td>0.089845</td>\n",
       "    </tr>\n",
       "  </tbody>\n",
       "</table>\n",
       "</div>"
      ],
      "text/plain": [
       "     mean_fit_time  std_fit_time  mean_score_time  std_score_time  \\\n",
       "144       0.008946           0.0         0.001537             0.0   \n",
       "218       0.188686           0.0         0.003822             0.0   \n",
       "219       0.212045           0.0         0.005373             0.0   \n",
       "239       0.194601           0.0         0.003636             0.0   \n",
       "217       0.171164           0.0         0.004676             0.0   \n",
       "238       0.164453           0.0         0.003667             0.0   \n",
       "216       0.174882           0.0         0.005419             0.0   \n",
       "237       0.170442           0.0         0.003205             0.0   \n",
       "215       0.112297           0.0         0.002697             0.0   \n",
       "236       0.129550           0.0         0.003008             0.0   \n",
       "\n",
       "     param_max_features  param_n_estimators  \\\n",
       "144                   8                   4   \n",
       "218                  11                  90   \n",
       "219                  11                 100   \n",
       "239                  12                 100   \n",
       "217                  11                  80   \n",
       "238                  12                  90   \n",
       "216                  11                  70   \n",
       "237                  12                  80   \n",
       "215                  11                  60   \n",
       "236                  12                  70   \n",
       "\n",
       "                                        params  split0_test_score  \\\n",
       "144     {'max_features': 8, 'n_estimators': 4}           0.919787   \n",
       "218   {'max_features': 11, 'n_estimators': 90}           0.915960   \n",
       "219  {'max_features': 11, 'n_estimators': 100}           0.915818   \n",
       "239  {'max_features': 12, 'n_estimators': 100}           0.914740   \n",
       "217   {'max_features': 11, 'n_estimators': 80}           0.914579   \n",
       "238   {'max_features': 12, 'n_estimators': 90}           0.913956   \n",
       "216   {'max_features': 11, 'n_estimators': 70}           0.912350   \n",
       "237   {'max_features': 12, 'n_estimators': 80}           0.912103   \n",
       "215   {'max_features': 11, 'n_estimators': 60}           0.910752   \n",
       "236   {'max_features': 12, 'n_estimators': 70}           0.910155   \n",
       "\n",
       "     mean_test_score  std_test_score  rank_test_score  split0_train_score  \\\n",
       "144         0.919787             0.0                1            0.961435   \n",
       "218         0.915960             0.0                2            0.979184   \n",
       "219         0.915818             0.0                3            0.979215   \n",
       "239         0.914740             0.0                4            0.979527   \n",
       "217         0.914579             0.0                5            0.979062   \n",
       "238         0.913956             0.0                6            0.979335   \n",
       "216         0.912350             0.0                7            0.979038   \n",
       "237         0.912103             0.0                8            0.978975   \n",
       "215         0.910752             0.0                9            0.978688   \n",
       "236         0.910155             0.0               10            0.978586   \n",
       "\n",
       "     mean_train_score  std_train_score  mean_test_error  \n",
       "144          0.961435              0.0         0.080213  \n",
       "218          0.979184              0.0         0.084040  \n",
       "219          0.979215              0.0         0.084182  \n",
       "239          0.979527              0.0         0.085260  \n",
       "217          0.979062              0.0         0.085421  \n",
       "238          0.979335              0.0         0.086044  \n",
       "216          0.979038              0.0         0.087650  \n",
       "237          0.978975              0.0         0.087897  \n",
       "215          0.978688              0.0         0.089248  \n",
       "236          0.978586              0.0         0.089845  "
      ]
     },
     "execution_count": 4,
     "metadata": {},
     "output_type": "execute_result"
    }
   ],
   "source": [
    "results.sort_values(\"mean_test_error\").head(10)"
   ]
  },
  {
   "cell_type": "code",
   "execution_count": null,
   "metadata": {},
   "outputs": [],
   "source": []
  },
  {
   "cell_type": "markdown",
   "metadata": {},
   "source": [
    "## Question 8\n",
    "In the lab, a classification tree was applied to the Carseats data set af-\n",
    "ter converting Sales into a qualitative response variable. Now we will\n",
    "seek to predict Sales using regression trees and related approaches,\n",
    "treating the response as a quantitative variable."
   ]
  },
  {
   "cell_type": "code",
   "execution_count": 5,
   "metadata": {},
   "outputs": [
    {
     "name": "stdout",
     "output_type": "stream",
     "text": [
      "Train MSE: 3.89\n",
      "Test MSE: 4.01\n"
     ]
    },
    {
     "data": {
      "image/svg+xml": [
       "<?xml version=\"1.0\" encoding=\"UTF-8\" standalone=\"no\"?>\n",
       "<!DOCTYPE svg PUBLIC \"-//W3C//DTD SVG 1.1//EN\"\n",
       " \"http://www.w3.org/Graphics/SVG/1.1/DTD/svg11.dtd\">\n",
       "<!-- Generated by graphviz version 2.43.0 (0)\n",
       " -->\n",
       "<!-- Title: Tree Pages: 1 -->\n",
       "<svg width=\"1342pt\" height=\"373pt\"\n",
       " viewBox=\"0.00 0.00 1342.00 373.00\" xmlns=\"http://www.w3.org/2000/svg\" xmlns:xlink=\"http://www.w3.org/1999/xlink\">\n",
       "<g id=\"graph0\" class=\"graph\" transform=\"scale(1 1) rotate(0) translate(4 369)\">\n",
       "<title>Tree</title>\n",
       "<polygon fill=\"white\" stroke=\"transparent\" points=\"-4,4 -4,-369 1338,-369 1338,4 -4,4\"/>\n",
       "<!-- 0 -->\n",
       "<g id=\"node1\" class=\"node\">\n",
       "<title>0</title>\n",
       "<polygon fill=\"#f7d6bf\" stroke=\"black\" points=\"742,-365 591,-365 591,-297 742,-297 742,-365\"/>\n",
       "<text text-anchor=\"middle\" x=\"666.5\" y=\"-349.8\" font-family=\"Helvetica,sans-Serif\" font-size=\"14.00\">Good &lt;= 0.5</text>\n",
       "<text text-anchor=\"middle\" x=\"666.5\" y=\"-334.8\" font-family=\"Helvetica,sans-Serif\" font-size=\"14.00\">squared_error = 8.188</text>\n",
       "<text text-anchor=\"middle\" x=\"666.5\" y=\"-319.8\" font-family=\"Helvetica,sans-Serif\" font-size=\"14.00\">samples = 320</text>\n",
       "<text text-anchor=\"middle\" x=\"666.5\" y=\"-304.8\" font-family=\"Helvetica,sans-Serif\" font-size=\"14.00\">value = 7.409</text>\n",
       "</g>\n",
       "<!-- 1 -->\n",
       "<g id=\"node2\" class=\"node\">\n",
       "<title>1</title>\n",
       "<polygon fill=\"#f9e0ce\" stroke=\"black\" points=\"573,-261 422,-261 422,-193 573,-193 573,-261\"/>\n",
       "<text text-anchor=\"middle\" x=\"497.5\" y=\"-245.8\" font-family=\"Helvetica,sans-Serif\" font-size=\"14.00\">Price &lt;= 106.5</text>\n",
       "<text text-anchor=\"middle\" x=\"497.5\" y=\"-230.8\" font-family=\"Helvetica,sans-Serif\" font-size=\"14.00\">squared_error = 6.223</text>\n",
       "<text text-anchor=\"middle\" x=\"497.5\" y=\"-215.8\" font-family=\"Helvetica,sans-Serif\" font-size=\"14.00\">samples = 256</text>\n",
       "<text text-anchor=\"middle\" x=\"497.5\" y=\"-200.8\" font-family=\"Helvetica,sans-Serif\" font-size=\"14.00\">value = 6.741</text>\n",
       "</g>\n",
       "<!-- 0&#45;&gt;1 -->\n",
       "<g id=\"edge1\" class=\"edge\">\n",
       "<title>0&#45;&gt;1</title>\n",
       "<path fill=\"none\" stroke=\"black\" d=\"M611.63,-296.88C595.46,-287.12 577.64,-276.37 560.97,-266.31\"/>\n",
       "<polygon fill=\"black\" stroke=\"black\" points=\"562.75,-263.3 552.38,-261.12 559.14,-269.29 562.75,-263.3\"/>\n",
       "<text text-anchor=\"middle\" x=\"558.38\" y=\"-281.69\" font-family=\"Helvetica,sans-Serif\" font-size=\"14.00\">True</text>\n",
       "</g>\n",
       "<!-- 8 -->\n",
       "<g id=\"node9\" class=\"node\">\n",
       "<title>8</title>\n",
       "<polygon fill=\"#efb083\" stroke=\"black\" points=\"911,-261 760,-261 760,-193 911,-193 911,-261\"/>\n",
       "<text text-anchor=\"middle\" x=\"835.5\" y=\"-245.8\" font-family=\"Helvetica,sans-Serif\" font-size=\"14.00\">Price &lt;= 109.5</text>\n",
       "<text text-anchor=\"middle\" x=\"835.5\" y=\"-230.8\" font-family=\"Helvetica,sans-Serif\" font-size=\"14.00\">squared_error = 7.121</text>\n",
       "<text text-anchor=\"middle\" x=\"835.5\" y=\"-215.8\" font-family=\"Helvetica,sans-Serif\" font-size=\"14.00\">samples = 64</text>\n",
       "<text text-anchor=\"middle\" x=\"835.5\" y=\"-200.8\" font-family=\"Helvetica,sans-Serif\" font-size=\"14.00\">value = 10.081</text>\n",
       "</g>\n",
       "<!-- 0&#45;&gt;8 -->\n",
       "<g id=\"edge8\" class=\"edge\">\n",
       "<title>0&#45;&gt;8</title>\n",
       "<path fill=\"none\" stroke=\"black\" d=\"M721.37,-296.88C737.54,-287.12 755.36,-276.37 772.03,-266.31\"/>\n",
       "<polygon fill=\"black\" stroke=\"black\" points=\"773.86,-269.29 780.62,-261.12 770.25,-263.3 773.86,-269.29\"/>\n",
       "<text text-anchor=\"middle\" x=\"774.62\" y=\"-281.69\" font-family=\"Helvetica,sans-Serif\" font-size=\"14.00\">False</text>\n",
       "</g>\n",
       "<!-- 2 -->\n",
       "<g id=\"node3\" class=\"node\">\n",
       "<title>2</title>\n",
       "<polygon fill=\"#f4cbae\" stroke=\"black\" points=\"320,-157 169,-157 169,-89 320,-89 320,-157\"/>\n",
       "<text text-anchor=\"middle\" x=\"244.5\" y=\"-141.8\" font-family=\"Helvetica,sans-Serif\" font-size=\"14.00\">Age &lt;= 54.5</text>\n",
       "<text text-anchor=\"middle\" x=\"244.5\" y=\"-126.8\" font-family=\"Helvetica,sans-Serif\" font-size=\"14.00\">squared_error = 5.266</text>\n",
       "<text text-anchor=\"middle\" x=\"244.5\" y=\"-111.8\" font-family=\"Helvetica,sans-Serif\" font-size=\"14.00\">samples = 91</text>\n",
       "<text text-anchor=\"middle\" x=\"244.5\" y=\"-96.8\" font-family=\"Helvetica,sans-Serif\" font-size=\"14.00\">value = 8.191</text>\n",
       "</g>\n",
       "<!-- 1&#45;&gt;2 -->\n",
       "<g id=\"edge2\" class=\"edge\">\n",
       "<title>1&#45;&gt;2</title>\n",
       "<path fill=\"none\" stroke=\"black\" d=\"M421.93,-195.53C392.9,-183.83 359.56,-170.39 329.68,-158.34\"/>\n",
       "<polygon fill=\"black\" stroke=\"black\" points=\"330.7,-154.98 320.11,-154.48 328.08,-161.47 330.7,-154.98\"/>\n",
       "</g>\n",
       "<!-- 5 -->\n",
       "<g id=\"node6\" class=\"node\">\n",
       "<title>5</title>\n",
       "<polygon fill=\"#fbebe0\" stroke=\"black\" points=\"573,-157 422,-157 422,-89 573,-89 573,-157\"/>\n",
       "<text text-anchor=\"middle\" x=\"497.5\" y=\"-141.8\" font-family=\"Helvetica,sans-Serif\" font-size=\"14.00\">Bad &lt;= 0.5</text>\n",
       "<text text-anchor=\"middle\" x=\"497.5\" y=\"-126.8\" font-family=\"Helvetica,sans-Serif\" font-size=\"14.00\">squared_error = 4.952</text>\n",
       "<text text-anchor=\"middle\" x=\"497.5\" y=\"-111.8\" font-family=\"Helvetica,sans-Serif\" font-size=\"14.00\">samples = 165</text>\n",
       "<text text-anchor=\"middle\" x=\"497.5\" y=\"-96.8\" font-family=\"Helvetica,sans-Serif\" font-size=\"14.00\">value = 5.941</text>\n",
       "</g>\n",
       "<!-- 1&#45;&gt;5 -->\n",
       "<g id=\"edge5\" class=\"edge\">\n",
       "<title>1&#45;&gt;5</title>\n",
       "<path fill=\"none\" stroke=\"black\" d=\"M497.5,-192.88C497.5,-184.78 497.5,-175.98 497.5,-167.47\"/>\n",
       "<polygon fill=\"black\" stroke=\"black\" points=\"501,-167.3 497.5,-157.3 494,-167.3 501,-167.3\"/>\n",
       "</g>\n",
       "<!-- 3 -->\n",
       "<g id=\"node4\" class=\"node\">\n",
       "<title>3</title>\n",
       "<polygon fill=\"#f0b88f\" stroke=\"black\" points=\"151,-53 0,-53 0,0 151,0 151,-53\"/>\n",
       "<text text-anchor=\"middle\" x=\"75.5\" y=\"-37.8\" font-family=\"Helvetica,sans-Serif\" font-size=\"14.00\">squared_error = 3.931</text>\n",
       "<text text-anchor=\"middle\" x=\"75.5\" y=\"-22.8\" font-family=\"Helvetica,sans-Serif\" font-size=\"14.00\">samples = 38</text>\n",
       "<text text-anchor=\"middle\" x=\"75.5\" y=\"-7.8\" font-family=\"Helvetica,sans-Serif\" font-size=\"14.00\">value = 9.55</text>\n",
       "</g>\n",
       "<!-- 2&#45;&gt;3 -->\n",
       "<g id=\"edge3\" class=\"edge\">\n",
       "<title>2&#45;&gt;3</title>\n",
       "<path fill=\"none\" stroke=\"black\" d=\"M185.39,-88.95C167.48,-78.93 147.89,-67.98 130.27,-58.13\"/>\n",
       "<polygon fill=\"black\" stroke=\"black\" points=\"131.69,-54.91 121.26,-53.09 128.28,-61.02 131.69,-54.91\"/>\n",
       "</g>\n",
       "<!-- 4 -->\n",
       "<g id=\"node5\" class=\"node\">\n",
       "<title>4</title>\n",
       "<polygon fill=\"#f7d9c4\" stroke=\"black\" points=\"320,-53 169,-53 169,0 320,0 320,-53\"/>\n",
       "<text text-anchor=\"middle\" x=\"244.5\" y=\"-37.8\" font-family=\"Helvetica,sans-Serif\" font-size=\"14.00\">squared_error = 3.951</text>\n",
       "<text text-anchor=\"middle\" x=\"244.5\" y=\"-22.8\" font-family=\"Helvetica,sans-Serif\" font-size=\"14.00\">samples = 53</text>\n",
       "<text text-anchor=\"middle\" x=\"244.5\" y=\"-7.8\" font-family=\"Helvetica,sans-Serif\" font-size=\"14.00\">value = 7.217</text>\n",
       "</g>\n",
       "<!-- 2&#45;&gt;4 -->\n",
       "<g id=\"edge4\" class=\"edge\">\n",
       "<title>2&#45;&gt;4</title>\n",
       "<path fill=\"none\" stroke=\"black\" d=\"M244.5,-88.95C244.5,-80.72 244.5,-71.85 244.5,-63.48\"/>\n",
       "<polygon fill=\"black\" stroke=\"black\" points=\"248,-63.24 244.5,-53.24 241,-63.24 248,-63.24\"/>\n",
       "</g>\n",
       "<!-- 6 -->\n",
       "<g id=\"node7\" class=\"node\">\n",
       "<title>6</title>\n",
       "<polygon fill=\"#f9e3d2\" stroke=\"black\" points=\"489,-53 338,-53 338,0 489,0 489,-53\"/>\n",
       "<text text-anchor=\"middle\" x=\"413.5\" y=\"-37.8\" font-family=\"Helvetica,sans-Serif\" font-size=\"14.00\">squared_error = 4.134</text>\n",
       "<text text-anchor=\"middle\" x=\"413.5\" y=\"-22.8\" font-family=\"Helvetica,sans-Serif\" font-size=\"14.00\">samples = 114</text>\n",
       "<text text-anchor=\"middle\" x=\"413.5\" y=\"-7.8\" font-family=\"Helvetica,sans-Serif\" font-size=\"14.00\">value = 6.556</text>\n",
       "</g>\n",
       "<!-- 5&#45;&gt;6 -->\n",
       "<g id=\"edge6\" class=\"edge\">\n",
       "<title>5&#45;&gt;6</title>\n",
       "<path fill=\"none\" stroke=\"black\" d=\"M468.12,-88.95C459.99,-79.8 451.16,-69.87 443.02,-60.71\"/>\n",
       "<polygon fill=\"black\" stroke=\"black\" points=\"445.64,-58.39 436.38,-53.24 440.4,-63.04 445.64,-58.39\"/>\n",
       "</g>\n",
       "<!-- 7 -->\n",
       "<g id=\"node8\" class=\"node\">\n",
       "<title>7</title>\n",
       "<polygon fill=\"#ffffff\" stroke=\"black\" points=\"658,-53 507,-53 507,0 658,0 658,-53\"/>\n",
       "<text text-anchor=\"middle\" x=\"582.5\" y=\"-37.8\" font-family=\"Helvetica,sans-Serif\" font-size=\"14.00\">squared_error = 4.046</text>\n",
       "<text text-anchor=\"middle\" x=\"582.5\" y=\"-22.8\" font-family=\"Helvetica,sans-Serif\" font-size=\"14.00\">samples = 51</text>\n",
       "<text text-anchor=\"middle\" x=\"582.5\" y=\"-7.8\" font-family=\"Helvetica,sans-Serif\" font-size=\"14.00\">value = 4.567</text>\n",
       "</g>\n",
       "<!-- 5&#45;&gt;7 -->\n",
       "<g id=\"edge7\" class=\"edge\">\n",
       "<title>5&#45;&gt;7</title>\n",
       "<path fill=\"none\" stroke=\"black\" d=\"M527.23,-88.95C535.46,-79.8 544.39,-69.87 552.63,-60.71\"/>\n",
       "<polygon fill=\"black\" stroke=\"black\" points=\"555.27,-63.01 559.35,-53.24 550.06,-58.33 555.27,-63.01\"/>\n",
       "</g>\n",
       "<!-- 9 -->\n",
       "<g id=\"node10\" class=\"node\">\n",
       "<title>9</title>\n",
       "<polygon fill=\"#e89051\" stroke=\"black\" points=\"911,-157 760,-157 760,-89 911,-89 911,-157\"/>\n",
       "<text text-anchor=\"middle\" x=\"835.5\" y=\"-141.8\" font-family=\"Helvetica,sans-Serif\" font-size=\"14.00\">Age &lt;= 55.5</text>\n",
       "<text text-anchor=\"middle\" x=\"835.5\" y=\"-126.8\" font-family=\"Helvetica,sans-Serif\" font-size=\"14.00\">squared_error = 3.705</text>\n",
       "<text text-anchor=\"middle\" x=\"835.5\" y=\"-111.8\" font-family=\"Helvetica,sans-Serif\" font-size=\"14.00\">samples = 21</text>\n",
       "<text text-anchor=\"middle\" x=\"835.5\" y=\"-96.8\" font-family=\"Helvetica,sans-Serif\" font-size=\"14.00\">value = 12.334</text>\n",
       "</g>\n",
       "<!-- 8&#45;&gt;9 -->\n",
       "<g id=\"edge9\" class=\"edge\">\n",
       "<title>8&#45;&gt;9</title>\n",
       "<path fill=\"none\" stroke=\"black\" d=\"M835.5,-192.88C835.5,-184.78 835.5,-175.98 835.5,-167.47\"/>\n",
       "<polygon fill=\"black\" stroke=\"black\" points=\"839,-167.3 835.5,-157.3 832,-167.3 839,-167.3\"/>\n",
       "</g>\n",
       "<!-- 12 -->\n",
       "<g id=\"node13\" class=\"node\">\n",
       "<title>12</title>\n",
       "<polygon fill=\"#f2c09c\" stroke=\"black\" points=\"1157.5,-157 1021.5,-157 1021.5,-89 1157.5,-89 1157.5,-157\"/>\n",
       "<text text-anchor=\"middle\" x=\"1089.5\" y=\"-141.8\" font-family=\"Helvetica,sans-Serif\" font-size=\"14.00\">Advertising &lt;= 13.5</text>\n",
       "<text text-anchor=\"middle\" x=\"1089.5\" y=\"-126.8\" font-family=\"Helvetica,sans-Serif\" font-size=\"14.00\">squared_error = 5.1</text>\n",
       "<text text-anchor=\"middle\" x=\"1089.5\" y=\"-111.8\" font-family=\"Helvetica,sans-Serif\" font-size=\"14.00\">samples = 43</text>\n",
       "<text text-anchor=\"middle\" x=\"1089.5\" y=\"-96.8\" font-family=\"Helvetica,sans-Serif\" font-size=\"14.00\">value = 8.981</text>\n",
       "</g>\n",
       "<!-- 8&#45;&gt;12 -->\n",
       "<g id=\"edge12\" class=\"edge\">\n",
       "<title>8&#45;&gt;12</title>\n",
       "<path fill=\"none\" stroke=\"black\" d=\"M911.02,-195.67C942.83,-182.9 979.83,-168.04 1011.86,-155.18\"/>\n",
       "<polygon fill=\"black\" stroke=\"black\" points=\"1013.22,-158.4 1021.19,-151.43 1010.61,-151.91 1013.22,-158.4\"/>\n",
       "</g>\n",
       "<!-- 10 -->\n",
       "<g id=\"node11\" class=\"node\">\n",
       "<title>10</title>\n",
       "<polygon fill=\"#e58139\" stroke=\"black\" points=\"827,-53 676,-53 676,0 827,0 827,-53\"/>\n",
       "<text text-anchor=\"middle\" x=\"751.5\" y=\"-37.8\" font-family=\"Helvetica,sans-Serif\" font-size=\"14.00\">squared_error = 2.928</text>\n",
       "<text text-anchor=\"middle\" x=\"751.5\" y=\"-22.8\" font-family=\"Helvetica,sans-Serif\" font-size=\"14.00\">samples = 11</text>\n",
       "<text text-anchor=\"middle\" x=\"751.5\" y=\"-7.8\" font-family=\"Helvetica,sans-Serif\" font-size=\"14.00\">value = 13.395</text>\n",
       "</g>\n",
       "<!-- 9&#45;&gt;10 -->\n",
       "<g id=\"edge10\" class=\"edge\">\n",
       "<title>9&#45;&gt;10</title>\n",
       "<path fill=\"none\" stroke=\"black\" d=\"M806.12,-88.95C797.99,-79.8 789.16,-69.87 781.02,-60.71\"/>\n",
       "<polygon fill=\"black\" stroke=\"black\" points=\"783.64,-58.39 774.38,-53.24 778.4,-63.04 783.64,-58.39\"/>\n",
       "</g>\n",
       "<!-- 11 -->\n",
       "<g id=\"node12\" class=\"node\">\n",
       "<title>11</title>\n",
       "<polygon fill=\"#eca16b\" stroke=\"black\" points=\"996,-53 845,-53 845,0 996,0 996,-53\"/>\n",
       "<text text-anchor=\"middle\" x=\"920.5\" y=\"-37.8\" font-family=\"Helvetica,sans-Serif\" font-size=\"14.00\">squared_error = 1.964</text>\n",
       "<text text-anchor=\"middle\" x=\"920.5\" y=\"-22.8\" font-family=\"Helvetica,sans-Serif\" font-size=\"14.00\">samples = 10</text>\n",
       "<text text-anchor=\"middle\" x=\"920.5\" y=\"-7.8\" font-family=\"Helvetica,sans-Serif\" font-size=\"14.00\">value = 11.168</text>\n",
       "</g>\n",
       "<!-- 9&#45;&gt;11 -->\n",
       "<g id=\"edge11\" class=\"edge\">\n",
       "<title>9&#45;&gt;11</title>\n",
       "<path fill=\"none\" stroke=\"black\" d=\"M865.23,-88.95C873.46,-79.8 882.39,-69.87 890.63,-60.71\"/>\n",
       "<polygon fill=\"black\" stroke=\"black\" points=\"893.27,-63.01 897.35,-53.24 888.06,-58.33 893.27,-63.01\"/>\n",
       "</g>\n",
       "<!-- 13 -->\n",
       "<g id=\"node14\" class=\"node\">\n",
       "<title>13</title>\n",
       "<polygon fill=\"#f4c8a8\" stroke=\"black\" points=\"1165,-53 1014,-53 1014,0 1165,0 1165,-53\"/>\n",
       "<text text-anchor=\"middle\" x=\"1089.5\" y=\"-37.8\" font-family=\"Helvetica,sans-Serif\" font-size=\"14.00\">squared_error = 3.991</text>\n",
       "<text text-anchor=\"middle\" x=\"1089.5\" y=\"-22.8\" font-family=\"Helvetica,sans-Serif\" font-size=\"14.00\">samples = 36</text>\n",
       "<text text-anchor=\"middle\" x=\"1089.5\" y=\"-7.8\" font-family=\"Helvetica,sans-Serif\" font-size=\"14.00\">value = 8.448</text>\n",
       "</g>\n",
       "<!-- 12&#45;&gt;13 -->\n",
       "<g id=\"edge13\" class=\"edge\">\n",
       "<title>12&#45;&gt;13</title>\n",
       "<path fill=\"none\" stroke=\"black\" d=\"M1089.5,-88.95C1089.5,-80.72 1089.5,-71.85 1089.5,-63.48\"/>\n",
       "<polygon fill=\"black\" stroke=\"black\" points=\"1093,-63.24 1089.5,-53.24 1086,-63.24 1093,-63.24\"/>\n",
       "</g>\n",
       "<!-- 14 -->\n",
       "<g id=\"node15\" class=\"node\">\n",
       "<title>14</title>\n",
       "<polygon fill=\"#ea995f\" stroke=\"black\" points=\"1334,-53 1183,-53 1183,0 1334,0 1334,-53\"/>\n",
       "<text text-anchor=\"middle\" x=\"1258.5\" y=\"-37.8\" font-family=\"Helvetica,sans-Serif\" font-size=\"14.00\">squared_error = 1.833</text>\n",
       "<text text-anchor=\"middle\" x=\"1258.5\" y=\"-22.8\" font-family=\"Helvetica,sans-Serif\" font-size=\"14.00\">samples = 7</text>\n",
       "<text text-anchor=\"middle\" x=\"1258.5\" y=\"-7.8\" font-family=\"Helvetica,sans-Serif\" font-size=\"14.00\">value = 11.721</text>\n",
       "</g>\n",
       "<!-- 12&#45;&gt;14 -->\n",
       "<g id=\"edge14\" class=\"edge\">\n",
       "<title>12&#45;&gt;14</title>\n",
       "<path fill=\"none\" stroke=\"black\" d=\"M1148.61,-88.95C1166.52,-78.93 1186.11,-67.98 1203.73,-58.13\"/>\n",
       "<polygon fill=\"black\" stroke=\"black\" points=\"1205.72,-61.02 1212.74,-53.09 1202.31,-54.91 1205.72,-61.02\"/>\n",
       "</g>\n",
       "</g>\n",
       "</svg>\n"
      ],
      "text/plain": [
       "<graphviz.sources.Source at 0x74c3643c7610>"
      ]
     },
     "metadata": {},
     "output_type": "display_data"
    }
   ],
   "source": [
    "import graphviz\n",
    "\n",
    "from IPython.display import display\n",
    "from sklearn.metrics import mean_squared_error\n",
    "from sklearn.preprocessing import StandardScaler\n",
    "from sklearn.tree import DecisionTreeRegressor, export_graphviz\n",
    "from sklearn.model_selection import train_test_split\n",
    "\n",
    "carseats = load_data('Carseats')\n",
    "\n",
    "scaler = StandardScaler()\n",
    "\n",
    "X = carseats.drop(\"Sales\", axis=1)\n",
    "X[\"Urban\"] = X[\"Urban\"].map({\"No\": 0, \"Yes\": 1})\n",
    "X[\"US\"] = X[\"US\"].map({\"No\": 0, \"Yes\": 1})\n",
    "X[\"ShelveLoc\"] = X[\"ShelveLoc\"].map({\"Bad\": 0, \"Medium\": 1, \"Good\": 2})\n",
    "X[\"Bad\"] = X[\"ShelveLoc\"] == 0\n",
    "X[\"Medium\"] = X[\"ShelveLoc\"] == 1\n",
    "X[\"Good\"] = X[\"ShelveLoc\"] == 2\n",
    "X = X.drop(\"ShelveLoc\", axis=1)\n",
    "\n",
    "y = carseats[\"Sales\"]\n",
    "\n",
    "X_train, X_test, y_train, y_test = train_test_split(X, y, test_size=0.2, random_state=0)\n",
    "\n",
    "tree = DecisionTreeRegressor(max_depth=3, random_state=0)\n",
    "tree.fit(X_train, y_train)\n",
    "\n",
    "y_train_pred = tree.predict(X_train)\n",
    "y_test_pred = tree.predict(X_test)\n",
    "\n",
    "train_loss = mean_squared_error(y_train, y_train_pred)\n",
    "test_loss = mean_squared_error(y_test, y_test_pred)\n",
    "print(f\"Train MSE: {train_loss:.2f}\")\n",
    "print(f\"Test MSE: {test_loss:.2f}\")\n",
    "\n",
    "\n",
    "display(graphviz.Source(export_graphviz(tree, out_file=None, feature_names=X.columns, filled=True)))"
   ]
  },
  {
   "cell_type": "code",
   "execution_count": 6,
   "metadata": {},
   "outputs": [
    {
     "data": {
      "text/html": [
       "<div>\n",
       "<style scoped>\n",
       "    .dataframe tbody tr th:only-of-type {\n",
       "        vertical-align: middle;\n",
       "    }\n",
       "\n",
       "    .dataframe tbody tr th {\n",
       "        vertical-align: top;\n",
       "    }\n",
       "\n",
       "    .dataframe thead th {\n",
       "        text-align: right;\n",
       "    }\n",
       "</style>\n",
       "<table border=\"1\" class=\"dataframe\">\n",
       "  <thead>\n",
       "    <tr style=\"text-align: right;\">\n",
       "      <th></th>\n",
       "      <th>Sales</th>\n",
       "      <th>CompPrice</th>\n",
       "      <th>Income</th>\n",
       "      <th>Advertising</th>\n",
       "      <th>Population</th>\n",
       "      <th>Price</th>\n",
       "      <th>ShelveLoc</th>\n",
       "      <th>Age</th>\n",
       "      <th>Education</th>\n",
       "      <th>Urban</th>\n",
       "      <th>US</th>\n",
       "    </tr>\n",
       "  </thead>\n",
       "  <tbody>\n",
       "    <tr>\n",
       "      <th>0</th>\n",
       "      <td>9.50</td>\n",
       "      <td>138</td>\n",
       "      <td>73</td>\n",
       "      <td>11</td>\n",
       "      <td>276</td>\n",
       "      <td>120</td>\n",
       "      <td>Bad</td>\n",
       "      <td>42</td>\n",
       "      <td>17</td>\n",
       "      <td>Yes</td>\n",
       "      <td>Yes</td>\n",
       "    </tr>\n",
       "    <tr>\n",
       "      <th>1</th>\n",
       "      <td>11.22</td>\n",
       "      <td>111</td>\n",
       "      <td>48</td>\n",
       "      <td>16</td>\n",
       "      <td>260</td>\n",
       "      <td>83</td>\n",
       "      <td>Good</td>\n",
       "      <td>65</td>\n",
       "      <td>10</td>\n",
       "      <td>Yes</td>\n",
       "      <td>Yes</td>\n",
       "    </tr>\n",
       "    <tr>\n",
       "      <th>2</th>\n",
       "      <td>10.06</td>\n",
       "      <td>113</td>\n",
       "      <td>35</td>\n",
       "      <td>10</td>\n",
       "      <td>269</td>\n",
       "      <td>80</td>\n",
       "      <td>Medium</td>\n",
       "      <td>59</td>\n",
       "      <td>12</td>\n",
       "      <td>Yes</td>\n",
       "      <td>Yes</td>\n",
       "    </tr>\n",
       "    <tr>\n",
       "      <th>3</th>\n",
       "      <td>7.40</td>\n",
       "      <td>117</td>\n",
       "      <td>100</td>\n",
       "      <td>4</td>\n",
       "      <td>466</td>\n",
       "      <td>97</td>\n",
       "      <td>Medium</td>\n",
       "      <td>55</td>\n",
       "      <td>14</td>\n",
       "      <td>Yes</td>\n",
       "      <td>Yes</td>\n",
       "    </tr>\n",
       "    <tr>\n",
       "      <th>4</th>\n",
       "      <td>4.15</td>\n",
       "      <td>141</td>\n",
       "      <td>64</td>\n",
       "      <td>3</td>\n",
       "      <td>340</td>\n",
       "      <td>128</td>\n",
       "      <td>Bad</td>\n",
       "      <td>38</td>\n",
       "      <td>13</td>\n",
       "      <td>Yes</td>\n",
       "      <td>No</td>\n",
       "    </tr>\n",
       "  </tbody>\n",
       "</table>\n",
       "</div>"
      ],
      "text/plain": [
       "   Sales  CompPrice  Income  Advertising  Population  Price ShelveLoc  Age  \\\n",
       "0   9.50        138      73           11         276    120       Bad   42   \n",
       "1  11.22        111      48           16         260     83      Good   65   \n",
       "2  10.06        113      35           10         269     80    Medium   59   \n",
       "3   7.40        117     100            4         466     97    Medium   55   \n",
       "4   4.15        141      64            3         340    128       Bad   38   \n",
       "\n",
       "   Education Urban   US  \n",
       "0         17   Yes  Yes  \n",
       "1         10   Yes  Yes  \n",
       "2         12   Yes  Yes  \n",
       "3         14   Yes  Yes  \n",
       "4         13   Yes   No  "
      ]
     },
     "execution_count": 6,
     "metadata": {},
     "output_type": "execute_result"
    }
   ],
   "source": [
    "carseats.head()"
   ]
  },
  {
   "cell_type": "code",
   "execution_count": 7,
   "metadata": {},
   "outputs": [
    {
     "name": "stdout",
     "output_type": "stream",
     "text": [
      "Fitting 5 folds for each of 10 candidates, totalling 50 fits\n"
     ]
    },
    {
     "name": "stderr",
     "output_type": "stream",
     "text": [
      "/home/albert/miniforge3/envs/islp/lib/python3.11/site-packages/numpy/ma/core.py:2820: RuntimeWarning:\n",
      "\n",
      "invalid value encountered in cast\n",
      "\n"
     ]
    },
    {
     "data": {
      "text/html": [
       "<div>\n",
       "<style scoped>\n",
       "    .dataframe tbody tr th:only-of-type {\n",
       "        vertical-align: middle;\n",
       "    }\n",
       "\n",
       "    .dataframe tbody tr th {\n",
       "        vertical-align: top;\n",
       "    }\n",
       "\n",
       "    .dataframe thead th {\n",
       "        text-align: right;\n",
       "    }\n",
       "</style>\n",
       "<table border=\"1\" class=\"dataframe\">\n",
       "  <thead>\n",
       "    <tr style=\"text-align: right;\">\n",
       "      <th></th>\n",
       "      <th>mean_fit_time</th>\n",
       "      <th>std_fit_time</th>\n",
       "      <th>mean_score_time</th>\n",
       "      <th>std_score_time</th>\n",
       "      <th>param_max_depth</th>\n",
       "      <th>params</th>\n",
       "      <th>split0_test_score</th>\n",
       "      <th>split1_test_score</th>\n",
       "      <th>split2_test_score</th>\n",
       "      <th>split3_test_score</th>\n",
       "      <th>...</th>\n",
       "      <th>std_test_score</th>\n",
       "      <th>rank_test_score</th>\n",
       "      <th>split0_train_score</th>\n",
       "      <th>split1_train_score</th>\n",
       "      <th>split2_train_score</th>\n",
       "      <th>split3_train_score</th>\n",
       "      <th>split4_train_score</th>\n",
       "      <th>mean_train_score</th>\n",
       "      <th>std_train_score</th>\n",
       "      <th>mean_test_error</th>\n",
       "    </tr>\n",
       "  </thead>\n",
       "  <tbody>\n",
       "    <tr>\n",
       "      <th>6</th>\n",
       "      <td>0.002701</td>\n",
       "      <td>0.000388</td>\n",
       "      <td>0.001398</td>\n",
       "      <td>0.000188</td>\n",
       "      <td>7</td>\n",
       "      <td>{'max_depth': 7}</td>\n",
       "      <td>0.366617</td>\n",
       "      <td>0.492523</td>\n",
       "      <td>0.183373</td>\n",
       "      <td>0.491373</td>\n",
       "      <td>...</td>\n",
       "      <td>0.122167</td>\n",
       "      <td>1</td>\n",
       "      <td>0.933286</td>\n",
       "      <td>0.942661</td>\n",
       "      <td>0.931358</td>\n",
       "      <td>0.914764</td>\n",
       "      <td>0.917451</td>\n",
       "      <td>0.927904</td>\n",
       "      <td>0.010398</td>\n",
       "      <td>0.593328</td>\n",
       "    </tr>\n",
       "    <tr>\n",
       "      <th>5</th>\n",
       "      <td>0.002970</td>\n",
       "      <td>0.000256</td>\n",
       "      <td>0.001247</td>\n",
       "      <td>0.000169</td>\n",
       "      <td>6</td>\n",
       "      <td>{'max_depth': 6}</td>\n",
       "      <td>0.395366</td>\n",
       "      <td>0.476829</td>\n",
       "      <td>0.254010</td>\n",
       "      <td>0.406124</td>\n",
       "      <td>...</td>\n",
       "      <td>0.077268</td>\n",
       "      <td>2</td>\n",
       "      <td>0.867507</td>\n",
       "      <td>0.872997</td>\n",
       "      <td>0.875627</td>\n",
       "      <td>0.861919</td>\n",
       "      <td>0.862578</td>\n",
       "      <td>0.868126</td>\n",
       "      <td>0.005471</td>\n",
       "      <td>0.603276</td>\n",
       "    </tr>\n",
       "    <tr>\n",
       "      <th>2</th>\n",
       "      <td>0.002845</td>\n",
       "      <td>0.000158</td>\n",
       "      <td>0.001461</td>\n",
       "      <td>0.000170</td>\n",
       "      <td>3</td>\n",
       "      <td>{'max_depth': 3}</td>\n",
       "      <td>0.343435</td>\n",
       "      <td>0.528483</td>\n",
       "      <td>0.299872</td>\n",
       "      <td>0.375075</td>\n",
       "      <td>...</td>\n",
       "      <td>0.077630</td>\n",
       "      <td>3</td>\n",
       "      <td>0.529251</td>\n",
       "      <td>0.509871</td>\n",
       "      <td>0.551593</td>\n",
       "      <td>0.544475</td>\n",
       "      <td>0.542201</td>\n",
       "      <td>0.535478</td>\n",
       "      <td>0.014699</td>\n",
       "      <td>0.618201</td>\n",
       "    </tr>\n",
       "    <tr>\n",
       "      <th>9</th>\n",
       "      <td>0.002843</td>\n",
       "      <td>0.000339</td>\n",
       "      <td>0.001238</td>\n",
       "      <td>0.000209</td>\n",
       "      <td>10</td>\n",
       "      <td>{'max_depth': 10}</td>\n",
       "      <td>0.321334</td>\n",
       "      <td>0.436443</td>\n",
       "      <td>0.251714</td>\n",
       "      <td>0.477799</td>\n",
       "      <td>...</td>\n",
       "      <td>0.081394</td>\n",
       "      <td>4</td>\n",
       "      <td>0.991585</td>\n",
       "      <td>0.999411</td>\n",
       "      <td>0.994700</td>\n",
       "      <td>0.985515</td>\n",
       "      <td>0.991436</td>\n",
       "      <td>0.992530</td>\n",
       "      <td>0.004547</td>\n",
       "      <td>0.622083</td>\n",
       "    </tr>\n",
       "    <tr>\n",
       "      <th>8</th>\n",
       "      <td>0.002719</td>\n",
       "      <td>0.000470</td>\n",
       "      <td>0.001275</td>\n",
       "      <td>0.000231</td>\n",
       "      <td>9</td>\n",
       "      <td>{'max_depth': 9}</td>\n",
       "      <td>0.276456</td>\n",
       "      <td>0.409466</td>\n",
       "      <td>0.261134</td>\n",
       "      <td>0.483348</td>\n",
       "      <td>...</td>\n",
       "      <td>0.083300</td>\n",
       "      <td>5</td>\n",
       "      <td>0.985297</td>\n",
       "      <td>0.994828</td>\n",
       "      <td>0.986825</td>\n",
       "      <td>0.972140</td>\n",
       "      <td>0.979798</td>\n",
       "      <td>0.983778</td>\n",
       "      <td>0.007550</td>\n",
       "      <td>0.638516</td>\n",
       "    </tr>\n",
       "    <tr>\n",
       "      <th>7</th>\n",
       "      <td>0.002933</td>\n",
       "      <td>0.000407</td>\n",
       "      <td>0.001257</td>\n",
       "      <td>0.000201</td>\n",
       "      <td>8</td>\n",
       "      <td>{'max_depth': 8}</td>\n",
       "      <td>0.257366</td>\n",
       "      <td>0.519892</td>\n",
       "      <td>0.108286</td>\n",
       "      <td>0.469557</td>\n",
       "      <td>...</td>\n",
       "      <td>0.154264</td>\n",
       "      <td>6</td>\n",
       "      <td>0.972164</td>\n",
       "      <td>0.976657</td>\n",
       "      <td>0.966111</td>\n",
       "      <td>0.953669</td>\n",
       "      <td>0.956085</td>\n",
       "      <td>0.964937</td>\n",
       "      <td>0.008903</td>\n",
       "      <td>0.639629</td>\n",
       "    </tr>\n",
       "    <tr>\n",
       "      <th>3</th>\n",
       "      <td>0.002781</td>\n",
       "      <td>0.000279</td>\n",
       "      <td>0.001606</td>\n",
       "      <td>0.000197</td>\n",
       "      <td>4</td>\n",
       "      <td>{'max_depth': 4}</td>\n",
       "      <td>0.356553</td>\n",
       "      <td>0.499030</td>\n",
       "      <td>0.250353</td>\n",
       "      <td>0.284124</td>\n",
       "      <td>...</td>\n",
       "      <td>0.088159</td>\n",
       "      <td>7</td>\n",
       "      <td>0.667937</td>\n",
       "      <td>0.644564</td>\n",
       "      <td>0.674088</td>\n",
       "      <td>0.685907</td>\n",
       "      <td>0.660667</td>\n",
       "      <td>0.666633</td>\n",
       "      <td>0.013794</td>\n",
       "      <td>0.641616</td>\n",
       "    </tr>\n",
       "    <tr>\n",
       "      <th>4</th>\n",
       "      <td>0.002853</td>\n",
       "      <td>0.000318</td>\n",
       "      <td>0.001401</td>\n",
       "      <td>0.000208</td>\n",
       "      <td>5</td>\n",
       "      <td>{'max_depth': 5}</td>\n",
       "      <td>0.242284</td>\n",
       "      <td>0.537440</td>\n",
       "      <td>0.144471</td>\n",
       "      <td>0.343195</td>\n",
       "      <td>...</td>\n",
       "      <td>0.143279</td>\n",
       "      <td>8</td>\n",
       "      <td>0.784367</td>\n",
       "      <td>0.788642</td>\n",
       "      <td>0.787957</td>\n",
       "      <td>0.784613</td>\n",
       "      <td>0.779085</td>\n",
       "      <td>0.784933</td>\n",
       "      <td>0.003392</td>\n",
       "      <td>0.653139</td>\n",
       "    </tr>\n",
       "    <tr>\n",
       "      <th>1</th>\n",
       "      <td>0.002581</td>\n",
       "      <td>0.000254</td>\n",
       "      <td>0.001269</td>\n",
       "      <td>0.000096</td>\n",
       "      <td>2</td>\n",
       "      <td>{'max_depth': 2}</td>\n",
       "      <td>0.254099</td>\n",
       "      <td>0.437801</td>\n",
       "      <td>0.182855</td>\n",
       "      <td>0.295155</td>\n",
       "      <td>...</td>\n",
       "      <td>0.092970</td>\n",
       "      <td>9</td>\n",
       "      <td>0.382939</td>\n",
       "      <td>0.378912</td>\n",
       "      <td>0.412293</td>\n",
       "      <td>0.422261</td>\n",
       "      <td>0.389141</td>\n",
       "      <td>0.397109</td>\n",
       "      <td>0.017080</td>\n",
       "      <td>0.686785</td>\n",
       "    </tr>\n",
       "    <tr>\n",
       "      <th>0</th>\n",
       "      <td>0.002326</td>\n",
       "      <td>0.000271</td>\n",
       "      <td>0.001446</td>\n",
       "      <td>0.000103</td>\n",
       "      <td>1</td>\n",
       "      <td>{'max_depth': 1}</td>\n",
       "      <td>0.247539</td>\n",
       "      <td>0.257156</td>\n",
       "      <td>0.003412</td>\n",
       "      <td>0.181270</td>\n",
       "      <td>...</td>\n",
       "      <td>0.098582</td>\n",
       "      <td>10</td>\n",
       "      <td>0.206742</td>\n",
       "      <td>0.205820</td>\n",
       "      <td>0.250029</td>\n",
       "      <td>0.226459</td>\n",
       "      <td>0.203809</td>\n",
       "      <td>0.218572</td>\n",
       "      <td>0.017733</td>\n",
       "      <td>0.808779</td>\n",
       "    </tr>\n",
       "  </tbody>\n",
       "</table>\n",
       "<p>10 rows × 22 columns</p>\n",
       "</div>"
      ],
      "text/plain": [
       "   mean_fit_time  std_fit_time  mean_score_time  std_score_time  \\\n",
       "6       0.002701      0.000388         0.001398        0.000188   \n",
       "5       0.002970      0.000256         0.001247        0.000169   \n",
       "2       0.002845      0.000158         0.001461        0.000170   \n",
       "9       0.002843      0.000339         0.001238        0.000209   \n",
       "8       0.002719      0.000470         0.001275        0.000231   \n",
       "7       0.002933      0.000407         0.001257        0.000201   \n",
       "3       0.002781      0.000279         0.001606        0.000197   \n",
       "4       0.002853      0.000318         0.001401        0.000208   \n",
       "1       0.002581      0.000254         0.001269        0.000096   \n",
       "0       0.002326      0.000271         0.001446        0.000103   \n",
       "\n",
       "   param_max_depth             params  split0_test_score  split1_test_score  \\\n",
       "6                7   {'max_depth': 7}           0.366617           0.492523   \n",
       "5                6   {'max_depth': 6}           0.395366           0.476829   \n",
       "2                3   {'max_depth': 3}           0.343435           0.528483   \n",
       "9               10  {'max_depth': 10}           0.321334           0.436443   \n",
       "8                9   {'max_depth': 9}           0.276456           0.409466   \n",
       "7                8   {'max_depth': 8}           0.257366           0.519892   \n",
       "3                4   {'max_depth': 4}           0.356553           0.499030   \n",
       "4                5   {'max_depth': 5}           0.242284           0.537440   \n",
       "1                2   {'max_depth': 2}           0.254099           0.437801   \n",
       "0                1   {'max_depth': 1}           0.247539           0.257156   \n",
       "\n",
       "   split2_test_score  split3_test_score  ...  std_test_score  rank_test_score  \\\n",
       "6           0.183373           0.491373  ...        0.122167                1   \n",
       "5           0.254010           0.406124  ...        0.077268                2   \n",
       "2           0.299872           0.375075  ...        0.077630                3   \n",
       "9           0.251714           0.477799  ...        0.081394                4   \n",
       "8           0.261134           0.483348  ...        0.083300                5   \n",
       "7           0.108286           0.469557  ...        0.154264                6   \n",
       "3           0.250353           0.284124  ...        0.088159                7   \n",
       "4           0.144471           0.343195  ...        0.143279                8   \n",
       "1           0.182855           0.295155  ...        0.092970                9   \n",
       "0           0.003412           0.181270  ...        0.098582               10   \n",
       "\n",
       "   split0_train_score  split1_train_score  split2_train_score  \\\n",
       "6            0.933286            0.942661            0.931358   \n",
       "5            0.867507            0.872997            0.875627   \n",
       "2            0.529251            0.509871            0.551593   \n",
       "9            0.991585            0.999411            0.994700   \n",
       "8            0.985297            0.994828            0.986825   \n",
       "7            0.972164            0.976657            0.966111   \n",
       "3            0.667937            0.644564            0.674088   \n",
       "4            0.784367            0.788642            0.787957   \n",
       "1            0.382939            0.378912            0.412293   \n",
       "0            0.206742            0.205820            0.250029   \n",
       "\n",
       "   split3_train_score  split4_train_score  mean_train_score  std_train_score  \\\n",
       "6            0.914764            0.917451          0.927904         0.010398   \n",
       "5            0.861919            0.862578          0.868126         0.005471   \n",
       "2            0.544475            0.542201          0.535478         0.014699   \n",
       "9            0.985515            0.991436          0.992530         0.004547   \n",
       "8            0.972140            0.979798          0.983778         0.007550   \n",
       "7            0.953669            0.956085          0.964937         0.008903   \n",
       "3            0.685907            0.660667          0.666633         0.013794   \n",
       "4            0.784613            0.779085          0.784933         0.003392   \n",
       "1            0.422261            0.389141          0.397109         0.017080   \n",
       "0            0.226459            0.203809          0.218572         0.017733   \n",
       "\n",
       "   mean_test_error  \n",
       "6         0.593328  \n",
       "5         0.603276  \n",
       "2         0.618201  \n",
       "9         0.622083  \n",
       "8         0.638516  \n",
       "7         0.639629  \n",
       "3         0.641616  \n",
       "4         0.653139  \n",
       "1         0.686785  \n",
       "0         0.808779  \n",
       "\n",
       "[10 rows x 22 columns]"
      ]
     },
     "execution_count": 7,
     "metadata": {},
     "output_type": "execute_result"
    }
   ],
   "source": [
    "from sklearn.model_selection import GridSearchCV\n",
    "\n",
    "param_grid = {'max_depth': range(1, 11)}\n",
    "grid_search = GridSearchCV(tree, param_grid, cv=5, n_jobs=-1, verbose=1, return_train_score=True)\n",
    "grid_search.fit(X_train, y_train)\n",
    "\n",
    "results = pd.DataFrame(grid_search.cv_results_)\n",
    "results[\"mean_test_error\"] = 1 - results[\"mean_test_score\"]\n",
    "\n",
    "results.sort_values(by=\"mean_test_error\").head(10)"
   ]
  },
  {
   "cell_type": "code",
   "execution_count": 8,
   "metadata": {},
   "outputs": [
    {
     "data": {
      "application/vnd.plotly.v1+json": {
       "config": {
        "plotlyServerURL": "https://plot.ly"
       },
       "data": [
        {
         "hovertemplate": "param_max_depth=%{x}<br>mean_test_error=%{y}<extra></extra>",
         "legendgroup": "",
         "line": {
          "color": "#636efa",
          "dash": "solid"
         },
         "marker": {
          "symbol": "circle"
         },
         "mode": "lines",
         "name": "",
         "orientation": "v",
         "showlegend": false,
         "type": "scatter",
         "x": [
          1,
          2,
          3,
          4,
          5,
          6,
          7,
          8,
          9,
          10
         ],
         "xaxis": "x",
         "y": [
          0.8087794070723212,
          0.6867848492065922,
          0.6182007045417506,
          0.6416156694493524,
          0.6531390191170936,
          0.6032756142093885,
          0.5933276007698082,
          0.6396290855726493,
          0.6385159927483743,
          0.6220832785269047
         ],
         "yaxis": "y"
        }
       ],
       "layout": {
        "legend": {
         "tracegroupgap": 0
        },
        "shapes": [
         {
          "line": {
           "color": "red",
           "dash": "dash"
          },
          "type": "line",
          "x0": 7,
          "x1": 7,
          "xref": "x",
          "y0": 0,
          "y1": 1,
          "yref": "y domain"
         }
        ],
        "template": {
         "data": {
          "bar": [
           {
            "error_x": {
             "color": "#2a3f5f"
            },
            "error_y": {
             "color": "#2a3f5f"
            },
            "marker": {
             "line": {
              "color": "#E5ECF6",
              "width": 0.5
             },
             "pattern": {
              "fillmode": "overlay",
              "size": 10,
              "solidity": 0.2
             }
            },
            "type": "bar"
           }
          ],
          "barpolar": [
           {
            "marker": {
             "line": {
              "color": "#E5ECF6",
              "width": 0.5
             },
             "pattern": {
              "fillmode": "overlay",
              "size": 10,
              "solidity": 0.2
             }
            },
            "type": "barpolar"
           }
          ],
          "carpet": [
           {
            "aaxis": {
             "endlinecolor": "#2a3f5f",
             "gridcolor": "white",
             "linecolor": "white",
             "minorgridcolor": "white",
             "startlinecolor": "#2a3f5f"
            },
            "baxis": {
             "endlinecolor": "#2a3f5f",
             "gridcolor": "white",
             "linecolor": "white",
             "minorgridcolor": "white",
             "startlinecolor": "#2a3f5f"
            },
            "type": "carpet"
           }
          ],
          "choropleth": [
           {
            "colorbar": {
             "outlinewidth": 0,
             "ticks": ""
            },
            "type": "choropleth"
           }
          ],
          "contour": [
           {
            "colorbar": {
             "outlinewidth": 0,
             "ticks": ""
            },
            "colorscale": [
             [
              0,
              "#0d0887"
             ],
             [
              0.1111111111111111,
              "#46039f"
             ],
             [
              0.2222222222222222,
              "#7201a8"
             ],
             [
              0.3333333333333333,
              "#9c179e"
             ],
             [
              0.4444444444444444,
              "#bd3786"
             ],
             [
              0.5555555555555556,
              "#d8576b"
             ],
             [
              0.6666666666666666,
              "#ed7953"
             ],
             [
              0.7777777777777778,
              "#fb9f3a"
             ],
             [
              0.8888888888888888,
              "#fdca26"
             ],
             [
              1,
              "#f0f921"
             ]
            ],
            "type": "contour"
           }
          ],
          "contourcarpet": [
           {
            "colorbar": {
             "outlinewidth": 0,
             "ticks": ""
            },
            "type": "contourcarpet"
           }
          ],
          "heatmap": [
           {
            "colorbar": {
             "outlinewidth": 0,
             "ticks": ""
            },
            "colorscale": [
             [
              0,
              "#0d0887"
             ],
             [
              0.1111111111111111,
              "#46039f"
             ],
             [
              0.2222222222222222,
              "#7201a8"
             ],
             [
              0.3333333333333333,
              "#9c179e"
             ],
             [
              0.4444444444444444,
              "#bd3786"
             ],
             [
              0.5555555555555556,
              "#d8576b"
             ],
             [
              0.6666666666666666,
              "#ed7953"
             ],
             [
              0.7777777777777778,
              "#fb9f3a"
             ],
             [
              0.8888888888888888,
              "#fdca26"
             ],
             [
              1,
              "#f0f921"
             ]
            ],
            "type": "heatmap"
           }
          ],
          "heatmapgl": [
           {
            "colorbar": {
             "outlinewidth": 0,
             "ticks": ""
            },
            "colorscale": [
             [
              0,
              "#0d0887"
             ],
             [
              0.1111111111111111,
              "#46039f"
             ],
             [
              0.2222222222222222,
              "#7201a8"
             ],
             [
              0.3333333333333333,
              "#9c179e"
             ],
             [
              0.4444444444444444,
              "#bd3786"
             ],
             [
              0.5555555555555556,
              "#d8576b"
             ],
             [
              0.6666666666666666,
              "#ed7953"
             ],
             [
              0.7777777777777778,
              "#fb9f3a"
             ],
             [
              0.8888888888888888,
              "#fdca26"
             ],
             [
              1,
              "#f0f921"
             ]
            ],
            "type": "heatmapgl"
           }
          ],
          "histogram": [
           {
            "marker": {
             "pattern": {
              "fillmode": "overlay",
              "size": 10,
              "solidity": 0.2
             }
            },
            "type": "histogram"
           }
          ],
          "histogram2d": [
           {
            "colorbar": {
             "outlinewidth": 0,
             "ticks": ""
            },
            "colorscale": [
             [
              0,
              "#0d0887"
             ],
             [
              0.1111111111111111,
              "#46039f"
             ],
             [
              0.2222222222222222,
              "#7201a8"
             ],
             [
              0.3333333333333333,
              "#9c179e"
             ],
             [
              0.4444444444444444,
              "#bd3786"
             ],
             [
              0.5555555555555556,
              "#d8576b"
             ],
             [
              0.6666666666666666,
              "#ed7953"
             ],
             [
              0.7777777777777778,
              "#fb9f3a"
             ],
             [
              0.8888888888888888,
              "#fdca26"
             ],
             [
              1,
              "#f0f921"
             ]
            ],
            "type": "histogram2d"
           }
          ],
          "histogram2dcontour": [
           {
            "colorbar": {
             "outlinewidth": 0,
             "ticks": ""
            },
            "colorscale": [
             [
              0,
              "#0d0887"
             ],
             [
              0.1111111111111111,
              "#46039f"
             ],
             [
              0.2222222222222222,
              "#7201a8"
             ],
             [
              0.3333333333333333,
              "#9c179e"
             ],
             [
              0.4444444444444444,
              "#bd3786"
             ],
             [
              0.5555555555555556,
              "#d8576b"
             ],
             [
              0.6666666666666666,
              "#ed7953"
             ],
             [
              0.7777777777777778,
              "#fb9f3a"
             ],
             [
              0.8888888888888888,
              "#fdca26"
             ],
             [
              1,
              "#f0f921"
             ]
            ],
            "type": "histogram2dcontour"
           }
          ],
          "mesh3d": [
           {
            "colorbar": {
             "outlinewidth": 0,
             "ticks": ""
            },
            "type": "mesh3d"
           }
          ],
          "parcoords": [
           {
            "line": {
             "colorbar": {
              "outlinewidth": 0,
              "ticks": ""
             }
            },
            "type": "parcoords"
           }
          ],
          "pie": [
           {
            "automargin": true,
            "type": "pie"
           }
          ],
          "scatter": [
           {
            "fillpattern": {
             "fillmode": "overlay",
             "size": 10,
             "solidity": 0.2
            },
            "type": "scatter"
           }
          ],
          "scatter3d": [
           {
            "line": {
             "colorbar": {
              "outlinewidth": 0,
              "ticks": ""
             }
            },
            "marker": {
             "colorbar": {
              "outlinewidth": 0,
              "ticks": ""
             }
            },
            "type": "scatter3d"
           }
          ],
          "scattercarpet": [
           {
            "marker": {
             "colorbar": {
              "outlinewidth": 0,
              "ticks": ""
             }
            },
            "type": "scattercarpet"
           }
          ],
          "scattergeo": [
           {
            "marker": {
             "colorbar": {
              "outlinewidth": 0,
              "ticks": ""
             }
            },
            "type": "scattergeo"
           }
          ],
          "scattergl": [
           {
            "marker": {
             "colorbar": {
              "outlinewidth": 0,
              "ticks": ""
             }
            },
            "type": "scattergl"
           }
          ],
          "scattermapbox": [
           {
            "marker": {
             "colorbar": {
              "outlinewidth": 0,
              "ticks": ""
             }
            },
            "type": "scattermapbox"
           }
          ],
          "scatterpolar": [
           {
            "marker": {
             "colorbar": {
              "outlinewidth": 0,
              "ticks": ""
             }
            },
            "type": "scatterpolar"
           }
          ],
          "scatterpolargl": [
           {
            "marker": {
             "colorbar": {
              "outlinewidth": 0,
              "ticks": ""
             }
            },
            "type": "scatterpolargl"
           }
          ],
          "scatterternary": [
           {
            "marker": {
             "colorbar": {
              "outlinewidth": 0,
              "ticks": ""
             }
            },
            "type": "scatterternary"
           }
          ],
          "surface": [
           {
            "colorbar": {
             "outlinewidth": 0,
             "ticks": ""
            },
            "colorscale": [
             [
              0,
              "#0d0887"
             ],
             [
              0.1111111111111111,
              "#46039f"
             ],
             [
              0.2222222222222222,
              "#7201a8"
             ],
             [
              0.3333333333333333,
              "#9c179e"
             ],
             [
              0.4444444444444444,
              "#bd3786"
             ],
             [
              0.5555555555555556,
              "#d8576b"
             ],
             [
              0.6666666666666666,
              "#ed7953"
             ],
             [
              0.7777777777777778,
              "#fb9f3a"
             ],
             [
              0.8888888888888888,
              "#fdca26"
             ],
             [
              1,
              "#f0f921"
             ]
            ],
            "type": "surface"
           }
          ],
          "table": [
           {
            "cells": {
             "fill": {
              "color": "#EBF0F8"
             },
             "line": {
              "color": "white"
             }
            },
            "header": {
             "fill": {
              "color": "#C8D4E3"
             },
             "line": {
              "color": "white"
             }
            },
            "type": "table"
           }
          ]
         },
         "layout": {
          "annotationdefaults": {
           "arrowcolor": "#2a3f5f",
           "arrowhead": 0,
           "arrowwidth": 1
          },
          "autotypenumbers": "strict",
          "coloraxis": {
           "colorbar": {
            "outlinewidth": 0,
            "ticks": ""
           }
          },
          "colorscale": {
           "diverging": [
            [
             0,
             "#8e0152"
            ],
            [
             0.1,
             "#c51b7d"
            ],
            [
             0.2,
             "#de77ae"
            ],
            [
             0.3,
             "#f1b6da"
            ],
            [
             0.4,
             "#fde0ef"
            ],
            [
             0.5,
             "#f7f7f7"
            ],
            [
             0.6,
             "#e6f5d0"
            ],
            [
             0.7,
             "#b8e186"
            ],
            [
             0.8,
             "#7fbc41"
            ],
            [
             0.9,
             "#4d9221"
            ],
            [
             1,
             "#276419"
            ]
           ],
           "sequential": [
            [
             0,
             "#0d0887"
            ],
            [
             0.1111111111111111,
             "#46039f"
            ],
            [
             0.2222222222222222,
             "#7201a8"
            ],
            [
             0.3333333333333333,
             "#9c179e"
            ],
            [
             0.4444444444444444,
             "#bd3786"
            ],
            [
             0.5555555555555556,
             "#d8576b"
            ],
            [
             0.6666666666666666,
             "#ed7953"
            ],
            [
             0.7777777777777778,
             "#fb9f3a"
            ],
            [
             0.8888888888888888,
             "#fdca26"
            ],
            [
             1,
             "#f0f921"
            ]
           ],
           "sequentialminus": [
            [
             0,
             "#0d0887"
            ],
            [
             0.1111111111111111,
             "#46039f"
            ],
            [
             0.2222222222222222,
             "#7201a8"
            ],
            [
             0.3333333333333333,
             "#9c179e"
            ],
            [
             0.4444444444444444,
             "#bd3786"
            ],
            [
             0.5555555555555556,
             "#d8576b"
            ],
            [
             0.6666666666666666,
             "#ed7953"
            ],
            [
             0.7777777777777778,
             "#fb9f3a"
            ],
            [
             0.8888888888888888,
             "#fdca26"
            ],
            [
             1,
             "#f0f921"
            ]
           ]
          },
          "colorway": [
           "#636efa",
           "#EF553B",
           "#00cc96",
           "#ab63fa",
           "#FFA15A",
           "#19d3f3",
           "#FF6692",
           "#B6E880",
           "#FF97FF",
           "#FECB52"
          ],
          "font": {
           "color": "#2a3f5f"
          },
          "geo": {
           "bgcolor": "white",
           "lakecolor": "white",
           "landcolor": "#E5ECF6",
           "showlakes": true,
           "showland": true,
           "subunitcolor": "white"
          },
          "hoverlabel": {
           "align": "left"
          },
          "hovermode": "closest",
          "mapbox": {
           "style": "light"
          },
          "paper_bgcolor": "white",
          "plot_bgcolor": "#E5ECF6",
          "polar": {
           "angularaxis": {
            "gridcolor": "white",
            "linecolor": "white",
            "ticks": ""
           },
           "bgcolor": "#E5ECF6",
           "radialaxis": {
            "gridcolor": "white",
            "linecolor": "white",
            "ticks": ""
           }
          },
          "scene": {
           "xaxis": {
            "backgroundcolor": "#E5ECF6",
            "gridcolor": "white",
            "gridwidth": 2,
            "linecolor": "white",
            "showbackground": true,
            "ticks": "",
            "zerolinecolor": "white"
           },
           "yaxis": {
            "backgroundcolor": "#E5ECF6",
            "gridcolor": "white",
            "gridwidth": 2,
            "linecolor": "white",
            "showbackground": true,
            "ticks": "",
            "zerolinecolor": "white"
           },
           "zaxis": {
            "backgroundcolor": "#E5ECF6",
            "gridcolor": "white",
            "gridwidth": 2,
            "linecolor": "white",
            "showbackground": true,
            "ticks": "",
            "zerolinecolor": "white"
           }
          },
          "shapedefaults": {
           "line": {
            "color": "#2a3f5f"
           }
          },
          "ternary": {
           "aaxis": {
            "gridcolor": "white",
            "linecolor": "white",
            "ticks": ""
           },
           "baxis": {
            "gridcolor": "white",
            "linecolor": "white",
            "ticks": ""
           },
           "bgcolor": "#E5ECF6",
           "caxis": {
            "gridcolor": "white",
            "linecolor": "white",
            "ticks": ""
           }
          },
          "title": {
           "x": 0.05
          },
          "xaxis": {
           "automargin": true,
           "gridcolor": "white",
           "linecolor": "white",
           "ticks": "",
           "title": {
            "standoff": 15
           },
           "zerolinecolor": "white",
           "zerolinewidth": 2
          },
          "yaxis": {
           "automargin": true,
           "gridcolor": "white",
           "linecolor": "white",
           "ticks": "",
           "title": {
            "standoff": 15
           },
           "zerolinecolor": "white",
           "zerolinewidth": 2
          }
         }
        },
        "title": {
         "text": "Decision Tree Regressor"
        },
        "xaxis": {
         "anchor": "y",
         "domain": [
          0,
          1
         ],
         "title": {
          "text": "param_max_depth"
         }
        },
        "yaxis": {
         "anchor": "x",
         "domain": [
          0,
          1
         ],
         "title": {
          "text": "mean_test_error"
         }
        }
       }
      }
     },
     "metadata": {},
     "output_type": "display_data"
    }
   ],
   "source": [
    "import plotly.express as px\n",
    "\n",
    "fig = px.line(results, x='param_max_depth', y='mean_test_error', title='Decision Tree Regressor')\n",
    "fig.add_vline(x=results[\"param_max_depth\"][results[\"mean_test_error\"].idxmin()], line_dash=\"dash\", line_color=\"red\")\n",
    "fig.show()"
   ]
  },
  {
   "cell_type": "code",
   "execution_count": 9,
   "metadata": {},
   "outputs": [
    {
     "data": {
      "text/html": [
       "<div>\n",
       "<style scoped>\n",
       "    .dataframe tbody tr th:only-of-type {\n",
       "        vertical-align: middle;\n",
       "    }\n",
       "\n",
       "    .dataframe tbody tr th {\n",
       "        vertical-align: top;\n",
       "    }\n",
       "\n",
       "    .dataframe thead th {\n",
       "        text-align: right;\n",
       "    }\n",
       "</style>\n",
       "<table border=\"1\" class=\"dataframe\">\n",
       "  <thead>\n",
       "    <tr style=\"text-align: right;\">\n",
       "      <th></th>\n",
       "      <th>mean_fit_time</th>\n",
       "      <th>std_fit_time</th>\n",
       "      <th>mean_score_time</th>\n",
       "      <th>std_score_time</th>\n",
       "      <th>param_max_depth</th>\n",
       "      <th>params</th>\n",
       "      <th>split0_test_score</th>\n",
       "      <th>split1_test_score</th>\n",
       "      <th>split2_test_score</th>\n",
       "      <th>split3_test_score</th>\n",
       "      <th>...</th>\n",
       "      <th>std_test_score</th>\n",
       "      <th>rank_test_score</th>\n",
       "      <th>split0_train_score</th>\n",
       "      <th>split1_train_score</th>\n",
       "      <th>split2_train_score</th>\n",
       "      <th>split3_train_score</th>\n",
       "      <th>split4_train_score</th>\n",
       "      <th>mean_train_score</th>\n",
       "      <th>std_train_score</th>\n",
       "      <th>mean_test_error</th>\n",
       "    </tr>\n",
       "  </thead>\n",
       "  <tbody>\n",
       "    <tr>\n",
       "      <th>6</th>\n",
       "      <td>0.002701</td>\n",
       "      <td>0.000388</td>\n",
       "      <td>0.001398</td>\n",
       "      <td>0.000188</td>\n",
       "      <td>7</td>\n",
       "      <td>{'max_depth': 7}</td>\n",
       "      <td>0.366617</td>\n",
       "      <td>0.492523</td>\n",
       "      <td>0.183373</td>\n",
       "      <td>0.491373</td>\n",
       "      <td>...</td>\n",
       "      <td>0.122167</td>\n",
       "      <td>1</td>\n",
       "      <td>0.933286</td>\n",
       "      <td>0.942661</td>\n",
       "      <td>0.931358</td>\n",
       "      <td>0.914764</td>\n",
       "      <td>0.917451</td>\n",
       "      <td>0.927904</td>\n",
       "      <td>0.010398</td>\n",
       "      <td>0.593328</td>\n",
       "    </tr>\n",
       "  </tbody>\n",
       "</table>\n",
       "<p>1 rows × 22 columns</p>\n",
       "</div>"
      ],
      "text/plain": [
       "   mean_fit_time  std_fit_time  mean_score_time  std_score_time  \\\n",
       "6       0.002701      0.000388         0.001398        0.000188   \n",
       "\n",
       "   param_max_depth            params  split0_test_score  split1_test_score  \\\n",
       "6                7  {'max_depth': 7}           0.366617           0.492523   \n",
       "\n",
       "   split2_test_score  split3_test_score  ...  std_test_score  rank_test_score  \\\n",
       "6           0.183373           0.491373  ...        0.122167                1   \n",
       "\n",
       "   split0_train_score  split1_train_score  split2_train_score  \\\n",
       "6            0.933286            0.942661            0.931358   \n",
       "\n",
       "   split3_train_score  split4_train_score  mean_train_score  std_train_score  \\\n",
       "6            0.914764            0.917451          0.927904         0.010398   \n",
       "\n",
       "   mean_test_error  \n",
       "6         0.593328  \n",
       "\n",
       "[1 rows x 22 columns]"
      ]
     },
     "execution_count": 9,
     "metadata": {},
     "output_type": "execute_result"
    }
   ],
   "source": [
    "results.sort_values(\"mean_test_error\").head(1)"
   ]
  },
  {
   "cell_type": "code",
   "execution_count": 10,
   "metadata": {},
   "outputs": [
    {
     "data": {
      "application/vnd.plotly.v1+json": {
       "config": {
        "plotlyServerURL": "https://plot.ly"
       },
       "data": [
        {
         "hovertemplate": "Effective Alpha=%{x}<br>Total Impurity=%{y}<extra></extra>",
         "legendgroup": "",
         "line": {
          "color": "#636efa",
          "dash": "solid"
         },
         "marker": {
          "symbol": "circle"
         },
         "mode": "lines+markers",
         "name": "",
         "orientation": "v",
         "showlegend": false,
         "type": "scatter",
         "x": [
          0,
          0.000005625000000053504,
          0.00002250000000003638,
          0.00003062499999995083,
          0.000039999999999998194,
          0.00008265624999981291,
          0.00010562500000006469,
          0.00012249999999989215,
          0.00018062500000004533,
          0.00033062500000022863,
          0.00045046874999999655,
          0.0004556249999999817,
          0.0008700104166666556,
          0.0011102083333335954,
          0.0011408333333332353,
          0.0014699999999999045,
          0.0020008333333332738,
          0.0024300000000001985,
          0.0025878124999996646,
          0.002722500000000001,
          0.0029326562500008534,
          0.0035444531250003134,
          0.0037625104166664424,
          0.004356276041666618,
          0.004625208333333486,
          0.00536671874999999,
          0.005370041666666592,
          0.005658010416665827,
          0.006971836805557619,
          0.007593750000000066,
          0.008790651041666209,
          0.009145510416665649,
          0.011640312500000017,
          0.011935651041666917,
          0.013537499999999925,
          0.016312633928570984,
          0.016415127840909927,
          0.016470069444444714,
          0.017460468749999982,
          0.01770086292613633,
          0.018858023437499895,
          0.019285013020833554,
          0.020601904761904266,
          0.020676257440476763,
          0.021150854640152213,
          0.02208939062500015,
          0.023623650173611177,
          0.024897950148811,
          0.025204168526783283,
          0.026083950892856887,
          0.026680584415583616,
          0.02681850189393896,
          0.027573984374998764,
          0.028900000000000547,
          0.02898502604166607,
          0.029199114583334147,
          0.029763910361841894,
          0.030155634453781333,
          0.03386250946969795,
          0.03452983072916864,
          0.034957656250001135,
          0.03579602149905867,
          0.03789005357142794,
          0.03934284801136201,
          0.0419885318627454,
          0.04400417060574191,
          0.04706956801470365,
          0.04711195647321484,
          0.04800224147726993,
          0.04979857266865166,
          0.05453400757575801,
          0.059685125000002004,
          0.06946768253967453,
          0.07040033840240661,
          0.0763041038074711,
          0.08114962987012894,
          0.09276289067782018,
          0.0928200334821368,
          0.10012927959735554,
          0.10422303851877263,
          0.11403125293702987,
          0.11545144633374196,
          0.12227018887691826,
          0.14228055652888888,
          0.1492233427166007,
          0.16424654149711015,
          0.19623347871101637,
          0.20842980911718723,
          0.21933046600033013,
          0.3764236215737842,
          0.4357060495385694,
          0.4958119466362393,
          0.9277143951100069,
          1.7852300156249772
         ],
         "xaxis": "x",
         "y": [
          0.6438664286788957,
          0.6438720536788957,
          0.6438945536788957,
          0.6439251786788956,
          0.6439651786788957,
          0.6440478349288955,
          0.6441534599288956,
          0.6442759599288955,
          0.6444565849288956,
          0.6447872099288958,
          0.6452376786788958,
          0.6456933036788958,
          0.6465633140955624,
          0.6476735224288961,
          0.6488143557622293,
          0.6502843557622292,
          0.6522851890955624,
          0.6547151890955626,
          0.6573030015955622,
          0.6600255015955622,
          0.662958157845563,
          0.6665026109705633,
          0.6702651213872297,
          0.6746213974288964,
          0.6792466057622298,
          0.6846133245122298,
          0.6899833661788963,
          0.6956413765955621,
          0.7026132134011197,
          0.7102069634011198,
          0.718997614442786,
          0.7281431248594517,
          0.7397834373594516,
          0.7517190884011186,
          0.7652565884011184,
          0.7815692223296894,
          0.7979843501705993,
          0.8144544196150441,
          0.831914888365044,
          0.8496157512911804,
          0.8684737747286803,
          0.8877587877495138,
          0.908360692511418,
          0.9290369499518948,
          0.950187804592047,
          0.9722771952170471,
          0.9959008453906584,
          1.0207987955394693,
          1.0460029640662525,
          1.0720869149591095,
          1.098767499374693,
          1.1255860012686318,
          1.1531599856436305,
          1.1820599856436311,
          1.211045011685297,
          1.2402441262686312,
          1.2700080366304731,
          1.3001636710842543,
          1.3340261805539524,
          1.368556011283121,
          1.4035136675331221,
          1.4393096890321808,
          1.4771997426036088,
          1.5558854386263328,
          1.597873970489078,
          1.64187814109482,
          1.6889477091095237,
          1.7360596655827385,
          1.7840619070600083,
          1.83386047972866,
          1.888394487304418,
          1.94807961230442,
          2.0175472948440945,
          2.0879476332465012,
          2.1642517370539722,
          2.245401366924101,
          2.338164257601921,
          2.430984291084058,
          2.631242850278769,
          2.735465888797542,
          2.8494971417345716,
          2.9649485880683137,
          3.087218776945232,
          3.229499333474121,
          3.3787226761907214,
          3.5429692176878316,
          3.739202696398848,
          3.9476325055160353,
          4.166962971516366,
          4.54338659309015,
          4.97909264262872,
          5.474904589264959,
          6.402618984374966,
          8.187848999999943
         ],
         "yaxis": "y"
        }
       ],
       "layout": {
        "legend": {
         "tracegroupgap": 0
        },
        "template": {
         "data": {
          "bar": [
           {
            "error_x": {
             "color": "#2a3f5f"
            },
            "error_y": {
             "color": "#2a3f5f"
            },
            "marker": {
             "line": {
              "color": "#E5ECF6",
              "width": 0.5
             },
             "pattern": {
              "fillmode": "overlay",
              "size": 10,
              "solidity": 0.2
             }
            },
            "type": "bar"
           }
          ],
          "barpolar": [
           {
            "marker": {
             "line": {
              "color": "#E5ECF6",
              "width": 0.5
             },
             "pattern": {
              "fillmode": "overlay",
              "size": 10,
              "solidity": 0.2
             }
            },
            "type": "barpolar"
           }
          ],
          "carpet": [
           {
            "aaxis": {
             "endlinecolor": "#2a3f5f",
             "gridcolor": "white",
             "linecolor": "white",
             "minorgridcolor": "white",
             "startlinecolor": "#2a3f5f"
            },
            "baxis": {
             "endlinecolor": "#2a3f5f",
             "gridcolor": "white",
             "linecolor": "white",
             "minorgridcolor": "white",
             "startlinecolor": "#2a3f5f"
            },
            "type": "carpet"
           }
          ],
          "choropleth": [
           {
            "colorbar": {
             "outlinewidth": 0,
             "ticks": ""
            },
            "type": "choropleth"
           }
          ],
          "contour": [
           {
            "colorbar": {
             "outlinewidth": 0,
             "ticks": ""
            },
            "colorscale": [
             [
              0,
              "#0d0887"
             ],
             [
              0.1111111111111111,
              "#46039f"
             ],
             [
              0.2222222222222222,
              "#7201a8"
             ],
             [
              0.3333333333333333,
              "#9c179e"
             ],
             [
              0.4444444444444444,
              "#bd3786"
             ],
             [
              0.5555555555555556,
              "#d8576b"
             ],
             [
              0.6666666666666666,
              "#ed7953"
             ],
             [
              0.7777777777777778,
              "#fb9f3a"
             ],
             [
              0.8888888888888888,
              "#fdca26"
             ],
             [
              1,
              "#f0f921"
             ]
            ],
            "type": "contour"
           }
          ],
          "contourcarpet": [
           {
            "colorbar": {
             "outlinewidth": 0,
             "ticks": ""
            },
            "type": "contourcarpet"
           }
          ],
          "heatmap": [
           {
            "colorbar": {
             "outlinewidth": 0,
             "ticks": ""
            },
            "colorscale": [
             [
              0,
              "#0d0887"
             ],
             [
              0.1111111111111111,
              "#46039f"
             ],
             [
              0.2222222222222222,
              "#7201a8"
             ],
             [
              0.3333333333333333,
              "#9c179e"
             ],
             [
              0.4444444444444444,
              "#bd3786"
             ],
             [
              0.5555555555555556,
              "#d8576b"
             ],
             [
              0.6666666666666666,
              "#ed7953"
             ],
             [
              0.7777777777777778,
              "#fb9f3a"
             ],
             [
              0.8888888888888888,
              "#fdca26"
             ],
             [
              1,
              "#f0f921"
             ]
            ],
            "type": "heatmap"
           }
          ],
          "heatmapgl": [
           {
            "colorbar": {
             "outlinewidth": 0,
             "ticks": ""
            },
            "colorscale": [
             [
              0,
              "#0d0887"
             ],
             [
              0.1111111111111111,
              "#46039f"
             ],
             [
              0.2222222222222222,
              "#7201a8"
             ],
             [
              0.3333333333333333,
              "#9c179e"
             ],
             [
              0.4444444444444444,
              "#bd3786"
             ],
             [
              0.5555555555555556,
              "#d8576b"
             ],
             [
              0.6666666666666666,
              "#ed7953"
             ],
             [
              0.7777777777777778,
              "#fb9f3a"
             ],
             [
              0.8888888888888888,
              "#fdca26"
             ],
             [
              1,
              "#f0f921"
             ]
            ],
            "type": "heatmapgl"
           }
          ],
          "histogram": [
           {
            "marker": {
             "pattern": {
              "fillmode": "overlay",
              "size": 10,
              "solidity": 0.2
             }
            },
            "type": "histogram"
           }
          ],
          "histogram2d": [
           {
            "colorbar": {
             "outlinewidth": 0,
             "ticks": ""
            },
            "colorscale": [
             [
              0,
              "#0d0887"
             ],
             [
              0.1111111111111111,
              "#46039f"
             ],
             [
              0.2222222222222222,
              "#7201a8"
             ],
             [
              0.3333333333333333,
              "#9c179e"
             ],
             [
              0.4444444444444444,
              "#bd3786"
             ],
             [
              0.5555555555555556,
              "#d8576b"
             ],
             [
              0.6666666666666666,
              "#ed7953"
             ],
             [
              0.7777777777777778,
              "#fb9f3a"
             ],
             [
              0.8888888888888888,
              "#fdca26"
             ],
             [
              1,
              "#f0f921"
             ]
            ],
            "type": "histogram2d"
           }
          ],
          "histogram2dcontour": [
           {
            "colorbar": {
             "outlinewidth": 0,
             "ticks": ""
            },
            "colorscale": [
             [
              0,
              "#0d0887"
             ],
             [
              0.1111111111111111,
              "#46039f"
             ],
             [
              0.2222222222222222,
              "#7201a8"
             ],
             [
              0.3333333333333333,
              "#9c179e"
             ],
             [
              0.4444444444444444,
              "#bd3786"
             ],
             [
              0.5555555555555556,
              "#d8576b"
             ],
             [
              0.6666666666666666,
              "#ed7953"
             ],
             [
              0.7777777777777778,
              "#fb9f3a"
             ],
             [
              0.8888888888888888,
              "#fdca26"
             ],
             [
              1,
              "#f0f921"
             ]
            ],
            "type": "histogram2dcontour"
           }
          ],
          "mesh3d": [
           {
            "colorbar": {
             "outlinewidth": 0,
             "ticks": ""
            },
            "type": "mesh3d"
           }
          ],
          "parcoords": [
           {
            "line": {
             "colorbar": {
              "outlinewidth": 0,
              "ticks": ""
             }
            },
            "type": "parcoords"
           }
          ],
          "pie": [
           {
            "automargin": true,
            "type": "pie"
           }
          ],
          "scatter": [
           {
            "fillpattern": {
             "fillmode": "overlay",
             "size": 10,
             "solidity": 0.2
            },
            "type": "scatter"
           }
          ],
          "scatter3d": [
           {
            "line": {
             "colorbar": {
              "outlinewidth": 0,
              "ticks": ""
             }
            },
            "marker": {
             "colorbar": {
              "outlinewidth": 0,
              "ticks": ""
             }
            },
            "type": "scatter3d"
           }
          ],
          "scattercarpet": [
           {
            "marker": {
             "colorbar": {
              "outlinewidth": 0,
              "ticks": ""
             }
            },
            "type": "scattercarpet"
           }
          ],
          "scattergeo": [
           {
            "marker": {
             "colorbar": {
              "outlinewidth": 0,
              "ticks": ""
             }
            },
            "type": "scattergeo"
           }
          ],
          "scattergl": [
           {
            "marker": {
             "colorbar": {
              "outlinewidth": 0,
              "ticks": ""
             }
            },
            "type": "scattergl"
           }
          ],
          "scattermapbox": [
           {
            "marker": {
             "colorbar": {
              "outlinewidth": 0,
              "ticks": ""
             }
            },
            "type": "scattermapbox"
           }
          ],
          "scatterpolar": [
           {
            "marker": {
             "colorbar": {
              "outlinewidth": 0,
              "ticks": ""
             }
            },
            "type": "scatterpolar"
           }
          ],
          "scatterpolargl": [
           {
            "marker": {
             "colorbar": {
              "outlinewidth": 0,
              "ticks": ""
             }
            },
            "type": "scatterpolargl"
           }
          ],
          "scatterternary": [
           {
            "marker": {
             "colorbar": {
              "outlinewidth": 0,
              "ticks": ""
             }
            },
            "type": "scatterternary"
           }
          ],
          "surface": [
           {
            "colorbar": {
             "outlinewidth": 0,
             "ticks": ""
            },
            "colorscale": [
             [
              0,
              "#0d0887"
             ],
             [
              0.1111111111111111,
              "#46039f"
             ],
             [
              0.2222222222222222,
              "#7201a8"
             ],
             [
              0.3333333333333333,
              "#9c179e"
             ],
             [
              0.4444444444444444,
              "#bd3786"
             ],
             [
              0.5555555555555556,
              "#d8576b"
             ],
             [
              0.6666666666666666,
              "#ed7953"
             ],
             [
              0.7777777777777778,
              "#fb9f3a"
             ],
             [
              0.8888888888888888,
              "#fdca26"
             ],
             [
              1,
              "#f0f921"
             ]
            ],
            "type": "surface"
           }
          ],
          "table": [
           {
            "cells": {
             "fill": {
              "color": "#EBF0F8"
             },
             "line": {
              "color": "white"
             }
            },
            "header": {
             "fill": {
              "color": "#C8D4E3"
             },
             "line": {
              "color": "white"
             }
            },
            "type": "table"
           }
          ]
         },
         "layout": {
          "annotationdefaults": {
           "arrowcolor": "#2a3f5f",
           "arrowhead": 0,
           "arrowwidth": 1
          },
          "autotypenumbers": "strict",
          "coloraxis": {
           "colorbar": {
            "outlinewidth": 0,
            "ticks": ""
           }
          },
          "colorscale": {
           "diverging": [
            [
             0,
             "#8e0152"
            ],
            [
             0.1,
             "#c51b7d"
            ],
            [
             0.2,
             "#de77ae"
            ],
            [
             0.3,
             "#f1b6da"
            ],
            [
             0.4,
             "#fde0ef"
            ],
            [
             0.5,
             "#f7f7f7"
            ],
            [
             0.6,
             "#e6f5d0"
            ],
            [
             0.7,
             "#b8e186"
            ],
            [
             0.8,
             "#7fbc41"
            ],
            [
             0.9,
             "#4d9221"
            ],
            [
             1,
             "#276419"
            ]
           ],
           "sequential": [
            [
             0,
             "#0d0887"
            ],
            [
             0.1111111111111111,
             "#46039f"
            ],
            [
             0.2222222222222222,
             "#7201a8"
            ],
            [
             0.3333333333333333,
             "#9c179e"
            ],
            [
             0.4444444444444444,
             "#bd3786"
            ],
            [
             0.5555555555555556,
             "#d8576b"
            ],
            [
             0.6666666666666666,
             "#ed7953"
            ],
            [
             0.7777777777777778,
             "#fb9f3a"
            ],
            [
             0.8888888888888888,
             "#fdca26"
            ],
            [
             1,
             "#f0f921"
            ]
           ],
           "sequentialminus": [
            [
             0,
             "#0d0887"
            ],
            [
             0.1111111111111111,
             "#46039f"
            ],
            [
             0.2222222222222222,
             "#7201a8"
            ],
            [
             0.3333333333333333,
             "#9c179e"
            ],
            [
             0.4444444444444444,
             "#bd3786"
            ],
            [
             0.5555555555555556,
             "#d8576b"
            ],
            [
             0.6666666666666666,
             "#ed7953"
            ],
            [
             0.7777777777777778,
             "#fb9f3a"
            ],
            [
             0.8888888888888888,
             "#fdca26"
            ],
            [
             1,
             "#f0f921"
            ]
           ]
          },
          "colorway": [
           "#636efa",
           "#EF553B",
           "#00cc96",
           "#ab63fa",
           "#FFA15A",
           "#19d3f3",
           "#FF6692",
           "#B6E880",
           "#FF97FF",
           "#FECB52"
          ],
          "font": {
           "color": "#2a3f5f"
          },
          "geo": {
           "bgcolor": "white",
           "lakecolor": "white",
           "landcolor": "#E5ECF6",
           "showlakes": true,
           "showland": true,
           "subunitcolor": "white"
          },
          "hoverlabel": {
           "align": "left"
          },
          "hovermode": "closest",
          "mapbox": {
           "style": "light"
          },
          "paper_bgcolor": "white",
          "plot_bgcolor": "#E5ECF6",
          "polar": {
           "angularaxis": {
            "gridcolor": "white",
            "linecolor": "white",
            "ticks": ""
           },
           "bgcolor": "#E5ECF6",
           "radialaxis": {
            "gridcolor": "white",
            "linecolor": "white",
            "ticks": ""
           }
          },
          "scene": {
           "xaxis": {
            "backgroundcolor": "#E5ECF6",
            "gridcolor": "white",
            "gridwidth": 2,
            "linecolor": "white",
            "showbackground": true,
            "ticks": "",
            "zerolinecolor": "white"
           },
           "yaxis": {
            "backgroundcolor": "#E5ECF6",
            "gridcolor": "white",
            "gridwidth": 2,
            "linecolor": "white",
            "showbackground": true,
            "ticks": "",
            "zerolinecolor": "white"
           },
           "zaxis": {
            "backgroundcolor": "#E5ECF6",
            "gridcolor": "white",
            "gridwidth": 2,
            "linecolor": "white",
            "showbackground": true,
            "ticks": "",
            "zerolinecolor": "white"
           }
          },
          "shapedefaults": {
           "line": {
            "color": "#2a3f5f"
           }
          },
          "ternary": {
           "aaxis": {
            "gridcolor": "white",
            "linecolor": "white",
            "ticks": ""
           },
           "baxis": {
            "gridcolor": "white",
            "linecolor": "white",
            "ticks": ""
           },
           "bgcolor": "#E5ECF6",
           "caxis": {
            "gridcolor": "white",
            "linecolor": "white",
            "ticks": ""
           }
          },
          "title": {
           "x": 0.05
          },
          "xaxis": {
           "automargin": true,
           "gridcolor": "white",
           "linecolor": "white",
           "ticks": "",
           "title": {
            "standoff": 15
           },
           "zerolinecolor": "white",
           "zerolinewidth": 2
          },
          "yaxis": {
           "automargin": true,
           "gridcolor": "white",
           "linecolor": "white",
           "ticks": "",
           "title": {
            "standoff": 15
           },
           "zerolinecolor": "white",
           "zerolinewidth": 2
          }
         }
        },
        "title": {
         "text": "Total Impurity vs Effective Alpha"
        },
        "xaxis": {
         "anchor": "y",
         "domain": [
          0,
          1
         ],
         "title": {
          "text": "Effective Alpha"
         }
        },
        "yaxis": {
         "anchor": "x",
         "domain": [
          0,
          1
         ],
         "title": {
          "text": "Total Impurity"
         }
        }
       }
      }
     },
     "metadata": {},
     "output_type": "display_data"
    }
   ],
   "source": [
    "optimal_tree = DecisionTreeRegressor(max_depth=7, random_state=0)\n",
    "optimal_tree.fit(X_train, y_train)\n",
    "\n",
    "path = optimal_tree.cost_complexity_pruning_path(X_train, y_train)\n",
    "ccp_alphas, impurities = path.ccp_alphas, path.impurities\n",
    "\n",
    "fig = px.line(\n",
    "    x=ccp_alphas,\n",
    "    y=impurities,\n",
    "    markers=True,\n",
    "    title=\"Total Impurity vs Effective Alpha\",\n",
    "    labels={\"x\": \"Effective Alpha\", \"y\": \"Total Impurity\"},\n",
    ")\n",
    "fig.show()"
   ]
  },
  {
   "cell_type": "code",
   "execution_count": 11,
   "metadata": {},
   "outputs": [
    {
     "data": {
      "text/plain": [
       "array([0.        , 0.        , 0.04565407, 0.        , 0.33118595,\n",
       "       0.10645524, 0.        , 0.        , 0.        , 0.10136779,\n",
       "       0.        , 0.41533696])"
      ]
     },
     "execution_count": 11,
     "metadata": {},
     "output_type": "execute_result"
    }
   ],
   "source": [
    "tree.feature_importances_"
   ]
  },
  {
   "cell_type": "code",
   "execution_count": 12,
   "metadata": {},
   "outputs": [
    {
     "name": "stdout",
     "output_type": "stream",
     "text": [
      "Alpha: 0.00, Number of Nodes: 635\n",
      "Alpha: 0.00, Number of Nodes: 591\n",
      "Alpha: 0.00, Number of Nodes: 555\n",
      "Alpha: 0.00, Number of Nodes: 549\n",
      "Alpha: 0.00, Number of Nodes: 543\n",
      "Alpha: 0.00, Number of Nodes: 499\n",
      "Alpha: 0.00, Number of Nodes: 489\n",
      "Alpha: 0.00, Number of Nodes: 485\n",
      "Alpha: 0.00, Number of Nodes: 459\n",
      "Alpha: 0.00, Number of Nodes: 427\n",
      "Alpha: 0.00, Number of Nodes: 405\n",
      "Alpha: 0.00, Number of Nodes: 403\n",
      "Alpha: 0.00, Number of Nodes: 367\n",
      "Alpha: 0.00, Number of Nodes: 349\n",
      "Alpha: 0.00, Number of Nodes: 343\n",
      "Alpha: 0.00, Number of Nodes: 327\n",
      "Alpha: 0.00, Number of Nodes: 297\n",
      "Alpha: 0.00, Number of Nodes: 283\n",
      "Alpha: 0.00, Number of Nodes: 277\n",
      "Alpha: 0.00, Number of Nodes: 273\n",
      "Alpha: 0.00, Number of Nodes: 263\n",
      "Alpha: 0.00, Number of Nodes: 241\n",
      "Alpha: 0.00, Number of Nodes: 237\n",
      "Alpha: 0.00, Number of Nodes: 233\n",
      "Alpha: 0.00, Number of Nodes: 223\n",
      "Alpha: 0.01, Number of Nodes: 209\n",
      "Alpha: 0.01, Number of Nodes: 205\n",
      "Alpha: 0.01, Number of Nodes: 195\n",
      "Alpha: 0.01, Number of Nodes: 189\n",
      "Alpha: 0.01, Number of Nodes: 185\n",
      "Alpha: 0.01, Number of Nodes: 173\n",
      "Alpha: 0.01, Number of Nodes: 171\n",
      "Alpha: 0.01, Number of Nodes: 159\n",
      "Alpha: 0.01, Number of Nodes: 159\n",
      "Alpha: 0.01, Number of Nodes: 151\n",
      "Alpha: 0.02, Number of Nodes: 139\n",
      "Alpha: 0.02, Number of Nodes: 137\n",
      "Alpha: 0.02, Number of Nodes: 137\n",
      "Alpha: 0.02, Number of Nodes: 133\n",
      "Alpha: 0.02, Number of Nodes: 129\n",
      "Alpha: 0.02, Number of Nodes: 125\n",
      "Alpha: 0.02, Number of Nodes: 121\n",
      "Alpha: 0.02, Number of Nodes: 119\n",
      "Alpha: 0.02, Number of Nodes: 115\n",
      "Alpha: 0.02, Number of Nodes: 113\n",
      "Alpha: 0.02, Number of Nodes: 111\n",
      "Alpha: 0.02, Number of Nodes: 107\n",
      "Alpha: 0.02, Number of Nodes: 103\n",
      "Alpha: 0.03, Number of Nodes: 103\n",
      "Alpha: 0.03, Number of Nodes: 99\n",
      "Alpha: 0.03, Number of Nodes: 95\n",
      "Alpha: 0.03, Number of Nodes: 95\n",
      "Alpha: 0.03, Number of Nodes: 93\n",
      "Alpha: 0.03, Number of Nodes: 89\n",
      "Alpha: 0.03, Number of Nodes: 89\n",
      "Alpha: 0.03, Number of Nodes: 85\n",
      "Alpha: 0.03, Number of Nodes: 83\n",
      "Alpha: 0.03, Number of Nodes: 83\n",
      "Alpha: 0.03, Number of Nodes: 81\n",
      "Alpha: 0.03, Number of Nodes: 79\n",
      "Alpha: 0.03, Number of Nodes: 77\n",
      "Alpha: 0.04, Number of Nodes: 77\n",
      "Alpha: 0.04, Number of Nodes: 71\n",
      "Alpha: 0.04, Number of Nodes: 67\n",
      "Alpha: 0.04, Number of Nodes: 61\n",
      "Alpha: 0.04, Number of Nodes: 61\n",
      "Alpha: 0.05, Number of Nodes: 59\n",
      "Alpha: 0.05, Number of Nodes: 57\n",
      "Alpha: 0.05, Number of Nodes: 55\n",
      "Alpha: 0.05, Number of Nodes: 51\n",
      "Alpha: 0.05, Number of Nodes: 49\n",
      "Alpha: 0.06, Number of Nodes: 47\n",
      "Alpha: 0.07, Number of Nodes: 45\n",
      "Alpha: 0.07, Number of Nodes: 43\n",
      "Alpha: 0.08, Number of Nodes: 41\n",
      "Alpha: 0.08, Number of Nodes: 41\n",
      "Alpha: 0.09, Number of Nodes: 39\n",
      "Alpha: 0.09, Number of Nodes: 37\n",
      "Alpha: 0.10, Number of Nodes: 35\n",
      "Alpha: 0.10, Number of Nodes: 31\n",
      "Alpha: 0.11, Number of Nodes: 27\n",
      "Alpha: 0.12, Number of Nodes: 27\n",
      "Alpha: 0.12, Number of Nodes: 23\n",
      "Alpha: 0.14, Number of Nodes: 21\n",
      "Alpha: 0.15, Number of Nodes: 21\n",
      "Alpha: 0.16, Number of Nodes: 19\n",
      "Alpha: 0.20, Number of Nodes: 17\n",
      "Alpha: 0.21, Number of Nodes: 15\n",
      "Alpha: 0.22, Number of Nodes: 11\n",
      "Alpha: 0.38, Number of Nodes: 11\n",
      "Alpha: 0.44, Number of Nodes: 7\n",
      "Alpha: 0.50, Number of Nodes: 5\n",
      "Alpha: 0.93, Number of Nodes: 3\n",
      "Alpha: 1.79, Number of Nodes: 3\n"
     ]
    }
   ],
   "source": [
    "trees = []\n",
    "for ccp_alpha in ccp_alphas:\n",
    "    tree = DecisionTreeRegressor(ccp_alpha=ccp_alpha, random_state=0)\n",
    "    tree.fit(X_train, y_train)\n",
    "    trees.append(tree)\n",
    "\n",
    "    print(f\"Alpha: {ccp_alpha:.2f}, Number of Nodes: {tree.tree_.node_count}\")\n"
   ]
  },
  {
   "cell_type": "code",
   "execution_count": 13,
   "metadata": {},
   "outputs": [
    {
     "data": {
      "application/vnd.plotly.v1+json": {
       "config": {
        "plotlyServerURL": "https://plot.ly"
       },
       "data": [
        {
         "hovertemplate": "variable=Train Score<br>Alpha=%{x}<br>Accuracy=%{y}<extra></extra>",
         "legendgroup": "Train Score",
         "line": {
          "color": "#636efa",
          "dash": "solid"
         },
         "marker": {
          "symbol": "circle"
         },
         "mode": "lines+markers",
         "name": "Train Score",
         "orientation": "v",
         "showlegend": true,
         "type": "scatter",
         "x": [
          0,
          0.000005625000000053504,
          0.00002250000000003638,
          0.00003062499999995083,
          0.000039999999999998194,
          0.00008265624999981291,
          0.00010562500000006469,
          0.00012249999999989215,
          0.00018062500000004533,
          0.00033062500000022863,
          0.00045046874999999655,
          0.0004556249999999817,
          0.0008700104166666556,
          0.0011102083333335954,
          0.0011408333333332353,
          0.0014699999999999045,
          0.0020008333333332738,
          0.0024300000000001985,
          0.0025878124999996646,
          0.002722500000000001,
          0.0029326562500008534,
          0.0035444531250003134,
          0.0037625104166664424,
          0.004356276041666618,
          0.004625208333333486,
          0.00536671874999999,
          0.005370041666666592,
          0.005658010416665827,
          0.006971836805557619,
          0.007593750000000066,
          0.008790651041666209,
          0.009145510416665649,
          0.011640312500000017,
          0.011935651041666917,
          0.013537499999999925,
          0.016312633928570984,
          0.016415127840909927,
          0.016470069444444714,
          0.017460468749999982,
          0.01770086292613633,
          0.018858023437499895,
          0.019285013020833554,
          0.020601904761904266,
          0.020676257440476763,
          0.021150854640152213,
          0.02208939062500015,
          0.023623650173611177,
          0.024897950148811,
          0.025204168526783283,
          0.026083950892856887,
          0.026680584415583616,
          0.02681850189393896,
          0.027573984374998764,
          0.028900000000000547,
          0.02898502604166607,
          0.029199114583334147,
          0.029763910361841894,
          0.030155634453781333,
          0.03386250946969795,
          0.03452983072916864,
          0.034957656250001135,
          0.03579602149905867,
          0.03789005357142794,
          0.03934284801136201,
          0.0419885318627454,
          0.04400417060574191,
          0.04706956801470365,
          0.04711195647321484,
          0.04800224147726993,
          0.04979857266865166,
          0.05453400757575801,
          0.059685125000002004,
          0.06946768253967453,
          0.07040033840240661,
          0.0763041038074711,
          0.08114962987012894,
          0.09276289067782018,
          0.0928200334821368,
          0.10012927959735554,
          0.10422303851877263,
          0.11403125293702987,
          0.11545144633374196,
          0.12227018887691826,
          0.14228055652888888,
          0.1492233427166007,
          0.16424654149711015,
          0.19623347871101637,
          0.20842980911718723,
          0.21933046600033013,
          0.3764236215737842,
          0.4357060495385694,
          0.4958119466362393,
          0.9277143951100069,
          1.7852300156249772
         ],
         "xaxis": "x",
         "y": [
          1,
          0.9999957190119977,
          0.9999687227072702,
          0.999958952131384,
          0.9999463508873535,
          0.999782585603374,
          0.9997265765404321,
          0.9996977037253618,
          0.9994654394528201,
          0.9990043554173996,
          0.998491187088127,
          0.9984355406051496,
          0.9970723353542955,
          0.9959728752223773,
          0.9955583814401886,
          0.9942641630705858,
          0.9911390214735681,
          0.9891731374413708,
          0.9882309924866947,
          0.9875707089270769,
          0.9858457152083068,
          0.9814651112232634,
          0.9805678167740944,
          0.9796117029492059,
          0.9768625707697206,
          0.9725713516514067,
          0.9712600474961071,
          0.967850935148894,
          0.9655444834487279,
          0.9637655563085772,
          0.957750782477766,
          0.9566623269658239,
          0.9494015756634484,
          0.9494015756634484,
          0.9431341895584422,
          0.9321279292363845,
          0.9301231135832247,
          0.9301231135832247,
          0.9259906374862941,
          0.9216963067437344,
          0.9172461019753394,
          0.9125876090722175,
          0.9101141836543103,
          0.9050727909512474,
          0.9024895905722282,
          0.8998442071510147,
          0.8943694980612215,
          0.8884434483352898,
          0.8884434483352898,
          0.8821381164911483,
          0.8756938677869475,
          0.8756938677869475,
          0.8724184651880549,
          0.8655211733138399,
          0.8655211733138399,
          0.8584150162968993,
          0.8547798844861096,
          0.8547798844861096,
          0.8506441817551852,
          0.8464269776116835,
          0.8421575221967142,
          0.8421575221967142,
          0.8288967619675731,
          0.8195863476960061,
          0.8048481389325723,
          0.8048481389325723,
          0.7994738128298631,
          0.7937251030020798,
          0.7879712161786644,
          0.7760265877242408,
          0.7693662294817087,
          0.7620767539430173,
          0.7535925131442821,
          0.7449943650345153,
          0.7356751770759353,
          0.7356751770759353,
          0.7257641943660527,
          0.7144348585810592,
          0.7030985438197412,
          0.6786405257010983,
          0.6519846492363757,
          0.6519846492363757,
          0.6229511832783863,
          0.6055741460945191,
          0.6055741460945191,
          0.5873491711692862,
          0.5672893799473058,
          0.5433229537575934,
          0.49107965089288097,
          0.49107965089288097,
          0.3918924686289783,
          0.3313378655047374,
          0.21803406677687887,
          0.21803406677687887
         ],
         "yaxis": "y"
        },
        {
         "hovertemplate": "variable=Test Score<br>Alpha=%{x}<br>Accuracy=%{y}<extra></extra>",
         "legendgroup": "Test Score",
         "line": {
          "color": "#EF553B",
          "dash": "solid"
         },
         "marker": {
          "symbol": "circle"
         },
         "mode": "lines+markers",
         "name": "Test Score",
         "orientation": "v",
         "showlegend": true,
         "type": "scatter",
         "x": [
          0,
          0.000005625000000053504,
          0.00002250000000003638,
          0.00003062499999995083,
          0.000039999999999998194,
          0.00008265624999981291,
          0.00010562500000006469,
          0.00012249999999989215,
          0.00018062500000004533,
          0.00033062500000022863,
          0.00045046874999999655,
          0.0004556249999999817,
          0.0008700104166666556,
          0.0011102083333335954,
          0.0011408333333332353,
          0.0014699999999999045,
          0.0020008333333332738,
          0.0024300000000001985,
          0.0025878124999996646,
          0.002722500000000001,
          0.0029326562500008534,
          0.0035444531250003134,
          0.0037625104166664424,
          0.004356276041666618,
          0.004625208333333486,
          0.00536671874999999,
          0.005370041666666592,
          0.005658010416665827,
          0.006971836805557619,
          0.007593750000000066,
          0.008790651041666209,
          0.009145510416665649,
          0.011640312500000017,
          0.011935651041666917,
          0.013537499999999925,
          0.016312633928570984,
          0.016415127840909927,
          0.016470069444444714,
          0.017460468749999982,
          0.01770086292613633,
          0.018858023437499895,
          0.019285013020833554,
          0.020601904761904266,
          0.020676257440476763,
          0.021150854640152213,
          0.02208939062500015,
          0.023623650173611177,
          0.024897950148811,
          0.025204168526783283,
          0.026083950892856887,
          0.026680584415583616,
          0.02681850189393896,
          0.027573984374998764,
          0.028900000000000547,
          0.02898502604166607,
          0.029199114583334147,
          0.029763910361841894,
          0.030155634453781333,
          0.03386250946969795,
          0.03452983072916864,
          0.034957656250001135,
          0.03579602149905867,
          0.03789005357142794,
          0.03934284801136201,
          0.0419885318627454,
          0.04400417060574191,
          0.04706956801470365,
          0.04711195647321484,
          0.04800224147726993,
          0.04979857266865166,
          0.05453400757575801,
          0.059685125000002004,
          0.06946768253967453,
          0.07040033840240661,
          0.0763041038074711,
          0.08114962987012894,
          0.09276289067782018,
          0.0928200334821368,
          0.10012927959735554,
          0.10422303851877263,
          0.11403125293702987,
          0.11545144633374196,
          0.12227018887691826,
          0.14228055652888888,
          0.1492233427166007,
          0.16424654149711015,
          0.19623347871101637,
          0.20842980911718723,
          0.21933046600033013,
          0.3764236215737842,
          0.4357060495385694,
          0.4958119466362393,
          0.9277143951100069,
          1.7852300156249772
         ],
         "xaxis": "x",
         "y": [
          0.16321177435962453,
          0.16302989814693414,
          0.16234175965463038,
          0.16249067904297665,
          0.16305799099858187,
          0.16262018294737246,
          0.1646487323078596,
          0.16462836726329932,
          0.16686663567083637,
          0.16284379184376274,
          0.16364156923047812,
          0.16529604727023806,
          0.16768846093252876,
          0.17470366697767903,
          0.1772006123630503,
          0.18104376881565531,
          0.18163665971170329,
          0.16859391842123184,
          0.17091498800882787,
          0.17091498800882787,
          0.18113149476626533,
          0.24746404615790296,
          0.24746404615790296,
          0.24287372874788649,
          0.24844867611151333,
          0.25245559520106375,
          0.2598737008734844,
          0.25467809479095027,
          0.2478484520299552,
          0.21831184782272106,
          0.22534650224551067,
          0.22002573659938618,
          0.19032527186139447,
          0.19032527186139447,
          0.19032527186139447,
          0.1900361508018905,
          0.1995894503840827,
          0.1995894503840827,
          0.1891158467193601,
          0.20547119541845071,
          0.22025735078731856,
          0.21362651921220355,
          0.2111503156518748,
          0.23567515599513367,
          0.2399721250257767,
          0.2399721250257767,
          0.21871501576359487,
          0.18407995258703735,
          0.18407995258703735,
          0.1986289195437685,
          0.18018095049490668,
          0.18018095049490668,
          0.20328812850577005,
          0.20328812850577005,
          0.20328812850577005,
          0.2505122727358947,
          0.2470338604664395,
          0.2470338604664395,
          0.2366089606701698,
          0.2330531494529965,
          0.24278376674751168,
          0.24278376674751168,
          0.2460724427329961,
          0.2445280510786505,
          0.22438876739363478,
          0.22438876739363478,
          0.22044845183169193,
          0.24026515110200652,
          0.23527690208037633,
          0.25423308286498303,
          0.19933043434706543,
          0.22754528715819455,
          0.28557985348699855,
          0.2755823097076382,
          0.27650879280011165,
          0.27650879280011165,
          0.29299173155754343,
          0.29577683516362174,
          0.3091896619807618,
          0.3321645774493569,
          0.310333966051513,
          0.310333966051513,
          0.32901294343847187,
          0.3940292835601733,
          0.3940292835601733,
          0.40558420901646197,
          0.43625991742617953,
          0.4122297639649971,
          0.40878148159536487,
          0.40878148159536487,
          0.43638479961458576,
          0.4346370529385539,
          0.3856033619270717,
          0.3856033619270717
         ],
         "yaxis": "y"
        }
       ],
       "layout": {
        "legend": {
         "title": {
          "text": "Dataset"
         },
         "tracegroupgap": 0
        },
        "template": {
         "data": {
          "bar": [
           {
            "error_x": {
             "color": "#2a3f5f"
            },
            "error_y": {
             "color": "#2a3f5f"
            },
            "marker": {
             "line": {
              "color": "#E5ECF6",
              "width": 0.5
             },
             "pattern": {
              "fillmode": "overlay",
              "size": 10,
              "solidity": 0.2
             }
            },
            "type": "bar"
           }
          ],
          "barpolar": [
           {
            "marker": {
             "line": {
              "color": "#E5ECF6",
              "width": 0.5
             },
             "pattern": {
              "fillmode": "overlay",
              "size": 10,
              "solidity": 0.2
             }
            },
            "type": "barpolar"
           }
          ],
          "carpet": [
           {
            "aaxis": {
             "endlinecolor": "#2a3f5f",
             "gridcolor": "white",
             "linecolor": "white",
             "minorgridcolor": "white",
             "startlinecolor": "#2a3f5f"
            },
            "baxis": {
             "endlinecolor": "#2a3f5f",
             "gridcolor": "white",
             "linecolor": "white",
             "minorgridcolor": "white",
             "startlinecolor": "#2a3f5f"
            },
            "type": "carpet"
           }
          ],
          "choropleth": [
           {
            "colorbar": {
             "outlinewidth": 0,
             "ticks": ""
            },
            "type": "choropleth"
           }
          ],
          "contour": [
           {
            "colorbar": {
             "outlinewidth": 0,
             "ticks": ""
            },
            "colorscale": [
             [
              0,
              "#0d0887"
             ],
             [
              0.1111111111111111,
              "#46039f"
             ],
             [
              0.2222222222222222,
              "#7201a8"
             ],
             [
              0.3333333333333333,
              "#9c179e"
             ],
             [
              0.4444444444444444,
              "#bd3786"
             ],
             [
              0.5555555555555556,
              "#d8576b"
             ],
             [
              0.6666666666666666,
              "#ed7953"
             ],
             [
              0.7777777777777778,
              "#fb9f3a"
             ],
             [
              0.8888888888888888,
              "#fdca26"
             ],
             [
              1,
              "#f0f921"
             ]
            ],
            "type": "contour"
           }
          ],
          "contourcarpet": [
           {
            "colorbar": {
             "outlinewidth": 0,
             "ticks": ""
            },
            "type": "contourcarpet"
           }
          ],
          "heatmap": [
           {
            "colorbar": {
             "outlinewidth": 0,
             "ticks": ""
            },
            "colorscale": [
             [
              0,
              "#0d0887"
             ],
             [
              0.1111111111111111,
              "#46039f"
             ],
             [
              0.2222222222222222,
              "#7201a8"
             ],
             [
              0.3333333333333333,
              "#9c179e"
             ],
             [
              0.4444444444444444,
              "#bd3786"
             ],
             [
              0.5555555555555556,
              "#d8576b"
             ],
             [
              0.6666666666666666,
              "#ed7953"
             ],
             [
              0.7777777777777778,
              "#fb9f3a"
             ],
             [
              0.8888888888888888,
              "#fdca26"
             ],
             [
              1,
              "#f0f921"
             ]
            ],
            "type": "heatmap"
           }
          ],
          "heatmapgl": [
           {
            "colorbar": {
             "outlinewidth": 0,
             "ticks": ""
            },
            "colorscale": [
             [
              0,
              "#0d0887"
             ],
             [
              0.1111111111111111,
              "#46039f"
             ],
             [
              0.2222222222222222,
              "#7201a8"
             ],
             [
              0.3333333333333333,
              "#9c179e"
             ],
             [
              0.4444444444444444,
              "#bd3786"
             ],
             [
              0.5555555555555556,
              "#d8576b"
             ],
             [
              0.6666666666666666,
              "#ed7953"
             ],
             [
              0.7777777777777778,
              "#fb9f3a"
             ],
             [
              0.8888888888888888,
              "#fdca26"
             ],
             [
              1,
              "#f0f921"
             ]
            ],
            "type": "heatmapgl"
           }
          ],
          "histogram": [
           {
            "marker": {
             "pattern": {
              "fillmode": "overlay",
              "size": 10,
              "solidity": 0.2
             }
            },
            "type": "histogram"
           }
          ],
          "histogram2d": [
           {
            "colorbar": {
             "outlinewidth": 0,
             "ticks": ""
            },
            "colorscale": [
             [
              0,
              "#0d0887"
             ],
             [
              0.1111111111111111,
              "#46039f"
             ],
             [
              0.2222222222222222,
              "#7201a8"
             ],
             [
              0.3333333333333333,
              "#9c179e"
             ],
             [
              0.4444444444444444,
              "#bd3786"
             ],
             [
              0.5555555555555556,
              "#d8576b"
             ],
             [
              0.6666666666666666,
              "#ed7953"
             ],
             [
              0.7777777777777778,
              "#fb9f3a"
             ],
             [
              0.8888888888888888,
              "#fdca26"
             ],
             [
              1,
              "#f0f921"
             ]
            ],
            "type": "histogram2d"
           }
          ],
          "histogram2dcontour": [
           {
            "colorbar": {
             "outlinewidth": 0,
             "ticks": ""
            },
            "colorscale": [
             [
              0,
              "#0d0887"
             ],
             [
              0.1111111111111111,
              "#46039f"
             ],
             [
              0.2222222222222222,
              "#7201a8"
             ],
             [
              0.3333333333333333,
              "#9c179e"
             ],
             [
              0.4444444444444444,
              "#bd3786"
             ],
             [
              0.5555555555555556,
              "#d8576b"
             ],
             [
              0.6666666666666666,
              "#ed7953"
             ],
             [
              0.7777777777777778,
              "#fb9f3a"
             ],
             [
              0.8888888888888888,
              "#fdca26"
             ],
             [
              1,
              "#f0f921"
             ]
            ],
            "type": "histogram2dcontour"
           }
          ],
          "mesh3d": [
           {
            "colorbar": {
             "outlinewidth": 0,
             "ticks": ""
            },
            "type": "mesh3d"
           }
          ],
          "parcoords": [
           {
            "line": {
             "colorbar": {
              "outlinewidth": 0,
              "ticks": ""
             }
            },
            "type": "parcoords"
           }
          ],
          "pie": [
           {
            "automargin": true,
            "type": "pie"
           }
          ],
          "scatter": [
           {
            "fillpattern": {
             "fillmode": "overlay",
             "size": 10,
             "solidity": 0.2
            },
            "type": "scatter"
           }
          ],
          "scatter3d": [
           {
            "line": {
             "colorbar": {
              "outlinewidth": 0,
              "ticks": ""
             }
            },
            "marker": {
             "colorbar": {
              "outlinewidth": 0,
              "ticks": ""
             }
            },
            "type": "scatter3d"
           }
          ],
          "scattercarpet": [
           {
            "marker": {
             "colorbar": {
              "outlinewidth": 0,
              "ticks": ""
             }
            },
            "type": "scattercarpet"
           }
          ],
          "scattergeo": [
           {
            "marker": {
             "colorbar": {
              "outlinewidth": 0,
              "ticks": ""
             }
            },
            "type": "scattergeo"
           }
          ],
          "scattergl": [
           {
            "marker": {
             "colorbar": {
              "outlinewidth": 0,
              "ticks": ""
             }
            },
            "type": "scattergl"
           }
          ],
          "scattermapbox": [
           {
            "marker": {
             "colorbar": {
              "outlinewidth": 0,
              "ticks": ""
             }
            },
            "type": "scattermapbox"
           }
          ],
          "scatterpolar": [
           {
            "marker": {
             "colorbar": {
              "outlinewidth": 0,
              "ticks": ""
             }
            },
            "type": "scatterpolar"
           }
          ],
          "scatterpolargl": [
           {
            "marker": {
             "colorbar": {
              "outlinewidth": 0,
              "ticks": ""
             }
            },
            "type": "scatterpolargl"
           }
          ],
          "scatterternary": [
           {
            "marker": {
             "colorbar": {
              "outlinewidth": 0,
              "ticks": ""
             }
            },
            "type": "scatterternary"
           }
          ],
          "surface": [
           {
            "colorbar": {
             "outlinewidth": 0,
             "ticks": ""
            },
            "colorscale": [
             [
              0,
              "#0d0887"
             ],
             [
              0.1111111111111111,
              "#46039f"
             ],
             [
              0.2222222222222222,
              "#7201a8"
             ],
             [
              0.3333333333333333,
              "#9c179e"
             ],
             [
              0.4444444444444444,
              "#bd3786"
             ],
             [
              0.5555555555555556,
              "#d8576b"
             ],
             [
              0.6666666666666666,
              "#ed7953"
             ],
             [
              0.7777777777777778,
              "#fb9f3a"
             ],
             [
              0.8888888888888888,
              "#fdca26"
             ],
             [
              1,
              "#f0f921"
             ]
            ],
            "type": "surface"
           }
          ],
          "table": [
           {
            "cells": {
             "fill": {
              "color": "#EBF0F8"
             },
             "line": {
              "color": "white"
             }
            },
            "header": {
             "fill": {
              "color": "#C8D4E3"
             },
             "line": {
              "color": "white"
             }
            },
            "type": "table"
           }
          ]
         },
         "layout": {
          "annotationdefaults": {
           "arrowcolor": "#2a3f5f",
           "arrowhead": 0,
           "arrowwidth": 1
          },
          "autotypenumbers": "strict",
          "coloraxis": {
           "colorbar": {
            "outlinewidth": 0,
            "ticks": ""
           }
          },
          "colorscale": {
           "diverging": [
            [
             0,
             "#8e0152"
            ],
            [
             0.1,
             "#c51b7d"
            ],
            [
             0.2,
             "#de77ae"
            ],
            [
             0.3,
             "#f1b6da"
            ],
            [
             0.4,
             "#fde0ef"
            ],
            [
             0.5,
             "#f7f7f7"
            ],
            [
             0.6,
             "#e6f5d0"
            ],
            [
             0.7,
             "#b8e186"
            ],
            [
             0.8,
             "#7fbc41"
            ],
            [
             0.9,
             "#4d9221"
            ],
            [
             1,
             "#276419"
            ]
           ],
           "sequential": [
            [
             0,
             "#0d0887"
            ],
            [
             0.1111111111111111,
             "#46039f"
            ],
            [
             0.2222222222222222,
             "#7201a8"
            ],
            [
             0.3333333333333333,
             "#9c179e"
            ],
            [
             0.4444444444444444,
             "#bd3786"
            ],
            [
             0.5555555555555556,
             "#d8576b"
            ],
            [
             0.6666666666666666,
             "#ed7953"
            ],
            [
             0.7777777777777778,
             "#fb9f3a"
            ],
            [
             0.8888888888888888,
             "#fdca26"
            ],
            [
             1,
             "#f0f921"
            ]
           ],
           "sequentialminus": [
            [
             0,
             "#0d0887"
            ],
            [
             0.1111111111111111,
             "#46039f"
            ],
            [
             0.2222222222222222,
             "#7201a8"
            ],
            [
             0.3333333333333333,
             "#9c179e"
            ],
            [
             0.4444444444444444,
             "#bd3786"
            ],
            [
             0.5555555555555556,
             "#d8576b"
            ],
            [
             0.6666666666666666,
             "#ed7953"
            ],
            [
             0.7777777777777778,
             "#fb9f3a"
            ],
            [
             0.8888888888888888,
             "#fdca26"
            ],
            [
             1,
             "#f0f921"
            ]
           ]
          },
          "colorway": [
           "#636efa",
           "#EF553B",
           "#00cc96",
           "#ab63fa",
           "#FFA15A",
           "#19d3f3",
           "#FF6692",
           "#B6E880",
           "#FF97FF",
           "#FECB52"
          ],
          "font": {
           "color": "#2a3f5f"
          },
          "geo": {
           "bgcolor": "white",
           "lakecolor": "white",
           "landcolor": "#E5ECF6",
           "showlakes": true,
           "showland": true,
           "subunitcolor": "white"
          },
          "hoverlabel": {
           "align": "left"
          },
          "hovermode": "closest",
          "mapbox": {
           "style": "light"
          },
          "paper_bgcolor": "white",
          "plot_bgcolor": "#E5ECF6",
          "polar": {
           "angularaxis": {
            "gridcolor": "white",
            "linecolor": "white",
            "ticks": ""
           },
           "bgcolor": "#E5ECF6",
           "radialaxis": {
            "gridcolor": "white",
            "linecolor": "white",
            "ticks": ""
           }
          },
          "scene": {
           "xaxis": {
            "backgroundcolor": "#E5ECF6",
            "gridcolor": "white",
            "gridwidth": 2,
            "linecolor": "white",
            "showbackground": true,
            "ticks": "",
            "zerolinecolor": "white"
           },
           "yaxis": {
            "backgroundcolor": "#E5ECF6",
            "gridcolor": "white",
            "gridwidth": 2,
            "linecolor": "white",
            "showbackground": true,
            "ticks": "",
            "zerolinecolor": "white"
           },
           "zaxis": {
            "backgroundcolor": "#E5ECF6",
            "gridcolor": "white",
            "gridwidth": 2,
            "linecolor": "white",
            "showbackground": true,
            "ticks": "",
            "zerolinecolor": "white"
           }
          },
          "shapedefaults": {
           "line": {
            "color": "#2a3f5f"
           }
          },
          "ternary": {
           "aaxis": {
            "gridcolor": "white",
            "linecolor": "white",
            "ticks": ""
           },
           "baxis": {
            "gridcolor": "white",
            "linecolor": "white",
            "ticks": ""
           },
           "bgcolor": "#E5ECF6",
           "caxis": {
            "gridcolor": "white",
            "linecolor": "white",
            "ticks": ""
           }
          },
          "title": {
           "x": 0.05
          },
          "xaxis": {
           "automargin": true,
           "gridcolor": "white",
           "linecolor": "white",
           "ticks": "",
           "title": {
            "standoff": 15
           },
           "zerolinecolor": "white",
           "zerolinewidth": 2
          },
          "yaxis": {
           "automargin": true,
           "gridcolor": "white",
           "linecolor": "white",
           "ticks": "",
           "title": {
            "standoff": 15
           },
           "zerolinecolor": "white",
           "zerolinewidth": 2
          }
         }
        },
        "title": {
         "text": "Accuracy vs Alpha"
        },
        "xaxis": {
         "anchor": "y",
         "domain": [
          0,
          1
         ],
         "title": {
          "text": "Alpha"
         }
        },
        "yaxis": {
         "anchor": "x",
         "domain": [
          0,
          1
         ],
         "title": {
          "text": "Accuracy"
         }
        }
       }
      }
     },
     "metadata": {},
     "output_type": "display_data"
    }
   ],
   "source": [
    "train_scores = [tree.score(X_train, y_train) for tree in trees]\n",
    "test_scores = [tree.score(X_test, y_test) for tree in trees]\n",
    "\n",
    "\n",
    "prune_df = pd.DataFrame(\n",
    "    {\"Alpha\": ccp_alphas, \"Train Score\": train_scores, \"Test Score\": test_scores}\n",
    ")\n",
    "fig = px.line(\n",
    "    prune_df,\n",
    "    x=\"Alpha\",\n",
    "    y=[\"Train Score\", \"Test Score\"],\n",
    "    title=\"Accuracy vs Alpha\",\n",
    "    markers=True,\n",
    "    labels={\"value\": \"Accuracy\"},\n",
    ")\n",
    "fig.update_layout({\"legend_title\": \"Dataset\"})\n",
    "fig.show()"
   ]
  },
  {
   "cell_type": "code",
   "execution_count": 14,
   "metadata": {},
   "outputs": [
    {
     "name": "stdout",
     "output_type": "stream",
     "text": [
      "Train MSE: 0.64\n",
      "Test MSE: 2.24\n"
     ]
    }
   ],
   "source": [
    "from sklearn.ensemble import BaggingRegressor\n",
    "\n",
    "bagging = BaggingRegressor(estimator=optimal_tree, n_estimators=100, random_state=0)\n",
    "bagging.fit(X_train, y_train)\n",
    "\n",
    "train_mse  = mean_squared_error(y_train, bagging.predict(X_train))\n",
    "test_mse = mean_squared_error(y_test, bagging.predict(X_test))\n",
    "print(f\"Train MSE: {train_mse:.2f}\")\n",
    "print(f\"Test MSE: {test_mse:.2f}\")\n",
    "\n",
    "\n",
    "feature_importances = pd.DataFrame([\n",
    "    tree.feature_importances_ for tree in bagging.estimators_\n",
    "], columns=X.columns)\n"
   ]
  },
  {
   "cell_type": "code",
   "execution_count": 15,
   "metadata": {},
   "outputs": [
    {
     "data": {
      "text/html": [
       "<div>\n",
       "<style scoped>\n",
       "    .dataframe tbody tr th:only-of-type {\n",
       "        vertical-align: middle;\n",
       "    }\n",
       "\n",
       "    .dataframe tbody tr th {\n",
       "        vertical-align: top;\n",
       "    }\n",
       "\n",
       "    .dataframe thead th {\n",
       "        text-align: right;\n",
       "    }\n",
       "</style>\n",
       "<table border=\"1\" class=\"dataframe\">\n",
       "  <thead>\n",
       "    <tr style=\"text-align: right;\">\n",
       "      <th></th>\n",
       "      <th>count</th>\n",
       "      <th>mean</th>\n",
       "      <th>std</th>\n",
       "      <th>min</th>\n",
       "      <th>25%</th>\n",
       "      <th>50%</th>\n",
       "      <th>75%</th>\n",
       "      <th>max</th>\n",
       "    </tr>\n",
       "  </thead>\n",
       "  <tbody>\n",
       "    <tr>\n",
       "      <th>CompPrice</th>\n",
       "      <td>100.0</td>\n",
       "      <td>0.102913</td>\n",
       "      <td>0.033444</td>\n",
       "      <td>0.037752</td>\n",
       "      <td>0.077041</td>\n",
       "      <td>0.100603</td>\n",
       "      <td>0.123505</td>\n",
       "      <td>0.211098</td>\n",
       "    </tr>\n",
       "    <tr>\n",
       "      <th>Income</th>\n",
       "      <td>100.0</td>\n",
       "      <td>0.047658</td>\n",
       "      <td>0.026288</td>\n",
       "      <td>0.011968</td>\n",
       "      <td>0.028990</td>\n",
       "      <td>0.043677</td>\n",
       "      <td>0.060282</td>\n",
       "      <td>0.170462</td>\n",
       "    </tr>\n",
       "    <tr>\n",
       "      <th>Advertising</th>\n",
       "      <td>100.0</td>\n",
       "      <td>0.062628</td>\n",
       "      <td>0.033239</td>\n",
       "      <td>0.002666</td>\n",
       "      <td>0.037250</td>\n",
       "      <td>0.059231</td>\n",
       "      <td>0.085990</td>\n",
       "      <td>0.155058</td>\n",
       "    </tr>\n",
       "    <tr>\n",
       "      <th>Population</th>\n",
       "      <td>100.0</td>\n",
       "      <td>0.031243</td>\n",
       "      <td>0.020882</td>\n",
       "      <td>0.002570</td>\n",
       "      <td>0.017321</td>\n",
       "      <td>0.025365</td>\n",
       "      <td>0.042077</td>\n",
       "      <td>0.100471</td>\n",
       "    </tr>\n",
       "    <tr>\n",
       "      <th>Price</th>\n",
       "      <td>100.0</td>\n",
       "      <td>0.296271</td>\n",
       "      <td>0.040432</td>\n",
       "      <td>0.207598</td>\n",
       "      <td>0.268249</td>\n",
       "      <td>0.295819</td>\n",
       "      <td>0.323162</td>\n",
       "      <td>0.423496</td>\n",
       "    </tr>\n",
       "    <tr>\n",
       "      <th>Age</th>\n",
       "      <td>100.0</td>\n",
       "      <td>0.115941</td>\n",
       "      <td>0.039930</td>\n",
       "      <td>0.018956</td>\n",
       "      <td>0.090988</td>\n",
       "      <td>0.114236</td>\n",
       "      <td>0.144524</td>\n",
       "      <td>0.217179</td>\n",
       "    </tr>\n",
       "    <tr>\n",
       "      <th>Education</th>\n",
       "      <td>100.0</td>\n",
       "      <td>0.026510</td>\n",
       "      <td>0.016804</td>\n",
       "      <td>0.000944</td>\n",
       "      <td>0.012537</td>\n",
       "      <td>0.022986</td>\n",
       "      <td>0.037816</td>\n",
       "      <td>0.068340</td>\n",
       "    </tr>\n",
       "    <tr>\n",
       "      <th>Urban</th>\n",
       "      <td>100.0</td>\n",
       "      <td>0.003006</td>\n",
       "      <td>0.004306</td>\n",
       "      <td>0.000000</td>\n",
       "      <td>0.000154</td>\n",
       "      <td>0.001526</td>\n",
       "      <td>0.003994</td>\n",
       "      <td>0.022261</td>\n",
       "    </tr>\n",
       "    <tr>\n",
       "      <th>US</th>\n",
       "      <td>100.0</td>\n",
       "      <td>0.006059</td>\n",
       "      <td>0.009978</td>\n",
       "      <td>0.000000</td>\n",
       "      <td>0.000146</td>\n",
       "      <td>0.001607</td>\n",
       "      <td>0.009443</td>\n",
       "      <td>0.069616</td>\n",
       "    </tr>\n",
       "    <tr>\n",
       "      <th>Bad</th>\n",
       "      <td>100.0</td>\n",
       "      <td>0.085466</td>\n",
       "      <td>0.095685</td>\n",
       "      <td>0.000000</td>\n",
       "      <td>0.003337</td>\n",
       "      <td>0.035092</td>\n",
       "      <td>0.187770</td>\n",
       "      <td>0.289122</td>\n",
       "    </tr>\n",
       "    <tr>\n",
       "      <th>Medium</th>\n",
       "      <td>100.0</td>\n",
       "      <td>0.042207</td>\n",
       "      <td>0.040090</td>\n",
       "      <td>0.000000</td>\n",
       "      <td>0.001048</td>\n",
       "      <td>0.039833</td>\n",
       "      <td>0.068129</td>\n",
       "      <td>0.138645</td>\n",
       "    </tr>\n",
       "    <tr>\n",
       "      <th>Good</th>\n",
       "      <td>100.0</td>\n",
       "      <td>0.180100</td>\n",
       "      <td>0.094667</td>\n",
       "      <td>0.000000</td>\n",
       "      <td>0.094781</td>\n",
       "      <td>0.211281</td>\n",
       "      <td>0.246161</td>\n",
       "      <td>0.329448</td>\n",
       "    </tr>\n",
       "  </tbody>\n",
       "</table>\n",
       "</div>"
      ],
      "text/plain": [
       "             count      mean       std       min       25%       50%  \\\n",
       "CompPrice    100.0  0.102913  0.033444  0.037752  0.077041  0.100603   \n",
       "Income       100.0  0.047658  0.026288  0.011968  0.028990  0.043677   \n",
       "Advertising  100.0  0.062628  0.033239  0.002666  0.037250  0.059231   \n",
       "Population   100.0  0.031243  0.020882  0.002570  0.017321  0.025365   \n",
       "Price        100.0  0.296271  0.040432  0.207598  0.268249  0.295819   \n",
       "Age          100.0  0.115941  0.039930  0.018956  0.090988  0.114236   \n",
       "Education    100.0  0.026510  0.016804  0.000944  0.012537  0.022986   \n",
       "Urban        100.0  0.003006  0.004306  0.000000  0.000154  0.001526   \n",
       "US           100.0  0.006059  0.009978  0.000000  0.000146  0.001607   \n",
       "Bad          100.0  0.085466  0.095685  0.000000  0.003337  0.035092   \n",
       "Medium       100.0  0.042207  0.040090  0.000000  0.001048  0.039833   \n",
       "Good         100.0  0.180100  0.094667  0.000000  0.094781  0.211281   \n",
       "\n",
       "                  75%       max  \n",
       "CompPrice    0.123505  0.211098  \n",
       "Income       0.060282  0.170462  \n",
       "Advertising  0.085990  0.155058  \n",
       "Population   0.042077  0.100471  \n",
       "Price        0.323162  0.423496  \n",
       "Age          0.144524  0.217179  \n",
       "Education    0.037816  0.068340  \n",
       "Urban        0.003994  0.022261  \n",
       "US           0.009443  0.069616  \n",
       "Bad          0.187770  0.289122  \n",
       "Medium       0.068129  0.138645  \n",
       "Good         0.246161  0.329448  "
      ]
     },
     "execution_count": 15,
     "metadata": {},
     "output_type": "execute_result"
    }
   ],
   "source": [
    "feature_importances.describe().T"
   ]
  },
  {
   "cell_type": "code",
   "execution_count": 16,
   "metadata": {},
   "outputs": [
    {
     "data": {
      "text/html": [
       "<div>\n",
       "<style scoped>\n",
       "    .dataframe tbody tr th:only-of-type {\n",
       "        vertical-align: middle;\n",
       "    }\n",
       "\n",
       "    .dataframe tbody tr th {\n",
       "        vertical-align: top;\n",
       "    }\n",
       "\n",
       "    .dataframe thead th {\n",
       "        text-align: right;\n",
       "    }\n",
       "</style>\n",
       "<table border=\"1\" class=\"dataframe\">\n",
       "  <thead>\n",
       "    <tr style=\"text-align: right;\">\n",
       "      <th></th>\n",
       "      <th>count</th>\n",
       "      <th>mean</th>\n",
       "      <th>std</th>\n",
       "      <th>min</th>\n",
       "      <th>25%</th>\n",
       "      <th>50%</th>\n",
       "      <th>75%</th>\n",
       "      <th>max</th>\n",
       "    </tr>\n",
       "  </thead>\n",
       "  <tbody>\n",
       "    <tr>\n",
       "      <th>CompPrice</th>\n",
       "      <td>100.0</td>\n",
       "      <td>0.091214</td>\n",
       "      <td>0.028481</td>\n",
       "      <td>0.030002</td>\n",
       "      <td>0.070892</td>\n",
       "      <td>0.091290</td>\n",
       "      <td>0.113589</td>\n",
       "      <td>0.163825</td>\n",
       "    </tr>\n",
       "    <tr>\n",
       "      <th>Income</th>\n",
       "      <td>100.0</td>\n",
       "      <td>0.082516</td>\n",
       "      <td>0.032970</td>\n",
       "      <td>0.024335</td>\n",
       "      <td>0.058903</td>\n",
       "      <td>0.075616</td>\n",
       "      <td>0.101106</td>\n",
       "      <td>0.175356</td>\n",
       "    </tr>\n",
       "    <tr>\n",
       "      <th>Advertising</th>\n",
       "      <td>100.0</td>\n",
       "      <td>0.073735</td>\n",
       "      <td>0.032404</td>\n",
       "      <td>0.014596</td>\n",
       "      <td>0.052122</td>\n",
       "      <td>0.072141</td>\n",
       "      <td>0.089994</td>\n",
       "      <td>0.169821</td>\n",
       "    </tr>\n",
       "    <tr>\n",
       "      <th>Population</th>\n",
       "      <td>100.0</td>\n",
       "      <td>0.070654</td>\n",
       "      <td>0.028313</td>\n",
       "      <td>0.007845</td>\n",
       "      <td>0.052658</td>\n",
       "      <td>0.065866</td>\n",
       "      <td>0.086623</td>\n",
       "      <td>0.145234</td>\n",
       "    </tr>\n",
       "    <tr>\n",
       "      <th>Price</th>\n",
       "      <td>100.0</td>\n",
       "      <td>0.228468</td>\n",
       "      <td>0.062332</td>\n",
       "      <td>0.069352</td>\n",
       "      <td>0.189953</td>\n",
       "      <td>0.228555</td>\n",
       "      <td>0.272286</td>\n",
       "      <td>0.364939</td>\n",
       "    </tr>\n",
       "    <tr>\n",
       "      <th>Age</th>\n",
       "      <td>100.0</td>\n",
       "      <td>0.117002</td>\n",
       "      <td>0.044931</td>\n",
       "      <td>0.044089</td>\n",
       "      <td>0.085149</td>\n",
       "      <td>0.111117</td>\n",
       "      <td>0.136900</td>\n",
       "      <td>0.251176</td>\n",
       "    </tr>\n",
       "    <tr>\n",
       "      <th>Education</th>\n",
       "      <td>100.0</td>\n",
       "      <td>0.048034</td>\n",
       "      <td>0.022447</td>\n",
       "      <td>0.010976</td>\n",
       "      <td>0.032604</td>\n",
       "      <td>0.040734</td>\n",
       "      <td>0.063086</td>\n",
       "      <td>0.117783</td>\n",
       "    </tr>\n",
       "    <tr>\n",
       "      <th>Urban</th>\n",
       "      <td>100.0</td>\n",
       "      <td>0.010167</td>\n",
       "      <td>0.006515</td>\n",
       "      <td>0.000043</td>\n",
       "      <td>0.004815</td>\n",
       "      <td>0.008761</td>\n",
       "      <td>0.014329</td>\n",
       "      <td>0.030855</td>\n",
       "    </tr>\n",
       "    <tr>\n",
       "      <th>US</th>\n",
       "      <td>100.0</td>\n",
       "      <td>0.017253</td>\n",
       "      <td>0.016206</td>\n",
       "      <td>0.000099</td>\n",
       "      <td>0.005642</td>\n",
       "      <td>0.012688</td>\n",
       "      <td>0.022633</td>\n",
       "      <td>0.080274</td>\n",
       "    </tr>\n",
       "    <tr>\n",
       "      <th>Bad</th>\n",
       "      <td>100.0</td>\n",
       "      <td>0.097354</td>\n",
       "      <td>0.070718</td>\n",
       "      <td>0.000000</td>\n",
       "      <td>0.040229</td>\n",
       "      <td>0.084827</td>\n",
       "      <td>0.156654</td>\n",
       "      <td>0.251253</td>\n",
       "    </tr>\n",
       "    <tr>\n",
       "      <th>Medium</th>\n",
       "      <td>100.0</td>\n",
       "      <td>0.041148</td>\n",
       "      <td>0.041686</td>\n",
       "      <td>0.000000</td>\n",
       "      <td>0.006327</td>\n",
       "      <td>0.030000</td>\n",
       "      <td>0.059836</td>\n",
       "      <td>0.189823</td>\n",
       "    </tr>\n",
       "    <tr>\n",
       "      <th>Good</th>\n",
       "      <td>100.0</td>\n",
       "      <td>0.122456</td>\n",
       "      <td>0.080335</td>\n",
       "      <td>0.000000</td>\n",
       "      <td>0.059503</td>\n",
       "      <td>0.127032</td>\n",
       "      <td>0.190622</td>\n",
       "      <td>0.269825</td>\n",
       "    </tr>\n",
       "  </tbody>\n",
       "</table>\n",
       "</div>"
      ],
      "text/plain": [
       "             count      mean       std       min       25%       50%  \\\n",
       "CompPrice    100.0  0.091214  0.028481  0.030002  0.070892  0.091290   \n",
       "Income       100.0  0.082516  0.032970  0.024335  0.058903  0.075616   \n",
       "Advertising  100.0  0.073735  0.032404  0.014596  0.052122  0.072141   \n",
       "Population   100.0  0.070654  0.028313  0.007845  0.052658  0.065866   \n",
       "Price        100.0  0.228468  0.062332  0.069352  0.189953  0.228555   \n",
       "Age          100.0  0.117002  0.044931  0.044089  0.085149  0.111117   \n",
       "Education    100.0  0.048034  0.022447  0.010976  0.032604  0.040734   \n",
       "Urban        100.0  0.010167  0.006515  0.000043  0.004815  0.008761   \n",
       "US           100.0  0.017253  0.016206  0.000099  0.005642  0.012688   \n",
       "Bad          100.0  0.097354  0.070718  0.000000  0.040229  0.084827   \n",
       "Medium       100.0  0.041148  0.041686  0.000000  0.006327  0.030000   \n",
       "Good         100.0  0.122456  0.080335  0.000000  0.059503  0.127032   \n",
       "\n",
       "                  75%       max  \n",
       "CompPrice    0.113589  0.163825  \n",
       "Income       0.101106  0.175356  \n",
       "Advertising  0.089994  0.169821  \n",
       "Population   0.086623  0.145234  \n",
       "Price        0.272286  0.364939  \n",
       "Age          0.136900  0.251176  \n",
       "Education    0.063086  0.117783  \n",
       "Urban        0.014329  0.030855  \n",
       "US           0.022633  0.080274  \n",
       "Bad          0.156654  0.251253  \n",
       "Medium       0.059836  0.189823  \n",
       "Good         0.190622  0.269825  "
      ]
     },
     "execution_count": 16,
     "metadata": {},
     "output_type": "execute_result"
    }
   ],
   "source": [
    "from sklearn.ensemble import RandomForestRegressor\n",
    "\n",
    "forest = RandomForestRegressor(n_estimators=100, random_state=0, max_features=\"sqrt\")\n",
    "forest.fit(X_train, y_train)\n",
    "\n",
    "forest_feature_importances = pd.DataFrame([\n",
    "    tree.feature_importances_ for tree in forest.estimators_\n",
    "], columns=X.columns)\n",
    "\n",
    "forest_feature_importances.describe().T"
   ]
  },
  {
   "cell_type": "code",
   "execution_count": 17,
   "metadata": {},
   "outputs": [
    {
     "data": {
      "application/vnd.plotly.v1+json": {
       "config": {
        "plotlyServerURL": "https://plot.ly"
       },
       "data": [
        {
         "hovertemplate": "variable=train_score<br>n_features=%{x}<br>Score=%{y}<extra></extra>",
         "legendgroup": "train_score",
         "line": {
          "color": "#636efa",
          "dash": "solid"
         },
         "marker": {
          "symbol": "circle"
         },
         "mode": "lines+markers",
         "name": "train_score",
         "orientation": "v",
         "showlegend": true,
         "type": "scatter",
         "x": [
          1,
          2,
          3,
          4,
          5,
          6,
          7,
          8,
          9,
          10,
          11,
          12
         ],
         "xaxis": "x",
         "y": [
          0.9327004317464819,
          0.9426458868654027,
          0.949904363420112,
          0.9531531759630949,
          0.9553929948436396,
          0.9545175862007531,
          0.9561769628270197,
          0.9551542826907287,
          0.9569657643753567,
          0.9571608875504116,
          0.9575371195398816,
          0.9570185731586831
         ],
         "yaxis": "y"
        },
        {
         "hovertemplate": "variable=test_score<br>n_features=%{x}<br>Score=%{y}<extra></extra>",
         "legendgroup": "test_score",
         "line": {
          "color": "#EF553B",
          "dash": "solid"
         },
         "marker": {
          "symbol": "circle"
         },
         "mode": "lines+markers",
         "name": "test_score",
         "orientation": "v",
         "showlegend": true,
         "type": "scatter",
         "x": [
          1,
          2,
          3,
          4,
          5,
          6,
          7,
          8,
          9,
          10,
          11,
          12
         ],
         "xaxis": "x",
         "y": [
          0.5649980076008662,
          0.6401471539935459,
          0.6720191944908918,
          0.6616798216376665,
          0.6724328087095564,
          0.6465234081515752,
          0.6703827085134237,
          0.6710408782243633,
          0.6822616762443174,
          0.6733479951744389,
          0.6690016195778993,
          0.665287209134859
         ],
         "yaxis": "y"
        }
       ],
       "layout": {
        "legend": {
         "title": {
          "text": "variable"
         },
         "tracegroupgap": 0
        },
        "shapes": [
         {
          "line": {
           "color": "red",
           "dash": "dash"
          },
          "type": "line",
          "x0": 9,
          "x1": 9,
          "xref": "x",
          "y0": 0,
          "y1": 1,
          "yref": "y domain"
         }
        ],
        "template": {
         "data": {
          "bar": [
           {
            "error_x": {
             "color": "#2a3f5f"
            },
            "error_y": {
             "color": "#2a3f5f"
            },
            "marker": {
             "line": {
              "color": "#E5ECF6",
              "width": 0.5
             },
             "pattern": {
              "fillmode": "overlay",
              "size": 10,
              "solidity": 0.2
             }
            },
            "type": "bar"
           }
          ],
          "barpolar": [
           {
            "marker": {
             "line": {
              "color": "#E5ECF6",
              "width": 0.5
             },
             "pattern": {
              "fillmode": "overlay",
              "size": 10,
              "solidity": 0.2
             }
            },
            "type": "barpolar"
           }
          ],
          "carpet": [
           {
            "aaxis": {
             "endlinecolor": "#2a3f5f",
             "gridcolor": "white",
             "linecolor": "white",
             "minorgridcolor": "white",
             "startlinecolor": "#2a3f5f"
            },
            "baxis": {
             "endlinecolor": "#2a3f5f",
             "gridcolor": "white",
             "linecolor": "white",
             "minorgridcolor": "white",
             "startlinecolor": "#2a3f5f"
            },
            "type": "carpet"
           }
          ],
          "choropleth": [
           {
            "colorbar": {
             "outlinewidth": 0,
             "ticks": ""
            },
            "type": "choropleth"
           }
          ],
          "contour": [
           {
            "colorbar": {
             "outlinewidth": 0,
             "ticks": ""
            },
            "colorscale": [
             [
              0,
              "#0d0887"
             ],
             [
              0.1111111111111111,
              "#46039f"
             ],
             [
              0.2222222222222222,
              "#7201a8"
             ],
             [
              0.3333333333333333,
              "#9c179e"
             ],
             [
              0.4444444444444444,
              "#bd3786"
             ],
             [
              0.5555555555555556,
              "#d8576b"
             ],
             [
              0.6666666666666666,
              "#ed7953"
             ],
             [
              0.7777777777777778,
              "#fb9f3a"
             ],
             [
              0.8888888888888888,
              "#fdca26"
             ],
             [
              1,
              "#f0f921"
             ]
            ],
            "type": "contour"
           }
          ],
          "contourcarpet": [
           {
            "colorbar": {
             "outlinewidth": 0,
             "ticks": ""
            },
            "type": "contourcarpet"
           }
          ],
          "heatmap": [
           {
            "colorbar": {
             "outlinewidth": 0,
             "ticks": ""
            },
            "colorscale": [
             [
              0,
              "#0d0887"
             ],
             [
              0.1111111111111111,
              "#46039f"
             ],
             [
              0.2222222222222222,
              "#7201a8"
             ],
             [
              0.3333333333333333,
              "#9c179e"
             ],
             [
              0.4444444444444444,
              "#bd3786"
             ],
             [
              0.5555555555555556,
              "#d8576b"
             ],
             [
              0.6666666666666666,
              "#ed7953"
             ],
             [
              0.7777777777777778,
              "#fb9f3a"
             ],
             [
              0.8888888888888888,
              "#fdca26"
             ],
             [
              1,
              "#f0f921"
             ]
            ],
            "type": "heatmap"
           }
          ],
          "heatmapgl": [
           {
            "colorbar": {
             "outlinewidth": 0,
             "ticks": ""
            },
            "colorscale": [
             [
              0,
              "#0d0887"
             ],
             [
              0.1111111111111111,
              "#46039f"
             ],
             [
              0.2222222222222222,
              "#7201a8"
             ],
             [
              0.3333333333333333,
              "#9c179e"
             ],
             [
              0.4444444444444444,
              "#bd3786"
             ],
             [
              0.5555555555555556,
              "#d8576b"
             ],
             [
              0.6666666666666666,
              "#ed7953"
             ],
             [
              0.7777777777777778,
              "#fb9f3a"
             ],
             [
              0.8888888888888888,
              "#fdca26"
             ],
             [
              1,
              "#f0f921"
             ]
            ],
            "type": "heatmapgl"
           }
          ],
          "histogram": [
           {
            "marker": {
             "pattern": {
              "fillmode": "overlay",
              "size": 10,
              "solidity": 0.2
             }
            },
            "type": "histogram"
           }
          ],
          "histogram2d": [
           {
            "colorbar": {
             "outlinewidth": 0,
             "ticks": ""
            },
            "colorscale": [
             [
              0,
              "#0d0887"
             ],
             [
              0.1111111111111111,
              "#46039f"
             ],
             [
              0.2222222222222222,
              "#7201a8"
             ],
             [
              0.3333333333333333,
              "#9c179e"
             ],
             [
              0.4444444444444444,
              "#bd3786"
             ],
             [
              0.5555555555555556,
              "#d8576b"
             ],
             [
              0.6666666666666666,
              "#ed7953"
             ],
             [
              0.7777777777777778,
              "#fb9f3a"
             ],
             [
              0.8888888888888888,
              "#fdca26"
             ],
             [
              1,
              "#f0f921"
             ]
            ],
            "type": "histogram2d"
           }
          ],
          "histogram2dcontour": [
           {
            "colorbar": {
             "outlinewidth": 0,
             "ticks": ""
            },
            "colorscale": [
             [
              0,
              "#0d0887"
             ],
             [
              0.1111111111111111,
              "#46039f"
             ],
             [
              0.2222222222222222,
              "#7201a8"
             ],
             [
              0.3333333333333333,
              "#9c179e"
             ],
             [
              0.4444444444444444,
              "#bd3786"
             ],
             [
              0.5555555555555556,
              "#d8576b"
             ],
             [
              0.6666666666666666,
              "#ed7953"
             ],
             [
              0.7777777777777778,
              "#fb9f3a"
             ],
             [
              0.8888888888888888,
              "#fdca26"
             ],
             [
              1,
              "#f0f921"
             ]
            ],
            "type": "histogram2dcontour"
           }
          ],
          "mesh3d": [
           {
            "colorbar": {
             "outlinewidth": 0,
             "ticks": ""
            },
            "type": "mesh3d"
           }
          ],
          "parcoords": [
           {
            "line": {
             "colorbar": {
              "outlinewidth": 0,
              "ticks": ""
             }
            },
            "type": "parcoords"
           }
          ],
          "pie": [
           {
            "automargin": true,
            "type": "pie"
           }
          ],
          "scatter": [
           {
            "fillpattern": {
             "fillmode": "overlay",
             "size": 10,
             "solidity": 0.2
            },
            "type": "scatter"
           }
          ],
          "scatter3d": [
           {
            "line": {
             "colorbar": {
              "outlinewidth": 0,
              "ticks": ""
             }
            },
            "marker": {
             "colorbar": {
              "outlinewidth": 0,
              "ticks": ""
             }
            },
            "type": "scatter3d"
           }
          ],
          "scattercarpet": [
           {
            "marker": {
             "colorbar": {
              "outlinewidth": 0,
              "ticks": ""
             }
            },
            "type": "scattercarpet"
           }
          ],
          "scattergeo": [
           {
            "marker": {
             "colorbar": {
              "outlinewidth": 0,
              "ticks": ""
             }
            },
            "type": "scattergeo"
           }
          ],
          "scattergl": [
           {
            "marker": {
             "colorbar": {
              "outlinewidth": 0,
              "ticks": ""
             }
            },
            "type": "scattergl"
           }
          ],
          "scattermapbox": [
           {
            "marker": {
             "colorbar": {
              "outlinewidth": 0,
              "ticks": ""
             }
            },
            "type": "scattermapbox"
           }
          ],
          "scatterpolar": [
           {
            "marker": {
             "colorbar": {
              "outlinewidth": 0,
              "ticks": ""
             }
            },
            "type": "scatterpolar"
           }
          ],
          "scatterpolargl": [
           {
            "marker": {
             "colorbar": {
              "outlinewidth": 0,
              "ticks": ""
             }
            },
            "type": "scatterpolargl"
           }
          ],
          "scatterternary": [
           {
            "marker": {
             "colorbar": {
              "outlinewidth": 0,
              "ticks": ""
             }
            },
            "type": "scatterternary"
           }
          ],
          "surface": [
           {
            "colorbar": {
             "outlinewidth": 0,
             "ticks": ""
            },
            "colorscale": [
             [
              0,
              "#0d0887"
             ],
             [
              0.1111111111111111,
              "#46039f"
             ],
             [
              0.2222222222222222,
              "#7201a8"
             ],
             [
              0.3333333333333333,
              "#9c179e"
             ],
             [
              0.4444444444444444,
              "#bd3786"
             ],
             [
              0.5555555555555556,
              "#d8576b"
             ],
             [
              0.6666666666666666,
              "#ed7953"
             ],
             [
              0.7777777777777778,
              "#fb9f3a"
             ],
             [
              0.8888888888888888,
              "#fdca26"
             ],
             [
              1,
              "#f0f921"
             ]
            ],
            "type": "surface"
           }
          ],
          "table": [
           {
            "cells": {
             "fill": {
              "color": "#EBF0F8"
             },
             "line": {
              "color": "white"
             }
            },
            "header": {
             "fill": {
              "color": "#C8D4E3"
             },
             "line": {
              "color": "white"
             }
            },
            "type": "table"
           }
          ]
         },
         "layout": {
          "annotationdefaults": {
           "arrowcolor": "#2a3f5f",
           "arrowhead": 0,
           "arrowwidth": 1
          },
          "autotypenumbers": "strict",
          "coloraxis": {
           "colorbar": {
            "outlinewidth": 0,
            "ticks": ""
           }
          },
          "colorscale": {
           "diverging": [
            [
             0,
             "#8e0152"
            ],
            [
             0.1,
             "#c51b7d"
            ],
            [
             0.2,
             "#de77ae"
            ],
            [
             0.3,
             "#f1b6da"
            ],
            [
             0.4,
             "#fde0ef"
            ],
            [
             0.5,
             "#f7f7f7"
            ],
            [
             0.6,
             "#e6f5d0"
            ],
            [
             0.7,
             "#b8e186"
            ],
            [
             0.8,
             "#7fbc41"
            ],
            [
             0.9,
             "#4d9221"
            ],
            [
             1,
             "#276419"
            ]
           ],
           "sequential": [
            [
             0,
             "#0d0887"
            ],
            [
             0.1111111111111111,
             "#46039f"
            ],
            [
             0.2222222222222222,
             "#7201a8"
            ],
            [
             0.3333333333333333,
             "#9c179e"
            ],
            [
             0.4444444444444444,
             "#bd3786"
            ],
            [
             0.5555555555555556,
             "#d8576b"
            ],
            [
             0.6666666666666666,
             "#ed7953"
            ],
            [
             0.7777777777777778,
             "#fb9f3a"
            ],
            [
             0.8888888888888888,
             "#fdca26"
            ],
            [
             1,
             "#f0f921"
            ]
           ],
           "sequentialminus": [
            [
             0,
             "#0d0887"
            ],
            [
             0.1111111111111111,
             "#46039f"
            ],
            [
             0.2222222222222222,
             "#7201a8"
            ],
            [
             0.3333333333333333,
             "#9c179e"
            ],
            [
             0.4444444444444444,
             "#bd3786"
            ],
            [
             0.5555555555555556,
             "#d8576b"
            ],
            [
             0.6666666666666666,
             "#ed7953"
            ],
            [
             0.7777777777777778,
             "#fb9f3a"
            ],
            [
             0.8888888888888888,
             "#fdca26"
            ],
            [
             1,
             "#f0f921"
            ]
           ]
          },
          "colorway": [
           "#636efa",
           "#EF553B",
           "#00cc96",
           "#ab63fa",
           "#FFA15A",
           "#19d3f3",
           "#FF6692",
           "#B6E880",
           "#FF97FF",
           "#FECB52"
          ],
          "font": {
           "color": "#2a3f5f"
          },
          "geo": {
           "bgcolor": "white",
           "lakecolor": "white",
           "landcolor": "#E5ECF6",
           "showlakes": true,
           "showland": true,
           "subunitcolor": "white"
          },
          "hoverlabel": {
           "align": "left"
          },
          "hovermode": "closest",
          "mapbox": {
           "style": "light"
          },
          "paper_bgcolor": "white",
          "plot_bgcolor": "#E5ECF6",
          "polar": {
           "angularaxis": {
            "gridcolor": "white",
            "linecolor": "white",
            "ticks": ""
           },
           "bgcolor": "#E5ECF6",
           "radialaxis": {
            "gridcolor": "white",
            "linecolor": "white",
            "ticks": ""
           }
          },
          "scene": {
           "xaxis": {
            "backgroundcolor": "#E5ECF6",
            "gridcolor": "white",
            "gridwidth": 2,
            "linecolor": "white",
            "showbackground": true,
            "ticks": "",
            "zerolinecolor": "white"
           },
           "yaxis": {
            "backgroundcolor": "#E5ECF6",
            "gridcolor": "white",
            "gridwidth": 2,
            "linecolor": "white",
            "showbackground": true,
            "ticks": "",
            "zerolinecolor": "white"
           },
           "zaxis": {
            "backgroundcolor": "#E5ECF6",
            "gridcolor": "white",
            "gridwidth": 2,
            "linecolor": "white",
            "showbackground": true,
            "ticks": "",
            "zerolinecolor": "white"
           }
          },
          "shapedefaults": {
           "line": {
            "color": "#2a3f5f"
           }
          },
          "ternary": {
           "aaxis": {
            "gridcolor": "white",
            "linecolor": "white",
            "ticks": ""
           },
           "baxis": {
            "gridcolor": "white",
            "linecolor": "white",
            "ticks": ""
           },
           "bgcolor": "#E5ECF6",
           "caxis": {
            "gridcolor": "white",
            "linecolor": "white",
            "ticks": ""
           }
          },
          "title": {
           "x": 0.05
          },
          "xaxis": {
           "automargin": true,
           "gridcolor": "white",
           "linecolor": "white",
           "ticks": "",
           "title": {
            "standoff": 15
           },
           "zerolinecolor": "white",
           "zerolinewidth": 2
          },
          "yaxis": {
           "automargin": true,
           "gridcolor": "white",
           "linecolor": "white",
           "ticks": "",
           "title": {
            "standoff": 15
           },
           "zerolinecolor": "white",
           "zerolinewidth": 2
          }
         }
        },
        "title": {
         "text": "Random Forest Train Score vs Number of Features"
        },
        "xaxis": {
         "anchor": "y",
         "domain": [
          0,
          1
         ],
         "title": {
          "text": "n_features"
         }
        },
        "yaxis": {
         "anchor": "x",
         "domain": [
          0,
          1
         ],
         "title": {
          "text": "Score"
         }
        }
       }
      }
     },
     "metadata": {},
     "output_type": "display_data"
    }
   ],
   "source": [
    "def fit_forest_with_n_features(n_features):\n",
    "    forest = RandomForestRegressor(n_estimators=100, random_state=0, max_features=n_features)\n",
    "    forest.fit(X_train, y_train)\n",
    "\n",
    "    train_score = forest.score(X_train, y_train)\n",
    "    test_score = forest.score(X_test, y_test)\n",
    "    return train_score, test_score\n",
    "\n",
    "\n",
    "n_features = list(range(1, X.shape[1] + 1))\n",
    "scores = [fit_forest_with_n_features(n) for n in n_features]\n",
    "train_scores = [score[0] for score in scores]\n",
    "test_scores = [score[1] for score in scores]\n",
    "\n",
    "\n",
    "df = pd.DataFrame({\"n_features\": n_features, \"train_score\": train_scores, \"test_score\": test_scores})\n",
    "fig = px.line(\n",
    "    df,\n",
    "    x=\"n_features\",\n",
    "    y=[\"train_score\", \"test_score\"],\n",
    "    title=\"Random Forest Train Score vs Number of Features\",\n",
    "    labels={\"value\": \"Score\", \"x\": \"Max Features\"},\n",
    "    markers=True,\n",
    ")\n",
    "fig.add_vline(x=df[\"n_features\"][df[\"test_score\"].idxmax()], line_dash=\"dash\", line_color=\"red\")\n",
    "fig.show()"
   ]
  },
  {
   "cell_type": "code",
   "execution_count": 18,
   "metadata": {},
   "outputs": [
    {
     "name": "stdout",
     "output_type": "stream",
     "text": [
      "Baseline Train MSE: 8.187849\n",
      "Baseline Test MSE: 7.065166\n",
      "Train MSE: 0.98\n",
      "Test MSE: 1.66\n"
     ]
    },
    {
     "data": {
      "text/plain": [
       "Price          19.933333\n",
       "Good           15.000000\n",
       "Advertising    14.466667\n",
       "CompPrice      14.400000\n",
       "Age            12.466667\n",
       "Bad            12.466667\n",
       "Population     12.133333\n",
       "US             12.000000\n",
       "Medium         11.800000\n",
       "Education       9.666667\n",
       "Income          9.066667\n",
       "Urban           7.466667\n",
       "dtype: float64"
      ]
     },
     "execution_count": 18,
     "metadata": {},
     "output_type": "execute_result"
    }
   ],
   "source": [
    "import numpy as np\n",
    "from ISLP.bart import BART\n",
    "\n",
    "\n",
    "bart_model = BART(num_trees=100, burnin=5, ndraw=15, random_state=0)\n",
    "bart_model.fit(X_train.astype(np.float32), y_train)\n",
    "\n",
    "y_train_pred = bart_model.predict(X_train.astype(np.float32).to_numpy())\n",
    "y_test_pred = bart_model.predict(X_test.astype(np.float32).to_numpy())\n",
    "\n",
    "train_mse = mean_squared_error(y_train, y_train_pred)\n",
    "test_mse = mean_squared_error(y_test, y_test_pred)\n",
    "\n",
    "\n",
    "print(f\"Baseline Train MSE:\", np.mean((y_train - np.mean(y_train)) ** 2))\n",
    "print(f\"Baseline Test MSE:\", np.mean((y_test - np.mean(y_train)) ** 2))\n",
    "print(f\"Train MSE: {train_mse:.2f}\")\n",
    "print(f\"Test MSE: {test_mse:.2f}\")\n",
    "\n",
    "var_inclusion = pd.Series(bart_model.variable_inclusion_.mean(0), index=X.columns)\n",
    "var_inclusion.sort_values(ascending=False)"
   ]
  },
  {
   "cell_type": "markdown",
   "metadata": {},
   "source": [
    "# Question 9"
   ]
  },
  {
   "cell_type": "code",
   "execution_count": 19,
   "metadata": {},
   "outputs": [
    {
     "data": {
      "text/html": [
       "<div>\n",
       "<style scoped>\n",
       "    .dataframe tbody tr th:only-of-type {\n",
       "        vertical-align: middle;\n",
       "    }\n",
       "\n",
       "    .dataframe tbody tr th {\n",
       "        vertical-align: top;\n",
       "    }\n",
       "\n",
       "    .dataframe thead th {\n",
       "        text-align: right;\n",
       "    }\n",
       "</style>\n",
       "<table border=\"1\" class=\"dataframe\">\n",
       "  <thead>\n",
       "    <tr style=\"text-align: right;\">\n",
       "      <th></th>\n",
       "      <th>WeekofPurchase</th>\n",
       "      <th>StoreID</th>\n",
       "      <th>PriceCH</th>\n",
       "      <th>PriceMM</th>\n",
       "      <th>DiscCH</th>\n",
       "      <th>DiscMM</th>\n",
       "      <th>SpecialCH</th>\n",
       "      <th>SpecialMM</th>\n",
       "      <th>LoyalCH</th>\n",
       "      <th>SalePriceMM</th>\n",
       "      <th>SalePriceCH</th>\n",
       "      <th>PriceDiff</th>\n",
       "      <th>Store7</th>\n",
       "      <th>PctDiscMM</th>\n",
       "      <th>PctDiscCH</th>\n",
       "      <th>ListPriceDiff</th>\n",
       "      <th>STORE</th>\n",
       "    </tr>\n",
       "  </thead>\n",
       "  <tbody>\n",
       "    <tr>\n",
       "      <th>0</th>\n",
       "      <td>237</td>\n",
       "      <td>1</td>\n",
       "      <td>1.75</td>\n",
       "      <td>1.99</td>\n",
       "      <td>0.00</td>\n",
       "      <td>0.0</td>\n",
       "      <td>0</td>\n",
       "      <td>0</td>\n",
       "      <td>0.500000</td>\n",
       "      <td>1.99</td>\n",
       "      <td>1.75</td>\n",
       "      <td>0.24</td>\n",
       "      <td>0</td>\n",
       "      <td>0.000000</td>\n",
       "      <td>0.000000</td>\n",
       "      <td>0.24</td>\n",
       "      <td>1</td>\n",
       "    </tr>\n",
       "    <tr>\n",
       "      <th>1</th>\n",
       "      <td>239</td>\n",
       "      <td>1</td>\n",
       "      <td>1.75</td>\n",
       "      <td>1.99</td>\n",
       "      <td>0.00</td>\n",
       "      <td>0.3</td>\n",
       "      <td>0</td>\n",
       "      <td>1</td>\n",
       "      <td>0.600000</td>\n",
       "      <td>1.69</td>\n",
       "      <td>1.75</td>\n",
       "      <td>-0.06</td>\n",
       "      <td>0</td>\n",
       "      <td>0.150754</td>\n",
       "      <td>0.000000</td>\n",
       "      <td>0.24</td>\n",
       "      <td>1</td>\n",
       "    </tr>\n",
       "    <tr>\n",
       "      <th>2</th>\n",
       "      <td>245</td>\n",
       "      <td>1</td>\n",
       "      <td>1.86</td>\n",
       "      <td>2.09</td>\n",
       "      <td>0.17</td>\n",
       "      <td>0.0</td>\n",
       "      <td>0</td>\n",
       "      <td>0</td>\n",
       "      <td>0.680000</td>\n",
       "      <td>2.09</td>\n",
       "      <td>1.69</td>\n",
       "      <td>0.40</td>\n",
       "      <td>0</td>\n",
       "      <td>0.000000</td>\n",
       "      <td>0.091398</td>\n",
       "      <td>0.23</td>\n",
       "      <td>1</td>\n",
       "    </tr>\n",
       "    <tr>\n",
       "      <th>3</th>\n",
       "      <td>227</td>\n",
       "      <td>1</td>\n",
       "      <td>1.69</td>\n",
       "      <td>1.69</td>\n",
       "      <td>0.00</td>\n",
       "      <td>0.0</td>\n",
       "      <td>0</td>\n",
       "      <td>0</td>\n",
       "      <td>0.400000</td>\n",
       "      <td>1.69</td>\n",
       "      <td>1.69</td>\n",
       "      <td>0.00</td>\n",
       "      <td>0</td>\n",
       "      <td>0.000000</td>\n",
       "      <td>0.000000</td>\n",
       "      <td>0.00</td>\n",
       "      <td>1</td>\n",
       "    </tr>\n",
       "    <tr>\n",
       "      <th>4</th>\n",
       "      <td>228</td>\n",
       "      <td>7</td>\n",
       "      <td>1.69</td>\n",
       "      <td>1.69</td>\n",
       "      <td>0.00</td>\n",
       "      <td>0.0</td>\n",
       "      <td>0</td>\n",
       "      <td>0</td>\n",
       "      <td>0.956535</td>\n",
       "      <td>1.69</td>\n",
       "      <td>1.69</td>\n",
       "      <td>0.00</td>\n",
       "      <td>1</td>\n",
       "      <td>0.000000</td>\n",
       "      <td>0.000000</td>\n",
       "      <td>0.00</td>\n",
       "      <td>0</td>\n",
       "    </tr>\n",
       "  </tbody>\n",
       "</table>\n",
       "</div>"
      ],
      "text/plain": [
       "   WeekofPurchase  StoreID  PriceCH  PriceMM  DiscCH  DiscMM  SpecialCH  \\\n",
       "0             237        1     1.75     1.99    0.00     0.0          0   \n",
       "1             239        1     1.75     1.99    0.00     0.3          0   \n",
       "2             245        1     1.86     2.09    0.17     0.0          0   \n",
       "3             227        1     1.69     1.69    0.00     0.0          0   \n",
       "4             228        7     1.69     1.69    0.00     0.0          0   \n",
       "\n",
       "   SpecialMM   LoyalCH  SalePriceMM  SalePriceCH  PriceDiff  Store7  \\\n",
       "0          0  0.500000         1.99         1.75       0.24       0   \n",
       "1          1  0.600000         1.69         1.75      -0.06       0   \n",
       "2          0  0.680000         2.09         1.69       0.40       0   \n",
       "3          0  0.400000         1.69         1.69       0.00       0   \n",
       "4          0  0.956535         1.69         1.69       0.00       1   \n",
       "\n",
       "   PctDiscMM  PctDiscCH  ListPriceDiff  STORE  \n",
       "0   0.000000   0.000000           0.24      1  \n",
       "1   0.150754   0.000000           0.24      1  \n",
       "2   0.000000   0.091398           0.23      1  \n",
       "3   0.000000   0.000000           0.00      1  \n",
       "4   0.000000   0.000000           0.00      0  "
      ]
     },
     "execution_count": 19,
     "metadata": {},
     "output_type": "execute_result"
    }
   ],
   "source": [
    "df = load_data(\"OJ\")\n",
    "for col in df.select_dtypes(\"object\"):\n",
    "    df[col] = df[col].astype(\"category\").cat.codes\n",
    "\n",
    "X = df.drop(\"Purchase\", axis=1)\n",
    "\n",
    "y = df[\"Purchase\"].astype(\"category\").cat.codes\n",
    "\n",
    "num_samples = 1000\n",
    "\n",
    "X_train = X.iloc[:num_samples]\n",
    "y_train = y.iloc[:num_samples]\n",
    "X_test = X.iloc[num_samples:]\n",
    "y_test = y.iloc[num_samples:]\n",
    "\n",
    "X_train.head()"
   ]
  },
  {
   "cell_type": "code",
   "execution_count": 20,
   "metadata": {},
   "outputs": [
    {
     "data": {
      "text/plain": [
       "WeekofPurchase      int64\n",
       "StoreID             int64\n",
       "PriceCH           float64\n",
       "PriceMM           float64\n",
       "DiscCH            float64\n",
       "DiscMM            float64\n",
       "SpecialCH           int64\n",
       "SpecialMM           int64\n",
       "LoyalCH           float64\n",
       "SalePriceMM       float64\n",
       "SalePriceCH       float64\n",
       "PriceDiff         float64\n",
       "Store7               int8\n",
       "PctDiscMM         float64\n",
       "PctDiscCH         float64\n",
       "ListPriceDiff     float64\n",
       "STORE               int64\n",
       "dtype: object"
      ]
     },
     "execution_count": 20,
     "metadata": {},
     "output_type": "execute_result"
    }
   ],
   "source": [
    "X.dtypes"
   ]
  },
  {
   "cell_type": "code",
   "execution_count": 21,
   "metadata": {},
   "outputs": [
    {
     "name": "stdout",
     "output_type": "stream",
     "text": [
      "Baseline Train MSE: 0.23939099999999996\n",
      "Baseline Test MSE: 0.2164661428571429\n",
      "Train MSE: 0.17\n",
      "Test MSE: 0.24\n"
     ]
    }
   ],
   "source": [
    "from sklearn.tree import DecisionTreeClassifier\n",
    "oj_tree = DecisionTreeClassifier(random_state=0, max_depth=3)\n",
    "oj_tree.fit(X_train, y_train)\n",
    "\n",
    "train_mse = mean_squared_error(y_train, oj_tree.predict(X_train))\n",
    "test_mse = mean_squared_error(y_test, oj_tree.predict(X_test))\n",
    "\n",
    "print(f\"Baseline Train MSE:\", np.mean((y_train - np.mean(y_train)) ** 2))\n",
    "print(f\"Baseline Test MSE:\", np.mean((y_test - np.mean(y_train)) ** 2))\n",
    "print(f\"Train MSE: {train_mse:.2f}\")\n",
    "print(f\"Test MSE: {test_mse:.2f}\")"
   ]
  },
  {
   "cell_type": "code",
   "execution_count": 22,
   "metadata": {},
   "outputs": [
    {
     "data": {
      "text/plain": [
       "Purchase             int8\n",
       "WeekofPurchase      int64\n",
       "StoreID             int64\n",
       "PriceCH           float64\n",
       "PriceMM           float64\n",
       "DiscCH            float64\n",
       "DiscMM            float64\n",
       "SpecialCH           int64\n",
       "SpecialMM           int64\n",
       "LoyalCH           float64\n",
       "SalePriceMM       float64\n",
       "SalePriceCH       float64\n",
       "PriceDiff         float64\n",
       "Store7               int8\n",
       "PctDiscMM         float64\n",
       "PctDiscCH         float64\n",
       "ListPriceDiff     float64\n",
       "STORE               int64\n",
       "dtype: object"
      ]
     },
     "execution_count": 22,
     "metadata": {},
     "output_type": "execute_result"
    }
   ],
   "source": [
    "df.dtypes"
   ]
  },
  {
   "cell_type": "code",
   "execution_count": 23,
   "metadata": {},
   "outputs": [
    {
     "data": {
      "image/svg+xml": [
       "<?xml version=\"1.0\" encoding=\"UTF-8\" standalone=\"no\"?>\n",
       "<!DOCTYPE svg PUBLIC \"-//W3C//DTD SVG 1.1//EN\"\n",
       " \"http://www.w3.org/Graphics/SVG/1.1/DTD/svg11.dtd\">\n",
       "<!-- Generated by graphviz version 2.43.0 (0)\n",
       " -->\n",
       "<!-- Title: Tree Pages: 1 -->\n",
       "<svg width=\"1040pt\" height=\"373pt\"\n",
       " viewBox=\"0.00 0.00 1039.50 373.00\" xmlns=\"http://www.w3.org/2000/svg\" xmlns:xlink=\"http://www.w3.org/1999/xlink\">\n",
       "<g id=\"graph0\" class=\"graph\" transform=\"scale(1 1) rotate(0) translate(4 369)\">\n",
       "<title>Tree</title>\n",
       "<polygon fill=\"white\" stroke=\"transparent\" points=\"-4,4 -4,-369 1035.5,-369 1035.5,4 -4,4\"/>\n",
       "<!-- 0 -->\n",
       "<g id=\"node1\" class=\"node\">\n",
       "<title>0</title>\n",
       "<polygon fill=\"#f6d4bb\" stroke=\"black\" points=\"546,-365 420,-365 420,-297 546,-297 546,-365\"/>\n",
       "<text text-anchor=\"middle\" x=\"483\" y=\"-349.8\" font-family=\"Helvetica,sans-Serif\" font-size=\"14.00\">LoyalCH &lt;= 0.483</text>\n",
       "<text text-anchor=\"middle\" x=\"483\" y=\"-334.8\" font-family=\"Helvetica,sans-Serif\" font-size=\"14.00\">gini = 0.479</text>\n",
       "<text text-anchor=\"middle\" x=\"483\" y=\"-319.8\" font-family=\"Helvetica,sans-Serif\" font-size=\"14.00\">samples = 1000</text>\n",
       "<text text-anchor=\"middle\" x=\"483\" y=\"-304.8\" font-family=\"Helvetica,sans-Serif\" font-size=\"14.00\">value = [603, 397]</text>\n",
       "</g>\n",
       "<!-- 1 -->\n",
       "<g id=\"node2\" class=\"node\">\n",
       "<title>1</title>\n",
       "<polygon fill=\"#73baed\" stroke=\"black\" points=\"469,-261 343,-261 343,-193 469,-193 469,-261\"/>\n",
       "<text text-anchor=\"middle\" x=\"406\" y=\"-245.8\" font-family=\"Helvetica,sans-Serif\" font-size=\"14.00\">LoyalCH &lt;= 0.276</text>\n",
       "<text text-anchor=\"middle\" x=\"406\" y=\"-230.8\" font-family=\"Helvetica,sans-Serif\" font-size=\"14.00\">gini = 0.351</text>\n",
       "<text text-anchor=\"middle\" x=\"406\" y=\"-215.8\" font-family=\"Helvetica,sans-Serif\" font-size=\"14.00\">samples = 383</text>\n",
       "<text text-anchor=\"middle\" x=\"406\" y=\"-200.8\" font-family=\"Helvetica,sans-Serif\" font-size=\"14.00\">value = [87, 296]</text>\n",
       "</g>\n",
       "<!-- 0&#45;&gt;1 -->\n",
       "<g id=\"edge1\" class=\"edge\">\n",
       "<title>0&#45;&gt;1</title>\n",
       "<path fill=\"none\" stroke=\"black\" d=\"M458,-296.88C451.41,-288.15 444.22,-278.62 437.34,-269.51\"/>\n",
       "<polygon fill=\"black\" stroke=\"black\" points=\"439.96,-267.17 431.14,-261.3 434.37,-271.39 439.96,-267.17\"/>\n",
       "<text text-anchor=\"middle\" x=\"427.68\" y=\"-282.36\" font-family=\"Helvetica,sans-Serif\" font-size=\"14.00\">True</text>\n",
       "</g>\n",
       "<!-- 8 -->\n",
       "<g id=\"node9\" class=\"node\">\n",
       "<title>8</title>\n",
       "<polygon fill=\"#ea9a60\" stroke=\"black\" points=\"662,-261 536,-261 536,-193 662,-193 662,-261\"/>\n",
       "<text text-anchor=\"middle\" x=\"599\" y=\"-245.8\" font-family=\"Helvetica,sans-Serif\" font-size=\"14.00\">LoyalCH &lt;= 0.706</text>\n",
       "<text text-anchor=\"middle\" x=\"599\" y=\"-230.8\" font-family=\"Helvetica,sans-Serif\" font-size=\"14.00\">gini = 0.274</text>\n",
       "<text text-anchor=\"middle\" x=\"599\" y=\"-215.8\" font-family=\"Helvetica,sans-Serif\" font-size=\"14.00\">samples = 617</text>\n",
       "<text text-anchor=\"middle\" x=\"599\" y=\"-200.8\" font-family=\"Helvetica,sans-Serif\" font-size=\"14.00\">value = [516, 101]</text>\n",
       "</g>\n",
       "<!-- 0&#45;&gt;8 -->\n",
       "<g id=\"edge8\" class=\"edge\">\n",
       "<title>0&#45;&gt;8</title>\n",
       "<path fill=\"none\" stroke=\"black\" d=\"M520.66,-296.88C531.1,-287.71 542.54,-277.65 553.37,-268.12\"/>\n",
       "<polygon fill=\"black\" stroke=\"black\" points=\"555.93,-270.53 561.13,-261.3 551.31,-265.27 555.93,-270.53\"/>\n",
       "<text text-anchor=\"middle\" x=\"559.53\" y=\"-282.55\" font-family=\"Helvetica,sans-Serif\" font-size=\"14.00\">False</text>\n",
       "</g>\n",
       "<!-- 2 -->\n",
       "<g id=\"node3\" class=\"node\">\n",
       "<title>2</title>\n",
       "<polygon fill=\"#53aae8\" stroke=\"black\" points=\"242,-157 116,-157 116,-89 242,-89 242,-157\"/>\n",
       "<text text-anchor=\"middle\" x=\"179\" y=\"-141.8\" font-family=\"Helvetica,sans-Serif\" font-size=\"14.00\">LoyalCH &lt;= 0.036</text>\n",
       "<text text-anchor=\"middle\" x=\"179\" y=\"-126.8\" font-family=\"Helvetica,sans-Serif\" font-size=\"14.00\">gini = 0.205</text>\n",
       "<text text-anchor=\"middle\" x=\"179\" y=\"-111.8\" font-family=\"Helvetica,sans-Serif\" font-size=\"14.00\">samples = 216</text>\n",
       "<text text-anchor=\"middle\" x=\"179\" y=\"-96.8\" font-family=\"Helvetica,sans-Serif\" font-size=\"14.00\">value = [25, 191]</text>\n",
       "</g>\n",
       "<!-- 1&#45;&gt;2 -->\n",
       "<g id=\"edge2\" class=\"edge\">\n",
       "<title>1&#45;&gt;2</title>\n",
       "<path fill=\"none\" stroke=\"black\" d=\"M342.77,-197.59C314.48,-184.87 280.96,-169.82 251.65,-156.64\"/>\n",
       "<polygon fill=\"black\" stroke=\"black\" points=\"252.84,-153.34 242.29,-152.44 249.97,-159.73 252.84,-153.34\"/>\n",
       "</g>\n",
       "<!-- 5 -->\n",
       "<g id=\"node6\" class=\"node\">\n",
       "<title>5</title>\n",
       "<polygon fill=\"#aed7f4\" stroke=\"black\" points=\"480.5,-157 331.5,-157 331.5,-89 480.5,-89 480.5,-157\"/>\n",
       "<text text-anchor=\"middle\" x=\"406\" y=\"-141.8\" font-family=\"Helvetica,sans-Serif\" font-size=\"14.00\">SalePriceMM &lt;= 2.04</text>\n",
       "<text text-anchor=\"middle\" x=\"406\" y=\"-126.8\" font-family=\"Helvetica,sans-Serif\" font-size=\"14.00\">gini = 0.467</text>\n",
       "<text text-anchor=\"middle\" x=\"406\" y=\"-111.8\" font-family=\"Helvetica,sans-Serif\" font-size=\"14.00\">samples = 167</text>\n",
       "<text text-anchor=\"middle\" x=\"406\" y=\"-96.8\" font-family=\"Helvetica,sans-Serif\" font-size=\"14.00\">value = [62, 105]</text>\n",
       "</g>\n",
       "<!-- 1&#45;&gt;5 -->\n",
       "<g id=\"edge5\" class=\"edge\">\n",
       "<title>1&#45;&gt;5</title>\n",
       "<path fill=\"none\" stroke=\"black\" d=\"M406,-192.88C406,-184.78 406,-175.98 406,-167.47\"/>\n",
       "<polygon fill=\"black\" stroke=\"black\" points=\"409.5,-167.3 406,-157.3 402.5,-167.3 409.5,-167.3\"/>\n",
       "</g>\n",
       "<!-- 3 -->\n",
       "<g id=\"node4\" class=\"node\">\n",
       "<title>3</title>\n",
       "<polygon fill=\"#3c9ee5\" stroke=\"black\" points=\"102,-53 0,-53 0,0 102,0 102,-53\"/>\n",
       "<text text-anchor=\"middle\" x=\"51\" y=\"-37.8\" font-family=\"Helvetica,sans-Serif\" font-size=\"14.00\">gini = 0.026</text>\n",
       "<text text-anchor=\"middle\" x=\"51\" y=\"-22.8\" font-family=\"Helvetica,sans-Serif\" font-size=\"14.00\">samples = 75</text>\n",
       "<text text-anchor=\"middle\" x=\"51\" y=\"-7.8\" font-family=\"Helvetica,sans-Serif\" font-size=\"14.00\">value = [1, 74]</text>\n",
       "</g>\n",
       "<!-- 2&#45;&gt;3 -->\n",
       "<g id=\"edge3\" class=\"edge\">\n",
       "<title>2&#45;&gt;3</title>\n",
       "<path fill=\"none\" stroke=\"black\" d=\"M134.23,-88.95C121.22,-79.34 107.04,-68.87 94.13,-59.34\"/>\n",
       "<polygon fill=\"black\" stroke=\"black\" points=\"95.98,-56.36 85.86,-53.24 91.83,-61.99 95.98,-56.36\"/>\n",
       "</g>\n",
       "<!-- 4 -->\n",
       "<g id=\"node5\" class=\"node\">\n",
       "<title>4</title>\n",
       "<polygon fill=\"#62b1ea\" stroke=\"black\" points=\"237.5,-53 120.5,-53 120.5,0 237.5,0 237.5,-53\"/>\n",
       "<text text-anchor=\"middle\" x=\"179\" y=\"-37.8\" font-family=\"Helvetica,sans-Serif\" font-size=\"14.00\">gini = 0.282</text>\n",
       "<text text-anchor=\"middle\" x=\"179\" y=\"-22.8\" font-family=\"Helvetica,sans-Serif\" font-size=\"14.00\">samples = 141</text>\n",
       "<text text-anchor=\"middle\" x=\"179\" y=\"-7.8\" font-family=\"Helvetica,sans-Serif\" font-size=\"14.00\">value = [24, 117]</text>\n",
       "</g>\n",
       "<!-- 2&#45;&gt;4 -->\n",
       "<g id=\"edge4\" class=\"edge\">\n",
       "<title>2&#45;&gt;4</title>\n",
       "<path fill=\"none\" stroke=\"black\" d=\"M179,-88.95C179,-80.72 179,-71.85 179,-63.48\"/>\n",
       "<polygon fill=\"black\" stroke=\"black\" points=\"182.5,-63.24 179,-53.24 175.5,-63.24 182.5,-63.24\"/>\n",
       "</g>\n",
       "<!-- 6 -->\n",
       "<g id=\"node7\" class=\"node\">\n",
       "<title>6</title>\n",
       "<polygon fill=\"#6fb8ec\" stroke=\"black\" points=\"366,-53 256,-53 256,0 366,0 366,-53\"/>\n",
       "<text text-anchor=\"middle\" x=\"311\" y=\"-37.8\" font-family=\"Helvetica,sans-Serif\" font-size=\"14.00\">gini = 0.336</text>\n",
       "<text text-anchor=\"middle\" x=\"311\" y=\"-22.8\" font-family=\"Helvetica,sans-Serif\" font-size=\"14.00\">samples = 89</text>\n",
       "<text text-anchor=\"middle\" x=\"311\" y=\"-7.8\" font-family=\"Helvetica,sans-Serif\" font-size=\"14.00\">value = [19, 70]</text>\n",
       "</g>\n",
       "<!-- 5&#45;&gt;6 -->\n",
       "<g id=\"edge6\" class=\"edge\">\n",
       "<title>5&#45;&gt;6</title>\n",
       "<path fill=\"none\" stroke=\"black\" d=\"M372.77,-88.95C363.49,-79.71 353.39,-69.67 344.11,-60.44\"/>\n",
       "<polygon fill=\"black\" stroke=\"black\" points=\"346.43,-57.81 336.87,-53.24 341.49,-62.77 346.43,-57.81\"/>\n",
       "</g>\n",
       "<!-- 7 -->\n",
       "<g id=\"node8\" class=\"node\">\n",
       "<title>7</title>\n",
       "<polygon fill=\"#fae8da\" stroke=\"black\" points=\"494,-53 384,-53 384,0 494,0 494,-53\"/>\n",
       "<text text-anchor=\"middle\" x=\"439\" y=\"-37.8\" font-family=\"Helvetica,sans-Serif\" font-size=\"14.00\">gini = 0.495</text>\n",
       "<text text-anchor=\"middle\" x=\"439\" y=\"-22.8\" font-family=\"Helvetica,sans-Serif\" font-size=\"14.00\">samples = 78</text>\n",
       "<text text-anchor=\"middle\" x=\"439\" y=\"-7.8\" font-family=\"Helvetica,sans-Serif\" font-size=\"14.00\">value = [43, 35]</text>\n",
       "</g>\n",
       "<!-- 5&#45;&gt;7 -->\n",
       "<g id=\"edge7\" class=\"edge\">\n",
       "<title>5&#45;&gt;7</title>\n",
       "<path fill=\"none\" stroke=\"black\" d=\"M417.54,-88.95C420.48,-80.53 423.65,-71.45 426.63,-62.92\"/>\n",
       "<polygon fill=\"black\" stroke=\"black\" points=\"430.02,-63.83 430.01,-53.24 423.41,-61.52 430.02,-63.83\"/>\n",
       "</g>\n",
       "<!-- 9 -->\n",
       "<g id=\"node10\" class=\"node\">\n",
       "<title>9</title>\n",
       "<polygon fill=\"#f2be99\" stroke=\"black\" points=\"661.5,-157 536.5,-157 536.5,-89 661.5,-89 661.5,-157\"/>\n",
       "<text text-anchor=\"middle\" x=\"599\" y=\"-141.8\" font-family=\"Helvetica,sans-Serif\" font-size=\"14.00\">PriceDiff &lt;= 0.145</text>\n",
       "<text text-anchor=\"middle\" x=\"599\" y=\"-126.8\" font-family=\"Helvetica,sans-Serif\" font-size=\"14.00\">gini = 0.44</text>\n",
       "<text text-anchor=\"middle\" x=\"599\" y=\"-111.8\" font-family=\"Helvetica,sans-Serif\" font-size=\"14.00\">samples = 248</text>\n",
       "<text text-anchor=\"middle\" x=\"599\" y=\"-96.8\" font-family=\"Helvetica,sans-Serif\" font-size=\"14.00\">value = [167, 81]</text>\n",
       "</g>\n",
       "<!-- 8&#45;&gt;9 -->\n",
       "<g id=\"edge9\" class=\"edge\">\n",
       "<title>8&#45;&gt;9</title>\n",
       "<path fill=\"none\" stroke=\"black\" d=\"M599,-192.88C599,-184.78 599,-175.98 599,-167.47\"/>\n",
       "<polygon fill=\"black\" stroke=\"black\" points=\"602.5,-167.3 599,-157.3 595.5,-167.3 602.5,-167.3\"/>\n",
       "</g>\n",
       "<!-- 12 -->\n",
       "<g id=\"node13\" class=\"node\">\n",
       "<title>12</title>\n",
       "<polygon fill=\"#e68844\" stroke=\"black\" points=\"908,-157 786,-157 786,-89 908,-89 908,-157\"/>\n",
       "<text text-anchor=\"middle\" x=\"847\" y=\"-141.8\" font-family=\"Helvetica,sans-Serif\" font-size=\"14.00\">PriceDiff &lt;= &#45;0.39</text>\n",
       "<text text-anchor=\"middle\" x=\"847\" y=\"-126.8\" font-family=\"Helvetica,sans-Serif\" font-size=\"14.00\">gini = 0.103</text>\n",
       "<text text-anchor=\"middle\" x=\"847\" y=\"-111.8\" font-family=\"Helvetica,sans-Serif\" font-size=\"14.00\">samples = 369</text>\n",
       "<text text-anchor=\"middle\" x=\"847\" y=\"-96.8\" font-family=\"Helvetica,sans-Serif\" font-size=\"14.00\">value = [349, 20]</text>\n",
       "</g>\n",
       "<!-- 8&#45;&gt;12 -->\n",
       "<g id=\"edge12\" class=\"edge\">\n",
       "<title>8&#45;&gt;12</title>\n",
       "<path fill=\"none\" stroke=\"black\" d=\"M662.22,-200C697,-185.69 740.25,-167.9 776.17,-153.13\"/>\n",
       "<polygon fill=\"black\" stroke=\"black\" points=\"777.69,-156.29 785.61,-149.25 775.03,-149.82 777.69,-156.29\"/>\n",
       "</g>\n",
       "<!-- 10 -->\n",
       "<g id=\"node11\" class=\"node\">\n",
       "<title>10</title>\n",
       "<polygon fill=\"#d2e9f9\" stroke=\"black\" points=\"622,-53 512,-53 512,0 622,0 622,-53\"/>\n",
       "<text text-anchor=\"middle\" x=\"567\" y=\"-37.8\" font-family=\"Helvetica,sans-Serif\" font-size=\"14.00\">gini = 0.492</text>\n",
       "<text text-anchor=\"middle\" x=\"567\" y=\"-22.8\" font-family=\"Helvetica,sans-Serif\" font-size=\"14.00\">samples = 94</text>\n",
       "<text text-anchor=\"middle\" x=\"567\" y=\"-7.8\" font-family=\"Helvetica,sans-Serif\" font-size=\"14.00\">value = [41, 53]</text>\n",
       "</g>\n",
       "<!-- 9&#45;&gt;10 -->\n",
       "<g id=\"edge10\" class=\"edge\">\n",
       "<title>9&#45;&gt;10</title>\n",
       "<path fill=\"none\" stroke=\"black\" d=\"M587.81,-88.95C584.96,-80.53 581.88,-71.45 579,-62.92\"/>\n",
       "<polygon fill=\"black\" stroke=\"black\" points=\"582.24,-61.59 575.72,-53.24 575.61,-63.83 582.24,-61.59\"/>\n",
       "</g>\n",
       "<!-- 11 -->\n",
       "<g id=\"node12\" class=\"node\">\n",
       "<title>11</title>\n",
       "<polygon fill=\"#eb9d65\" stroke=\"black\" points=\"780,-53 640,-53 640,0 780,0 780,-53\"/>\n",
       "<text text-anchor=\"middle\" x=\"710\" y=\"-37.8\" font-family=\"Helvetica,sans-Serif\" font-size=\"14.00\">gini = 0.298</text>\n",
       "<text text-anchor=\"middle\" x=\"710\" y=\"-22.8\" font-family=\"Helvetica,sans-Serif\" font-size=\"14.00\">samples = 154</text>\n",
       "<text text-anchor=\"middle\" x=\"710\" y=\"-7.8\" font-family=\"Helvetica,sans-Serif\" font-size=\"14.00\">value = [126.0, 28.0]</text>\n",
       "</g>\n",
       "<!-- 9&#45;&gt;11 -->\n",
       "<g id=\"edge11\" class=\"edge\">\n",
       "<title>9&#45;&gt;11</title>\n",
       "<path fill=\"none\" stroke=\"black\" d=\"M637.82,-88.95C648.89,-79.53 660.93,-69.27 671.95,-59.89\"/>\n",
       "<polygon fill=\"black\" stroke=\"black\" points=\"674.42,-62.38 679.77,-53.24 669.89,-57.05 674.42,-62.38\"/>\n",
       "</g>\n",
       "<!-- 13 -->\n",
       "<g id=\"node14\" class=\"node\">\n",
       "<title>13</title>\n",
       "<polygon fill=\"#fcf1e9\" stroke=\"black\" points=\"896,-53 798,-53 798,0 896,0 896,-53\"/>\n",
       "<text text-anchor=\"middle\" x=\"847\" y=\"-37.8\" font-family=\"Helvetica,sans-Serif\" font-size=\"14.00\">gini = 0.498</text>\n",
       "<text text-anchor=\"middle\" x=\"847\" y=\"-22.8\" font-family=\"Helvetica,sans-Serif\" font-size=\"14.00\">samples = 17</text>\n",
       "<text text-anchor=\"middle\" x=\"847\" y=\"-7.8\" font-family=\"Helvetica,sans-Serif\" font-size=\"14.00\">value = [9, 8]</text>\n",
       "</g>\n",
       "<!-- 12&#45;&gt;13 -->\n",
       "<g id=\"edge13\" class=\"edge\">\n",
       "<title>12&#45;&gt;13</title>\n",
       "<path fill=\"none\" stroke=\"black\" d=\"M847,-88.95C847,-80.72 847,-71.85 847,-63.48\"/>\n",
       "<polygon fill=\"black\" stroke=\"black\" points=\"850.5,-63.24 847,-53.24 843.5,-63.24 850.5,-63.24\"/>\n",
       "</g>\n",
       "<!-- 14 -->\n",
       "<g id=\"node15\" class=\"node\">\n",
       "<title>14</title>\n",
       "<polygon fill=\"#e68540\" stroke=\"black\" points=\"1031.5,-53 914.5,-53 914.5,0 1031.5,0 1031.5,-53\"/>\n",
       "<text text-anchor=\"middle\" x=\"973\" y=\"-37.8\" font-family=\"Helvetica,sans-Serif\" font-size=\"14.00\">gini = 0.066</text>\n",
       "<text text-anchor=\"middle\" x=\"973\" y=\"-22.8\" font-family=\"Helvetica,sans-Serif\" font-size=\"14.00\">samples = 352</text>\n",
       "<text text-anchor=\"middle\" x=\"973\" y=\"-7.8\" font-family=\"Helvetica,sans-Serif\" font-size=\"14.00\">value = [340, 12]</text>\n",
       "</g>\n",
       "<!-- 12&#45;&gt;14 -->\n",
       "<g id=\"edge14\" class=\"edge\">\n",
       "<title>12&#45;&gt;14</title>\n",
       "<path fill=\"none\" stroke=\"black\" d=\"M891.07,-88.95C903.88,-79.34 917.83,-68.87 930.54,-59.34\"/>\n",
       "<polygon fill=\"black\" stroke=\"black\" points=\"932.78,-62.04 938.68,-53.24 928.58,-56.44 932.78,-62.04\"/>\n",
       "</g>\n",
       "</g>\n",
       "</svg>\n"
      ],
      "text/plain": [
       "<graphviz.sources.Source at 0x74c3dfdaa750>"
      ]
     },
     "metadata": {},
     "output_type": "display_data"
    }
   ],
   "source": [
    "display(graphviz.Source(export_graphviz(oj_tree, out_file=None, feature_names=X.columns, filled=True)))"
   ]
  },
  {
   "cell_type": "code",
   "execution_count": 24,
   "metadata": {},
   "outputs": [
    {
     "data": {
      "text/plain": [
       "<sklearn.metrics._plot.confusion_matrix.ConfusionMatrixDisplay at 0x74c3f06f40d0>"
      ]
     },
     "execution_count": 24,
     "metadata": {},
     "output_type": "execute_result"
    },
    {
     "data": {
      "image/png": "[encoded data removed]",
      "text/plain": [
       "<Figure size 640x480 with 2 Axes>"
      ]
     },
     "metadata": {},
     "output_type": "display_data"
    }
   ],
   "source": [
    "import matplotlib.pyplot as plt\n",
    "from sklearn.metrics import confusion_matrix, ConfusionMatrixDisplay\n",
    "\n",
    "y_test_pred = oj_tree.predict(X_test)\n",
    "y_test_pred_labels = y_test_pred > 0.5\n",
    "\n",
    "confuse = confusion_matrix(y_test, y_test_pred_labels, labels=[0, 1])\n",
    "ConfusionMatrixDisplay.from_estimator(oj_tree, X_test, y_test)\n"
   ]
  },
  {
   "cell_type": "code",
   "execution_count": 25,
   "metadata": {},
   "outputs": [
    {
     "data": {
      "text/plain": [
       "0.24285714285714288"
      ]
     },
     "execution_count": 25,
     "metadata": {},
     "output_type": "execute_result"
    }
   ],
   "source": [
    "test_error_rate = 1 - oj_tree.score(X_test, y_test)\n",
    "test_error_rate"
   ]
  },
  {
   "cell_type": "code",
   "execution_count": 26,
   "metadata": {},
   "outputs": [
    {
     "name": "stdout",
     "output_type": "stream",
     "text": [
      "Fitting 5 folds for each of 10 candidates, totalling 50 fits\n"
     ]
    },
    {
     "data": {
      "text/html": [
       "<div>\n",
       "<style scoped>\n",
       "    .dataframe tbody tr th:only-of-type {\n",
       "        vertical-align: middle;\n",
       "    }\n",
       "\n",
       "    .dataframe tbody tr th {\n",
       "        vertical-align: top;\n",
       "    }\n",
       "\n",
       "    .dataframe thead th {\n",
       "        text-align: right;\n",
       "    }\n",
       "</style>\n",
       "<table border=\"1\" class=\"dataframe\">\n",
       "  <thead>\n",
       "    <tr style=\"text-align: right;\">\n",
       "      <th></th>\n",
       "      <th>mean_fit_time</th>\n",
       "      <th>std_fit_time</th>\n",
       "      <th>mean_score_time</th>\n",
       "      <th>std_score_time</th>\n",
       "      <th>param_max_depth</th>\n",
       "      <th>params</th>\n",
       "      <th>split0_test_score</th>\n",
       "      <th>split1_test_score</th>\n",
       "      <th>split2_test_score</th>\n",
       "      <th>split3_test_score</th>\n",
       "      <th>...</th>\n",
       "      <th>std_test_score</th>\n",
       "      <th>rank_test_score</th>\n",
       "      <th>split0_train_score</th>\n",
       "      <th>split1_train_score</th>\n",
       "      <th>split2_train_score</th>\n",
       "      <th>split3_train_score</th>\n",
       "      <th>split4_train_score</th>\n",
       "      <th>mean_train_score</th>\n",
       "      <th>std_train_score</th>\n",
       "      <th>mean_test_error</th>\n",
       "    </tr>\n",
       "  </thead>\n",
       "  <tbody>\n",
       "    <tr>\n",
       "      <th>2</th>\n",
       "      <td>0.002617</td>\n",
       "      <td>0.000297</td>\n",
       "      <td>0.001186</td>\n",
       "      <td>0.000149</td>\n",
       "      <td>3</td>\n",
       "      <td>{'max_depth': 3}</td>\n",
       "      <td>0.805</td>\n",
       "      <td>0.87</td>\n",
       "      <td>0.765</td>\n",
       "      <td>0.845</td>\n",
       "      <td>...</td>\n",
       "      <td>0.038523</td>\n",
       "      <td>1</td>\n",
       "      <td>0.845</td>\n",
       "      <td>0.82375</td>\n",
       "      <td>0.84875</td>\n",
       "      <td>0.8325</td>\n",
       "      <td>0.8325</td>\n",
       "      <td>0.8365</td>\n",
       "      <td>0.009131</td>\n",
       "      <td>0.186</td>\n",
       "    </tr>\n",
       "  </tbody>\n",
       "</table>\n",
       "<p>1 rows × 22 columns</p>\n",
       "</div>"
      ],
      "text/plain": [
       "   mean_fit_time  std_fit_time  mean_score_time  std_score_time  \\\n",
       "2       0.002617      0.000297         0.001186        0.000149   \n",
       "\n",
       "   param_max_depth            params  split0_test_score  split1_test_score  \\\n",
       "2                3  {'max_depth': 3}              0.805               0.87   \n",
       "\n",
       "   split2_test_score  split3_test_score  ...  std_test_score  rank_test_score  \\\n",
       "2              0.765              0.845  ...        0.038523                1   \n",
       "\n",
       "   split0_train_score  split1_train_score  split2_train_score  \\\n",
       "2               0.845             0.82375             0.84875   \n",
       "\n",
       "   split3_train_score  split4_train_score  mean_train_score  std_train_score  \\\n",
       "2              0.8325              0.8325            0.8365         0.009131   \n",
       "\n",
       "   mean_test_error  \n",
       "2            0.186  \n",
       "\n",
       "[1 rows x 22 columns]"
      ]
     },
     "execution_count": 26,
     "metadata": {},
     "output_type": "execute_result"
    }
   ],
   "source": [
    "from sklearn.model_selection import GridSearchCV\n",
    "\n",
    "param_grid = {'max_depth': range(1, 11)}\n",
    "grid_search = GridSearchCV(oj_tree, param_grid, cv=5, n_jobs=-1, verbose=1, return_train_score=True)\n",
    "grid_search.fit(X_train, y_train)\n",
    "\n",
    "results = pd.DataFrame(grid_search.cv_results_)\n",
    "results[\"mean_test_error\"] = 1 - results[\"mean_test_score\"]\n",
    "\n",
    "best_params = grid_search.best_params_\n",
    "\n",
    "results.sort_values(\"mean_test_error\").head(1)"
   ]
  },
  {
   "cell_type": "code",
   "execution_count": 27,
   "metadata": {},
   "outputs": [
    {
     "data": {
      "application/vnd.plotly.v1+json": {
       "config": {
        "plotlyServerURL": "https://plot.ly"
       },
       "data": [
        {
         "hovertemplate": "param_max_depth=%{x}<br>mean_test_error=%{y}<extra></extra>",
         "legendgroup": "",
         "line": {
          "color": "#636efa",
          "dash": "solid"
         },
         "marker": {
          "symbol": "circle"
         },
         "mode": "lines",
         "name": "",
         "orientation": "v",
         "showlegend": false,
         "type": "scatter",
         "x": [
          1,
          2,
          3,
          4,
          5,
          6,
          7,
          8,
          9,
          10
         ],
         "xaxis": "x",
         "y": [
          0.20700000000000007,
          0.20700000000000007,
          0.18599999999999994,
          0.19999999999999996,
          0.22399999999999998,
          0.22199999999999998,
          0.235,
          0.235,
          0.2380000000000001,
          0.25
         ],
         "yaxis": "y"
        }
       ],
       "layout": {
        "legend": {
         "tracegroupgap": 0
        },
        "template": {
         "data": {
          "bar": [
           {
            "error_x": {
             "color": "#2a3f5f"
            },
            "error_y": {
             "color": "#2a3f5f"
            },
            "marker": {
             "line": {
              "color": "#E5ECF6",
              "width": 0.5
             },
             "pattern": {
              "fillmode": "overlay",
              "size": 10,
              "solidity": 0.2
             }
            },
            "type": "bar"
           }
          ],
          "barpolar": [
           {
            "marker": {
             "line": {
              "color": "#E5ECF6",
              "width": 0.5
             },
             "pattern": {
              "fillmode": "overlay",
              "size": 10,
              "solidity": 0.2
             }
            },
            "type": "barpolar"
           }
          ],
          "carpet": [
           {
            "aaxis": {
             "endlinecolor": "#2a3f5f",
             "gridcolor": "white",
             "linecolor": "white",
             "minorgridcolor": "white",
             "startlinecolor": "#2a3f5f"
            },
            "baxis": {
             "endlinecolor": "#2a3f5f",
             "gridcolor": "white",
             "linecolor": "white",
             "minorgridcolor": "white",
             "startlinecolor": "#2a3f5f"
            },
            "type": "carpet"
           }
          ],
          "choropleth": [
           {
            "colorbar": {
             "outlinewidth": 0,
             "ticks": ""
            },
            "type": "choropleth"
           }
          ],
          "contour": [
           {
            "colorbar": {
             "outlinewidth": 0,
             "ticks": ""
            },
            "colorscale": [
             [
              0,
              "#0d0887"
             ],
             [
              0.1111111111111111,
              "#46039f"
             ],
             [
              0.2222222222222222,
              "#7201a8"
             ],
             [
              0.3333333333333333,
              "#9c179e"
             ],
             [
              0.4444444444444444,
              "#bd3786"
             ],
             [
              0.5555555555555556,
              "#d8576b"
             ],
             [
              0.6666666666666666,
              "#ed7953"
             ],
             [
              0.7777777777777778,
              "#fb9f3a"
             ],
             [
              0.8888888888888888,
              "#fdca26"
             ],
             [
              1,
              "#f0f921"
             ]
            ],
            "type": "contour"
           }
          ],
          "contourcarpet": [
           {
            "colorbar": {
             "outlinewidth": 0,
             "ticks": ""
            },
            "type": "contourcarpet"
           }
          ],
          "heatmap": [
           {
            "colorbar": {
             "outlinewidth": 0,
             "ticks": ""
            },
            "colorscale": [
             [
              0,
              "#0d0887"
             ],
             [
              0.1111111111111111,
              "#46039f"
             ],
             [
              0.2222222222222222,
              "#7201a8"
             ],
             [
              0.3333333333333333,
              "#9c179e"
             ],
             [
              0.4444444444444444,
              "#bd3786"
             ],
             [
              0.5555555555555556,
              "#d8576b"
             ],
             [
              0.6666666666666666,
              "#ed7953"
             ],
             [
              0.7777777777777778,
              "#fb9f3a"
             ],
             [
              0.8888888888888888,
              "#fdca26"
             ],
             [
              1,
              "#f0f921"
             ]
            ],
            "type": "heatmap"
           }
          ],
          "heatmapgl": [
           {
            "colorbar": {
             "outlinewidth": 0,
             "ticks": ""
            },
            "colorscale": [
             [
              0,
              "#0d0887"
             ],
             [
              0.1111111111111111,
              "#46039f"
             ],
             [
              0.2222222222222222,
              "#7201a8"
             ],
             [
              0.3333333333333333,
              "#9c179e"
             ],
             [
              0.4444444444444444,
              "#bd3786"
             ],
             [
              0.5555555555555556,
              "#d8576b"
             ],
             [
              0.6666666666666666,
              "#ed7953"
             ],
             [
              0.7777777777777778,
              "#fb9f3a"
             ],
             [
              0.8888888888888888,
              "#fdca26"
             ],
             [
              1,
              "#f0f921"
             ]
            ],
            "type": "heatmapgl"
           }
          ],
          "histogram": [
           {
            "marker": {
             "pattern": {
              "fillmode": "overlay",
              "size": 10,
              "solidity": 0.2
             }
            },
            "type": "histogram"
           }
          ],
          "histogram2d": [
           {
            "colorbar": {
             "outlinewidth": 0,
             "ticks": ""
            },
            "colorscale": [
             [
              0,
              "#0d0887"
             ],
             [
              0.1111111111111111,
              "#46039f"
             ],
             [
              0.2222222222222222,
              "#7201a8"
             ],
             [
              0.3333333333333333,
              "#9c179e"
             ],
             [
              0.4444444444444444,
              "#bd3786"
             ],
             [
              0.5555555555555556,
              "#d8576b"
             ],
             [
              0.6666666666666666,
              "#ed7953"
             ],
             [
              0.7777777777777778,
              "#fb9f3a"
             ],
             [
              0.8888888888888888,
              "#fdca26"
             ],
             [
              1,
              "#f0f921"
             ]
            ],
            "type": "histogram2d"
           }
          ],
          "histogram2dcontour": [
           {
            "colorbar": {
             "outlinewidth": 0,
             "ticks": ""
            },
            "colorscale": [
             [
              0,
              "#0d0887"
             ],
             [
              0.1111111111111111,
              "#46039f"
             ],
             [
              0.2222222222222222,
              "#7201a8"
             ],
             [
              0.3333333333333333,
              "#9c179e"
             ],
             [
              0.4444444444444444,
              "#bd3786"
             ],
             [
              0.5555555555555556,
              "#d8576b"
             ],
             [
              0.6666666666666666,
              "#ed7953"
             ],
             [
              0.7777777777777778,
              "#fb9f3a"
             ],
             [
              0.8888888888888888,
              "#fdca26"
             ],
             [
              1,
              "#f0f921"
             ]
            ],
            "type": "histogram2dcontour"
           }
          ],
          "mesh3d": [
           {
            "colorbar": {
             "outlinewidth": 0,
             "ticks": ""
            },
            "type": "mesh3d"
           }
          ],
          "parcoords": [
           {
            "line": {
             "colorbar": {
              "outlinewidth": 0,
              "ticks": ""
             }
            },
            "type": "parcoords"
           }
          ],
          "pie": [
           {
            "automargin": true,
            "type": "pie"
           }
          ],
          "scatter": [
           {
            "fillpattern": {
             "fillmode": "overlay",
             "size": 10,
             "solidity": 0.2
            },
            "type": "scatter"
           }
          ],
          "scatter3d": [
           {
            "line": {
             "colorbar": {
              "outlinewidth": 0,
              "ticks": ""
             }
            },
            "marker": {
             "colorbar": {
              "outlinewidth": 0,
              "ticks": ""
             }
            },
            "type": "scatter3d"
           }
          ],
          "scattercarpet": [
           {
            "marker": {
             "colorbar": {
              "outlinewidth": 0,
              "ticks": ""
             }
            },
            "type": "scattercarpet"
           }
          ],
          "scattergeo": [
           {
            "marker": {
             "colorbar": {
              "outlinewidth": 0,
              "ticks": ""
             }
            },
            "type": "scattergeo"
           }
          ],
          "scattergl": [
           {
            "marker": {
             "colorbar": {
              "outlinewidth": 0,
              "ticks": ""
             }
            },
            "type": "scattergl"
           }
          ],
          "scattermapbox": [
           {
            "marker": {
             "colorbar": {
              "outlinewidth": 0,
              "ticks": ""
             }
            },
            "type": "scattermapbox"
           }
          ],
          "scatterpolar": [
           {
            "marker": {
             "colorbar": {
              "outlinewidth": 0,
              "ticks": ""
             }
            },
            "type": "scatterpolar"
           }
          ],
          "scatterpolargl": [
           {
            "marker": {
             "colorbar": {
              "outlinewidth": 0,
              "ticks": ""
             }
            },
            "type": "scatterpolargl"
           }
          ],
          "scatterternary": [
           {
            "marker": {
             "colorbar": {
              "outlinewidth": 0,
              "ticks": ""
             }
            },
            "type": "scatterternary"
           }
          ],
          "surface": [
           {
            "colorbar": {
             "outlinewidth": 0,
             "ticks": ""
            },
            "colorscale": [
             [
              0,
              "#0d0887"
             ],
             [
              0.1111111111111111,
              "#46039f"
             ],
             [
              0.2222222222222222,
              "#7201a8"
             ],
             [
              0.3333333333333333,
              "#9c179e"
             ],
             [
              0.4444444444444444,
              "#bd3786"
             ],
             [
              0.5555555555555556,
              "#d8576b"
             ],
             [
              0.6666666666666666,
              "#ed7953"
             ],
             [
              0.7777777777777778,
              "#fb9f3a"
             ],
             [
              0.8888888888888888,
              "#fdca26"
             ],
             [
              1,
              "#f0f921"
             ]
            ],
            "type": "surface"
           }
          ],
          "table": [
           {
            "cells": {
             "fill": {
              "color": "#EBF0F8"
             },
             "line": {
              "color": "white"
             }
            },
            "header": {
             "fill": {
              "color": "#C8D4E3"
             },
             "line": {
              "color": "white"
             }
            },
            "type": "table"
           }
          ]
         },
         "layout": {
          "annotationdefaults": {
           "arrowcolor": "#2a3f5f",
           "arrowhead": 0,
           "arrowwidth": 1
          },
          "autotypenumbers": "strict",
          "coloraxis": {
           "colorbar": {
            "outlinewidth": 0,
            "ticks": ""
           }
          },
          "colorscale": {
           "diverging": [
            [
             0,
             "#8e0152"
            ],
            [
             0.1,
             "#c51b7d"
            ],
            [
             0.2,
             "#de77ae"
            ],
            [
             0.3,
             "#f1b6da"
            ],
            [
             0.4,
             "#fde0ef"
            ],
            [
             0.5,
             "#f7f7f7"
            ],
            [
             0.6,
             "#e6f5d0"
            ],
            [
             0.7,
             "#b8e186"
            ],
            [
             0.8,
             "#7fbc41"
            ],
            [
             0.9,
             "#4d9221"
            ],
            [
             1,
             "#276419"
            ]
           ],
           "sequential": [
            [
             0,
             "#0d0887"
            ],
            [
             0.1111111111111111,
             "#46039f"
            ],
            [
             0.2222222222222222,
             "#7201a8"
            ],
            [
             0.3333333333333333,
             "#9c179e"
            ],
            [
             0.4444444444444444,
             "#bd3786"
            ],
            [
             0.5555555555555556,
             "#d8576b"
            ],
            [
             0.6666666666666666,
             "#ed7953"
            ],
            [
             0.7777777777777778,
             "#fb9f3a"
            ],
            [
             0.8888888888888888,
             "#fdca26"
            ],
            [
             1,
             "#f0f921"
            ]
           ],
           "sequentialminus": [
            [
             0,
             "#0d0887"
            ],
            [
             0.1111111111111111,
             "#46039f"
            ],
            [
             0.2222222222222222,
             "#7201a8"
            ],
            [
             0.3333333333333333,
             "#9c179e"
            ],
            [
             0.4444444444444444,
             "#bd3786"
            ],
            [
             0.5555555555555556,
             "#d8576b"
            ],
            [
             0.6666666666666666,
             "#ed7953"
            ],
            [
             0.7777777777777778,
             "#fb9f3a"
            ],
            [
             0.8888888888888888,
             "#fdca26"
            ],
            [
             1,
             "#f0f921"
            ]
           ]
          },
          "colorway": [
           "#636efa",
           "#EF553B",
           "#00cc96",
           "#ab63fa",
           "#FFA15A",
           "#19d3f3",
           "#FF6692",
           "#B6E880",
           "#FF97FF",
           "#FECB52"
          ],
          "font": {
           "color": "#2a3f5f"
          },
          "geo": {
           "bgcolor": "white",
           "lakecolor": "white",
           "landcolor": "#E5ECF6",
           "showlakes": true,
           "showland": true,
           "subunitcolor": "white"
          },
          "hoverlabel": {
           "align": "left"
          },
          "hovermode": "closest",
          "mapbox": {
           "style": "light"
          },
          "paper_bgcolor": "white",
          "plot_bgcolor": "#E5ECF6",
          "polar": {
           "angularaxis": {
            "gridcolor": "white",
            "linecolor": "white",
            "ticks": ""
           },
           "bgcolor": "#E5ECF6",
           "radialaxis": {
            "gridcolor": "white",
            "linecolor": "white",
            "ticks": ""
           }
          },
          "scene": {
           "xaxis": {
            "backgroundcolor": "#E5ECF6",
            "gridcolor": "white",
            "gridwidth": 2,
            "linecolor": "white",
            "showbackground": true,
            "ticks": "",
            "zerolinecolor": "white"
           },
           "yaxis": {
            "backgroundcolor": "#E5ECF6",
            "gridcolor": "white",
            "gridwidth": 2,
            "linecolor": "white",
            "showbackground": true,
            "ticks": "",
            "zerolinecolor": "white"
           },
           "zaxis": {
            "backgroundcolor": "#E5ECF6",
            "gridcolor": "white",
            "gridwidth": 2,
            "linecolor": "white",
            "showbackground": true,
            "ticks": "",
            "zerolinecolor": "white"
           }
          },
          "shapedefaults": {
           "line": {
            "color": "#2a3f5f"
           }
          },
          "ternary": {
           "aaxis": {
            "gridcolor": "white",
            "linecolor": "white",
            "ticks": ""
           },
           "baxis": {
            "gridcolor": "white",
            "linecolor": "white",
            "ticks": ""
           },
           "bgcolor": "#E5ECF6",
           "caxis": {
            "gridcolor": "white",
            "linecolor": "white",
            "ticks": ""
           }
          },
          "title": {
           "x": 0.05
          },
          "xaxis": {
           "automargin": true,
           "gridcolor": "white",
           "linecolor": "white",
           "ticks": "",
           "title": {
            "standoff": 15
           },
           "zerolinecolor": "white",
           "zerolinewidth": 2
          },
          "yaxis": {
           "automargin": true,
           "gridcolor": "white",
           "linecolor": "white",
           "ticks": "",
           "title": {
            "standoff": 15
           },
           "zerolinecolor": "white",
           "zerolinewidth": 2
          }
         }
        },
        "title": {
         "text": "Decision Tree Classifier"
        },
        "xaxis": {
         "anchor": "y",
         "domain": [
          0,
          1
         ],
         "title": {
          "text": "param_max_depth"
         }
        },
        "yaxis": {
         "anchor": "x",
         "domain": [
          0,
          1
         ],
         "title": {
          "text": "mean_test_error"
         }
        }
       }
      }
     },
     "metadata": {},
     "output_type": "display_data"
    }
   ],
   "source": [
    "import plotly.express as px\n",
    "\n",
    "fig = px.line(results, x='param_max_depth', y='mean_test_error', title='Decision Tree Classifier')\n",
    "fig.show()\n"
   ]
  },
  {
   "cell_type": "code",
   "execution_count": 28,
   "metadata": {},
   "outputs": [
    {
     "data": {
      "text/plain": [
       "Text(0.5, 1.0, 'Total Impurity vs effective alpha for training set')"
      ]
     },
     "execution_count": 28,
     "metadata": {},
     "output_type": "execute_result"
    },
    {
     "data": {
      "image/png": "[encoded data removed]",
      "text/plain": [
       "<Figure size 640x480 with 1 Axes>"
      ]
     },
     "metadata": {},
     "output_type": "display_data"
    }
   ],
   "source": [
    "best_estimator = grid_search.best_estimator_\n",
    "best_estimator.cost_complexity_pruning_path(X_train, y_train)\n",
    "\n",
    "path = best_estimator.cost_complexity_pruning_path(X_train, y_train)\n",
    "ccp_alphas, impurities = path.ccp_alphas, path.impurities\n",
    "\n",
    "fig, ax = plt.subplots()\n",
    "ax.plot(ccp_alphas[:-1], impurities[:-1], marker='o', drawstyle=\"steps-post\")\n",
    "ax.set_xlabel(\"effective alpha\")\n",
    "ax.set_ylabel(\"total impurity of leaves\")\n",
    "ax.set_title(\"Total Impurity vs effective alpha for training set\")"
   ]
  },
  {
   "cell_type": "code",
   "execution_count": 29,
   "metadata": {},
   "outputs": [
    {
     "name": "stdout",
     "output_type": "stream",
     "text": [
      "Fitting 5 folds for each of 7 candidates, totalling 35 fits\n"
     ]
    },
    {
     "data": {
      "text/html": [
       "<div>\n",
       "<style scoped>\n",
       "    .dataframe tbody tr th:only-of-type {\n",
       "        vertical-align: middle;\n",
       "    }\n",
       "\n",
       "    .dataframe tbody tr th {\n",
       "        vertical-align: top;\n",
       "    }\n",
       "\n",
       "    .dataframe thead th {\n",
       "        text-align: right;\n",
       "    }\n",
       "</style>\n",
       "<table border=\"1\" class=\"dataframe\">\n",
       "  <thead>\n",
       "    <tr style=\"text-align: right;\">\n",
       "      <th></th>\n",
       "      <th>mean_fit_time</th>\n",
       "      <th>std_fit_time</th>\n",
       "      <th>mean_score_time</th>\n",
       "      <th>std_score_time</th>\n",
       "      <th>param_ccp_alpha</th>\n",
       "      <th>params</th>\n",
       "      <th>split0_test_score</th>\n",
       "      <th>split1_test_score</th>\n",
       "      <th>split2_test_score</th>\n",
       "      <th>split3_test_score</th>\n",
       "      <th>...</th>\n",
       "      <th>std_test_score</th>\n",
       "      <th>rank_test_score</th>\n",
       "      <th>split0_train_score</th>\n",
       "      <th>split1_train_score</th>\n",
       "      <th>split2_train_score</th>\n",
       "      <th>split3_train_score</th>\n",
       "      <th>split4_train_score</th>\n",
       "      <th>mean_train_score</th>\n",
       "      <th>std_train_score</th>\n",
       "      <th>mean_test_error</th>\n",
       "    </tr>\n",
       "  </thead>\n",
       "  <tbody>\n",
       "    <tr>\n",
       "      <th>0</th>\n",
       "      <td>0.002577</td>\n",
       "      <td>0.000518</td>\n",
       "      <td>0.001128</td>\n",
       "      <td>0.000212</td>\n",
       "      <td>0.00241</td>\n",
       "      <td>{'ccp_alpha': 0.0024098423955870793}</td>\n",
       "      <td>0.805</td>\n",
       "      <td>0.87</td>\n",
       "      <td>0.765</td>\n",
       "      <td>0.845</td>\n",
       "      <td>...</td>\n",
       "      <td>0.038523</td>\n",
       "      <td>1</td>\n",
       "      <td>0.845</td>\n",
       "      <td>0.82375</td>\n",
       "      <td>0.84875</td>\n",
       "      <td>0.8325</td>\n",
       "      <td>0.8325</td>\n",
       "      <td>0.8365</td>\n",
       "      <td>0.009131</td>\n",
       "      <td>0.186</td>\n",
       "    </tr>\n",
       "  </tbody>\n",
       "</table>\n",
       "<p>1 rows × 22 columns</p>\n",
       "</div>"
      ],
      "text/plain": [
       "   mean_fit_time  std_fit_time  mean_score_time  std_score_time  \\\n",
       "0       0.002577      0.000518         0.001128        0.000212   \n",
       "\n",
       "   param_ccp_alpha                                params  split0_test_score  \\\n",
       "0          0.00241  {'ccp_alpha': 0.0024098423955870793}              0.805   \n",
       "\n",
       "   split1_test_score  split2_test_score  split3_test_score  ...  \\\n",
       "0               0.87              0.765              0.845  ...   \n",
       "\n",
       "   std_test_score  rank_test_score  split0_train_score  split1_train_score  \\\n",
       "0        0.038523                1               0.845             0.82375   \n",
       "\n",
       "   split2_train_score  split3_train_score  split4_train_score  \\\n",
       "0             0.84875              0.8325              0.8325   \n",
       "\n",
       "   mean_train_score  std_train_score  mean_test_error  \n",
       "0            0.8365         0.009131            0.186  \n",
       "\n",
       "[1 rows x 22 columns]"
      ]
     },
     "execution_count": 29,
     "metadata": {},
     "output_type": "execute_result"
    }
   ],
   "source": [
    "alphas = ccp_alphas[ccp_alphas > 0]\n",
    "param_grid = {'ccp_alpha': alphas}\n",
    "\n",
    "base_tree = DecisionTreeClassifier(max_depth=best_params['max_depth'], random_state=0)\n",
    "grid_search = GridSearchCV(base_tree, param_grid, cv=5, n_jobs=-1, verbose=1, return_train_score=True)\n",
    "grid_search.fit(X_train, y_train)\n",
    "\n",
    "results = pd.DataFrame(grid_search.cv_results_)\n",
    "results[\"mean_test_error\"] = 1 - results[\"mean_test_score\"]\n",
    "results.sort_values(\"mean_test_error\").head(1)"
   ]
  },
  {
   "cell_type": "code",
   "execution_count": 30,
   "metadata": {},
   "outputs": [
    {
     "name": "stdout",
     "output_type": "stream",
     "text": [
      "Train Error: 0.17\n",
      "Test Error: 0.24\n",
      "Pruned Train Error: 0.17\n",
      "Pruned Test Error: 0.24\n"
     ]
    }
   ],
   "source": [
    "base_tree.fit(X_train, y_train)\n",
    "grid_search.best_estimator_.fit(X_train, y_train)\n",
    "\n",
    "train_score = base_tree.score(X_train, y_train)\n",
    "test_score = base_tree.score(X_test, y_test)\n",
    "\n",
    "pruned_train_score = grid_search.best_estimator_.score(X_train, y_train)\n",
    "pruned_test_score = grid_search.best_estimator_.score(X_test, y_test)\n",
    "\n",
    "print(f\"Train Error: {1 - train_score:.2f}\")\n",
    "print(f\"Test Error: {1 - test_score:.2f}\")\n",
    "print(f\"Pruned Train Error: {1 - pruned_train_score:.2f}\")\n",
    "print(f\"Pruned Test Error: {1 - pruned_test_score:.2f}\")"
   ]
  },
  {
   "cell_type": "markdown",
   "metadata": {},
   "source": [
    "# Question 10"
   ]
  },
  {
   "cell_type": "code",
   "execution_count": 31,
   "metadata": {},
   "outputs": [
    {
     "name": "stderr",
     "output_type": "stream",
     "text": [
      "/home/albert/miniforge3/envs/islp/lib/python3.11/site-packages/sklearn/linear_model/_coordinate_descent.py:697: ConvergenceWarning:\n",
      "\n",
      "Objective did not converge. You might want to increase the number of iterations, check the scale of the features or consider increasing regularisation. Duality gap: 7.123e+05, tolerance: 4.481e+03\n",
      "\n"
     ]
    }
   ],
   "source": [
    "from sklearn.linear_model import LinearRegression, Ridge, Lasso\n",
    "from sklearn.ensemble import GradientBoostingRegressor\n",
    "\n",
    "hitters = load_data(\"Hitters\")\n",
    "hitters = hitters.dropna()\n",
    "\n",
    "for col in hitters.select_dtypes(\"category\"):\n",
    "    unique_values = hitters[col].unique()\n",
    "    mapping = {value: i for i, value in enumerate(unique_values)}\n",
    "    hitters[col] = hitters[col].map(mapping)\n",
    "\n",
    "X = hitters.drop(\"Salary\", axis=1)\n",
    "y = hitters[\"Salary\"]\n",
    "\n",
    "num_samples = 200\n",
    "\n",
    "X_train = X.iloc[:num_samples]\n",
    "y_train = y.iloc[:num_samples]\n",
    "X_test = X.iloc[num_samples:]\n",
    "y_test = y.iloc[num_samples:]\n",
    "\n",
    "\n",
    "scale = StandardScaler()\n",
    "X_train_scale = scale.fit_transform(X_train)\n",
    "X_test_scale = scale.transform(X_test)\n",
    "\n",
    "linear_regression = LinearRegression()\n",
    "linear_regression.fit(X_train_scale, y_train)\n",
    "linear_train_score = linear_regression.score(X_train_scale, y_train)\n",
    "linear_test_score = linear_regression.score(X_test_scale, y_test)\n",
    "\n",
    "\n",
    "ridge = Ridge(alpha=0.1)\n",
    "ridge.fit(X_train_scale, y_train)\n",
    "ridge_train_score = ridge.score(X_train_scale, y_train)\n",
    "ridge_test_score = ridge.score(X_test_scale, y_test)\n",
    "\n",
    "\n",
    "lasso = Lasso(alpha=0.1)\n",
    "lasso.fit(X_train_scale, y_train)\n",
    "lasso_train_score = lasso.score(X_train_scale, y_train)\n",
    "lasso_test_score = lasso.score(X_test_scale, y_test)\n"
   ]
  },
  {
   "cell_type": "code",
   "execution_count": 32,
   "metadata": {},
   "outputs": [
    {
     "data": {
      "application/vnd.plotly.v1+json": {
       "config": {
        "plotlyServerURL": "https://plot.ly"
       },
       "data": [
        {
         "hovertemplate": "variable=Train Score<br>Shrinkage=%{x}<br>value=%{y}<extra></extra>",
         "legendgroup": "Train Score",
         "line": {
          "color": "#636efa",
          "dash": "solid"
         },
         "marker": {
          "symbol": "circle"
         },
         "mode": "lines",
         "name": "Train Score",
         "orientation": "v",
         "showlegend": true,
         "type": "scatter",
         "x": [
          0.01,
          0.1,
          0.2,
          0.3,
          0.4,
          0.5,
          0.6,
          0.7,
          0.8,
          0.9,
          1
         ],
         "xaxis": "x",
         "y": [
          0.9887581384536653,
          0.9999999971444885,
          0.9999999999999993,
          1,
          1,
          1,
          1,
          1,
          1,
          1,
          1
         ],
         "yaxis": "y"
        },
        {
         "hovertemplate": "variable=Test Score<br>Shrinkage=%{x}<br>value=%{y}<extra></extra>",
         "legendgroup": "Test Score",
         "line": {
          "color": "#EF553B",
          "dash": "solid"
         },
         "marker": {
          "symbol": "circle"
         },
         "mode": "lines",
         "name": "Test Score",
         "orientation": "v",
         "showlegend": true,
         "type": "scatter",
         "x": [
          0.01,
          0.1,
          0.2,
          0.3,
          0.4,
          0.5,
          0.6,
          0.7,
          0.8,
          0.9,
          1
         ],
         "xaxis": "x",
         "y": [
          0.442628065726935,
          0.42020006458996695,
          0.45262996062871874,
          0.405227491310286,
          0.43052711252048836,
          0.5451653951455881,
          0.49054794214499453,
          0.5141880699784459,
          0.3838700355384499,
          0.015257002364626793,
          0.13252635447644512
         ],
         "yaxis": "y"
        }
       ],
       "layout": {
        "annotations": [
         {
          "showarrow": false,
          "text": "Linear Train Score",
          "x": 1,
          "xanchor": "right",
          "xref": "x domain",
          "y": 0.6046297208582914,
          "yanchor": "bottom",
          "yref": "y"
         },
         {
          "showarrow": false,
          "text": "Linear Test Score",
          "x": 1,
          "xanchor": "right",
          "xref": "x domain",
          "y": 0.05189054477222188,
          "yanchor": "bottom",
          "yref": "y"
         },
         {
          "showarrow": false,
          "text": "Ridge Train Score",
          "x": 1,
          "xanchor": "right",
          "xref": "x domain",
          "y": 0.6044308677120305,
          "yanchor": "bottom",
          "yref": "y"
         },
         {
          "showarrow": false,
          "text": "Ridge Test Score",
          "x": 1,
          "xanchor": "right",
          "xref": "x domain",
          "y": 0.06054072772237129,
          "yanchor": "bottom",
          "yref": "y"
         },
         {
          "showarrow": false,
          "text": "Lasso Train Score",
          "x": 1,
          "xanchor": "right",
          "xref": "x domain",
          "y": 0.6044964095879924,
          "yanchor": "bottom",
          "yref": "y"
         },
         {
          "showarrow": false,
          "text": "Lasso Test Score",
          "x": 1,
          "xanchor": "right",
          "xref": "x domain",
          "y": 0.058650295762821325,
          "yanchor": "bottom",
          "yref": "y"
         }
        ],
        "legend": {
         "title": {
          "text": "variable"
         },
         "tracegroupgap": 0
        },
        "shapes": [
         {
          "line": {
           "color": "red",
           "dash": "dash"
          },
          "type": "line",
          "x0": 0,
          "x1": 1,
          "xref": "x domain",
          "y0": 0.6046297208582914,
          "y1": 0.6046297208582914,
          "yref": "y"
         },
         {
          "line": {
           "color": "red",
           "dash": "dot"
          },
          "type": "line",
          "x0": 0,
          "x1": 1,
          "xref": "x domain",
          "y0": 0.05189054477222188,
          "y1": 0.05189054477222188,
          "yref": "y"
         },
         {
          "line": {
           "color": "green",
           "dash": "dash"
          },
          "type": "line",
          "x0": 0,
          "x1": 1,
          "xref": "x domain",
          "y0": 0.6044308677120305,
          "y1": 0.6044308677120305,
          "yref": "y"
         },
         {
          "line": {
           "color": "green",
           "dash": "dot"
          },
          "type": "line",
          "x0": 0,
          "x1": 1,
          "xref": "x domain",
          "y0": 0.06054072772237129,
          "y1": 0.06054072772237129,
          "yref": "y"
         },
         {
          "line": {
           "color": "blue",
           "dash": "dash"
          },
          "type": "line",
          "x0": 0,
          "x1": 1,
          "xref": "x domain",
          "y0": 0.6044964095879924,
          "y1": 0.6044964095879924,
          "yref": "y"
         },
         {
          "line": {
           "color": "blue",
           "dash": "dot"
          },
          "type": "line",
          "x0": 0,
          "x1": 1,
          "xref": "x domain",
          "y0": 0.058650295762821325,
          "y1": 0.058650295762821325,
          "yref": "y"
         }
        ],
        "template": {
         "data": {
          "bar": [
           {
            "error_x": {
             "color": "#2a3f5f"
            },
            "error_y": {
             "color": "#2a3f5f"
            },
            "marker": {
             "line": {
              "color": "#E5ECF6",
              "width": 0.5
             },
             "pattern": {
              "fillmode": "overlay",
              "size": 10,
              "solidity": 0.2
             }
            },
            "type": "bar"
           }
          ],
          "barpolar": [
           {
            "marker": {
             "line": {
              "color": "#E5ECF6",
              "width": 0.5
             },
             "pattern": {
              "fillmode": "overlay",
              "size": 10,
              "solidity": 0.2
             }
            },
            "type": "barpolar"
           }
          ],
          "carpet": [
           {
            "aaxis": {
             "endlinecolor": "#2a3f5f",
             "gridcolor": "white",
             "linecolor": "white",
             "minorgridcolor": "white",
             "startlinecolor": "#2a3f5f"
            },
            "baxis": {
             "endlinecolor": "#2a3f5f",
             "gridcolor": "white",
             "linecolor": "white",
             "minorgridcolor": "white",
             "startlinecolor": "#2a3f5f"
            },
            "type": "carpet"
           }
          ],
          "choropleth": [
           {
            "colorbar": {
             "outlinewidth": 0,
             "ticks": ""
            },
            "type": "choropleth"
           }
          ],
          "contour": [
           {
            "colorbar": {
             "outlinewidth": 0,
             "ticks": ""
            },
            "colorscale": [
             [
              0,
              "#0d0887"
             ],
             [
              0.1111111111111111,
              "#46039f"
             ],
             [
              0.2222222222222222,
              "#7201a8"
             ],
             [
              0.3333333333333333,
              "#9c179e"
             ],
             [
              0.4444444444444444,
              "#bd3786"
             ],
             [
              0.5555555555555556,
              "#d8576b"
             ],
             [
              0.6666666666666666,
              "#ed7953"
             ],
             [
              0.7777777777777778,
              "#fb9f3a"
             ],
             [
              0.8888888888888888,
              "#fdca26"
             ],
             [
              1,
              "#f0f921"
             ]
            ],
            "type": "contour"
           }
          ],
          "contourcarpet": [
           {
            "colorbar": {
             "outlinewidth": 0,
             "ticks": ""
            },
            "type": "contourcarpet"
           }
          ],
          "heatmap": [
           {
            "colorbar": {
             "outlinewidth": 0,
             "ticks": ""
            },
            "colorscale": [
             [
              0,
              "#0d0887"
             ],
             [
              0.1111111111111111,
              "#46039f"
             ],
             [
              0.2222222222222222,
              "#7201a8"
             ],
             [
              0.3333333333333333,
              "#9c179e"
             ],
             [
              0.4444444444444444,
              "#bd3786"
             ],
             [
              0.5555555555555556,
              "#d8576b"
             ],
             [
              0.6666666666666666,
              "#ed7953"
             ],
             [
              0.7777777777777778,
              "#fb9f3a"
             ],
             [
              0.8888888888888888,
              "#fdca26"
             ],
             [
              1,
              "#f0f921"
             ]
            ],
            "type": "heatmap"
           }
          ],
          "heatmapgl": [
           {
            "colorbar": {
             "outlinewidth": 0,
             "ticks": ""
            },
            "colorscale": [
             [
              0,
              "#0d0887"
             ],
             [
              0.1111111111111111,
              "#46039f"
             ],
             [
              0.2222222222222222,
              "#7201a8"
             ],
             [
              0.3333333333333333,
              "#9c179e"
             ],
             [
              0.4444444444444444,
              "#bd3786"
             ],
             [
              0.5555555555555556,
              "#d8576b"
             ],
             [
              0.6666666666666666,
              "#ed7953"
             ],
             [
              0.7777777777777778,
              "#fb9f3a"
             ],
             [
              0.8888888888888888,
              "#fdca26"
             ],
             [
              1,
              "#f0f921"
             ]
            ],
            "type": "heatmapgl"
           }
          ],
          "histogram": [
           {
            "marker": {
             "pattern": {
              "fillmode": "overlay",
              "size": 10,
              "solidity": 0.2
             }
            },
            "type": "histogram"
           }
          ],
          "histogram2d": [
           {
            "colorbar": {
             "outlinewidth": 0,
             "ticks": ""
            },
            "colorscale": [
             [
              0,
              "#0d0887"
             ],
             [
              0.1111111111111111,
              "#46039f"
             ],
             [
              0.2222222222222222,
              "#7201a8"
             ],
             [
              0.3333333333333333,
              "#9c179e"
             ],
             [
              0.4444444444444444,
              "#bd3786"
             ],
             [
              0.5555555555555556,
              "#d8576b"
             ],
             [
              0.6666666666666666,
              "#ed7953"
             ],
             [
              0.7777777777777778,
              "#fb9f3a"
             ],
             [
              0.8888888888888888,
              "#fdca26"
             ],
             [
              1,
              "#f0f921"
             ]
            ],
            "type": "histogram2d"
           }
          ],
          "histogram2dcontour": [
           {
            "colorbar": {
             "outlinewidth": 0,
             "ticks": ""
            },
            "colorscale": [
             [
              0,
              "#0d0887"
             ],
             [
              0.1111111111111111,
              "#46039f"
             ],
             [
              0.2222222222222222,
              "#7201a8"
             ],
             [
              0.3333333333333333,
              "#9c179e"
             ],
             [
              0.4444444444444444,
              "#bd3786"
             ],
             [
              0.5555555555555556,
              "#d8576b"
             ],
             [
              0.6666666666666666,
              "#ed7953"
             ],
             [
              0.7777777777777778,
              "#fb9f3a"
             ],
             [
              0.8888888888888888,
              "#fdca26"
             ],
             [
              1,
              "#f0f921"
             ]
            ],
            "type": "histogram2dcontour"
           }
          ],
          "mesh3d": [
           {
            "colorbar": {
             "outlinewidth": 0,
             "ticks": ""
            },
            "type": "mesh3d"
           }
          ],
          "parcoords": [
           {
            "line": {
             "colorbar": {
              "outlinewidth": 0,
              "ticks": ""
             }
            },
            "type": "parcoords"
           }
          ],
          "pie": [
           {
            "automargin": true,
            "type": "pie"
           }
          ],
          "scatter": [
           {
            "fillpattern": {
             "fillmode": "overlay",
             "size": 10,
             "solidity": 0.2
            },
            "type": "scatter"
           }
          ],
          "scatter3d": [
           {
            "line": {
             "colorbar": {
              "outlinewidth": 0,
              "ticks": ""
             }
            },
            "marker": {
             "colorbar": {
              "outlinewidth": 0,
              "ticks": ""
             }
            },
            "type": "scatter3d"
           }
          ],
          "scattercarpet": [
           {
            "marker": {
             "colorbar": {
              "outlinewidth": 0,
              "ticks": ""
             }
            },
            "type": "scattercarpet"
           }
          ],
          "scattergeo": [
           {
            "marker": {
             "colorbar": {
              "outlinewidth": 0,
              "ticks": ""
             }
            },
            "type": "scattergeo"
           }
          ],
          "scattergl": [
           {
            "marker": {
             "colorbar": {
              "outlinewidth": 0,
              "ticks": ""
             }
            },
            "type": "scattergl"
           }
          ],
          "scattermapbox": [
           {
            "marker": {
             "colorbar": {
              "outlinewidth": 0,
              "ticks": ""
             }
            },
            "type": "scattermapbox"
           }
          ],
          "scatterpolar": [
           {
            "marker": {
             "colorbar": {
              "outlinewidth": 0,
              "ticks": ""
             }
            },
            "type": "scatterpolar"
           }
          ],
          "scatterpolargl": [
           {
            "marker": {
             "colorbar": {
              "outlinewidth": 0,
              "ticks": ""
             }
            },
            "type": "scatterpolargl"
           }
          ],
          "scatterternary": [
           {
            "marker": {
             "colorbar": {
              "outlinewidth": 0,
              "ticks": ""
             }
            },
            "type": "scatterternary"
           }
          ],
          "surface": [
           {
            "colorbar": {
             "outlinewidth": 0,
             "ticks": ""
            },
            "colorscale": [
             [
              0,
              "#0d0887"
             ],
             [
              0.1111111111111111,
              "#46039f"
             ],
             [
              0.2222222222222222,
              "#7201a8"
             ],
             [
              0.3333333333333333,
              "#9c179e"
             ],
             [
              0.4444444444444444,
              "#bd3786"
             ],
             [
              0.5555555555555556,
              "#d8576b"
             ],
             [
              0.6666666666666666,
              "#ed7953"
             ],
             [
              0.7777777777777778,
              "#fb9f3a"
             ],
             [
              0.8888888888888888,
              "#fdca26"
             ],
             [
              1,
              "#f0f921"
             ]
            ],
            "type": "surface"
           }
          ],
          "table": [
           {
            "cells": {
             "fill": {
              "color": "#EBF0F8"
             },
             "line": {
              "color": "white"
             }
            },
            "header": {
             "fill": {
              "color": "#C8D4E3"
             },
             "line": {
              "color": "white"
             }
            },
            "type": "table"
           }
          ]
         },
         "layout": {
          "annotationdefaults": {
           "arrowcolor": "#2a3f5f",
           "arrowhead": 0,
           "arrowwidth": 1
          },
          "autotypenumbers": "strict",
          "coloraxis": {
           "colorbar": {
            "outlinewidth": 0,
            "ticks": ""
           }
          },
          "colorscale": {
           "diverging": [
            [
             0,
             "#8e0152"
            ],
            [
             0.1,
             "#c51b7d"
            ],
            [
             0.2,
             "#de77ae"
            ],
            [
             0.3,
             "#f1b6da"
            ],
            [
             0.4,
             "#fde0ef"
            ],
            [
             0.5,
             "#f7f7f7"
            ],
            [
             0.6,
             "#e6f5d0"
            ],
            [
             0.7,
             "#b8e186"
            ],
            [
             0.8,
             "#7fbc41"
            ],
            [
             0.9,
             "#4d9221"
            ],
            [
             1,
             "#276419"
            ]
           ],
           "sequential": [
            [
             0,
             "#0d0887"
            ],
            [
             0.1111111111111111,
             "#46039f"
            ],
            [
             0.2222222222222222,
             "#7201a8"
            ],
            [
             0.3333333333333333,
             "#9c179e"
            ],
            [
             0.4444444444444444,
             "#bd3786"
            ],
            [
             0.5555555555555556,
             "#d8576b"
            ],
            [
             0.6666666666666666,
             "#ed7953"
            ],
            [
             0.7777777777777778,
             "#fb9f3a"
            ],
            [
             0.8888888888888888,
             "#fdca26"
            ],
            [
             1,
             "#f0f921"
            ]
           ],
           "sequentialminus": [
            [
             0,
             "#0d0887"
            ],
            [
             0.1111111111111111,
             "#46039f"
            ],
            [
             0.2222222222222222,
             "#7201a8"
            ],
            [
             0.3333333333333333,
             "#9c179e"
            ],
            [
             0.4444444444444444,
             "#bd3786"
            ],
            [
             0.5555555555555556,
             "#d8576b"
            ],
            [
             0.6666666666666666,
             "#ed7953"
            ],
            [
             0.7777777777777778,
             "#fb9f3a"
            ],
            [
             0.8888888888888888,
             "#fdca26"
            ],
            [
             1,
             "#f0f921"
            ]
           ]
          },
          "colorway": [
           "#636efa",
           "#EF553B",
           "#00cc96",
           "#ab63fa",
           "#FFA15A",
           "#19d3f3",
           "#FF6692",
           "#B6E880",
           "#FF97FF",
           "#FECB52"
          ],
          "font": {
           "color": "#2a3f5f"
          },
          "geo": {
           "bgcolor": "white",
           "lakecolor": "white",
           "landcolor": "#E5ECF6",
           "showlakes": true,
           "showland": true,
           "subunitcolor": "white"
          },
          "hoverlabel": {
           "align": "left"
          },
          "hovermode": "closest",
          "mapbox": {
           "style": "light"
          },
          "paper_bgcolor": "white",
          "plot_bgcolor": "#E5ECF6",
          "polar": {
           "angularaxis": {
            "gridcolor": "white",
            "linecolor": "white",
            "ticks": ""
           },
           "bgcolor": "#E5ECF6",
           "radialaxis": {
            "gridcolor": "white",
            "linecolor": "white",
            "ticks": ""
           }
          },
          "scene": {
           "xaxis": {
            "backgroundcolor": "#E5ECF6",
            "gridcolor": "white",
            "gridwidth": 2,
            "linecolor": "white",
            "showbackground": true,
            "ticks": "",
            "zerolinecolor": "white"
           },
           "yaxis": {
            "backgroundcolor": "#E5ECF6",
            "gridcolor": "white",
            "gridwidth": 2,
            "linecolor": "white",
            "showbackground": true,
            "ticks": "",
            "zerolinecolor": "white"
           },
           "zaxis": {
            "backgroundcolor": "#E5ECF6",
            "gridcolor": "white",
            "gridwidth": 2,
            "linecolor": "white",
            "showbackground": true,
            "ticks": "",
            "zerolinecolor": "white"
           }
          },
          "shapedefaults": {
           "line": {
            "color": "#2a3f5f"
           }
          },
          "ternary": {
           "aaxis": {
            "gridcolor": "white",
            "linecolor": "white",
            "ticks": ""
           },
           "baxis": {
            "gridcolor": "white",
            "linecolor": "white",
            "ticks": ""
           },
           "bgcolor": "#E5ECF6",
           "caxis": {
            "gridcolor": "white",
            "linecolor": "white",
            "ticks": ""
           }
          },
          "title": {
           "x": 0.05
          },
          "xaxis": {
           "automargin": true,
           "gridcolor": "white",
           "linecolor": "white",
           "ticks": "",
           "title": {
            "standoff": 15
           },
           "zerolinecolor": "white",
           "zerolinewidth": 2
          },
          "yaxis": {
           "automargin": true,
           "gridcolor": "white",
           "linecolor": "white",
           "ticks": "",
           "title": {
            "standoff": 15
           },
           "zerolinecolor": "white",
           "zerolinewidth": 2
          }
         }
        },
        "title": {
         "text": "Gradient Boosting Regressor"
        },
        "xaxis": {
         "anchor": "y",
         "domain": [
          0,
          1
         ],
         "title": {
          "text": "Shrinkage"
         }
        },
        "yaxis": {
         "anchor": "x",
         "domain": [
          0,
          1
         ],
         "title": {
          "text": "value"
         }
        }
       }
      }
     },
     "metadata": {},
     "output_type": "display_data"
    }
   ],
   "source": [
    "shrinkage_parameters = [0.01, 0.1, 0.2, 0.3, 0.4, 0.5, 0.6, 0.7, 0.8, 0.9, 1]\n",
    "\n",
    "rows = []\n",
    "feature_importances = []\n",
    "for s in shrinkage_parameters:\n",
    "    gbm = GradientBoostingRegressor(n_estimators=1000, random_state=0, learning_rate=s)\n",
    "    gbm.fit(X_train, y_train)\n",
    "\n",
    "    train_score = gbm.score(X_train, y_train)\n",
    "    test_score = gbm.score(X_test, y_test)\n",
    "\n",
    "    feature_importances.append(gbm.feature_importances_)\n",
    "    rows.append({\"Shrinkage\": s, \"Train Score\": train_score, \"Test Score\": test_score})\n",
    "\n",
    "df = pd.DataFrame(rows)\n",
    "fig = px.line(df, x=\"Shrinkage\", y=[\"Train Score\", \"Test Score\"], title=\"Gradient Boosting Regressor\")\n",
    "fig.add_hline(y=linear_train_score, line_dash=\"dash\", line_color=\"red\", annotation_text=\"Linear Train Score\")\n",
    "fig.add_hline(y=linear_test_score, line_dash=\"dot\", line_color=\"red\", annotation_text=\"Linear Test Score\")\n",
    "\n",
    "fig.add_hline(y=ridge_train_score, line_dash=\"dash\", line_color=\"green\", annotation_text=\"Ridge Train Score\")\n",
    "fig.add_hline(y=ridge_test_score, line_dash=\"dot\", line_color=\"green\", annotation_text=\"Ridge Test Score\")\n",
    "\n",
    "fig.add_hline(y=lasso_train_score, line_dash=\"dash\", line_color=\"blue\", annotation_text=\"Lasso Train Score\")\n",
    "fig.add_hline(y=lasso_test_score, line_dash=\"dot\", line_color=\"blue\", annotation_text=\"Lasso Test Score\")\n",
    "\n",
    "fig.show()\n"
   ]
  },
  {
   "cell_type": "code",
   "execution_count": 33,
   "metadata": {},
   "outputs": [
    {
     "name": "stdout",
     "output_type": "stream",
     "text": [
      "Linear Train Score: 0.60\n",
      "Linear Test Score: 0.05\n",
      "Ridge Train Score: 0.60\n",
      "Ridge Test Score: 0.06\n",
      "Lasso Train Score: 0.60\n",
      "Lasso Test Score: 0.06\n"
     ]
    }
   ],
   "source": [
    "print(f\"Linear Train Score: {linear_train_score:.2f}\")\n",
    "print(f\"Linear Test Score: {linear_test_score:.2f}\")\n",
    "print(f\"Ridge Train Score: {ridge_train_score:.2f}\")\n",
    "print(f\"Ridge Test Score: {ridge_test_score:.2f}\")\n",
    "print(f\"Lasso Train Score: {lasso_train_score:.2f}\")\n",
    "print(f\"Lasso Test Score: {lasso_test_score:.2f}\")"
   ]
  },
  {
   "cell_type": "code",
   "execution_count": 34,
   "metadata": {},
   "outputs": [
    {
     "data": {
      "application/vnd.plotly.v1+json": {
       "config": {
        "plotlyServerURL": "https://plot.ly"
       },
       "data": [
        {
         "alignmentgroup": "True",
         "hovertemplate": "x=%{x}<br>y=%{y}<extra></extra>",
         "legendgroup": "",
         "marker": {
          "color": "#636efa",
          "pattern": {
           "shape": ""
          }
         },
         "name": "",
         "offsetgroup": "",
         "orientation": "v",
         "showlegend": false,
         "textposition": "auto",
         "type": "bar",
         "x": [
          "AtBat",
          "Hits",
          "HmRun",
          "Runs",
          "RBI",
          "Walks",
          "Years",
          "CAtBat",
          "CHits",
          "CHmRun",
          "CRuns",
          "CRBI",
          "CWalks",
          "League",
          "Division",
          "PutOuts",
          "Assists",
          "Errors",
          "NewLeague"
         ],
         "xaxis": "x",
         "y": [
          0.0009326872510119132,
          0.11894088685333952,
          0.005899535621881735,
          0.012035785839670408,
          0.08268277201379094,
          0.1607051169261379,
          0.05653276002869335,
          0.007322484284852995,
          0.3684209273657497,
          0.02870351359749852,
          0.03463236121457053,
          0.03394204535474242,
          0.03255280399480086,
          0.001092901875853432,
          0.00006364032422235742,
          0.010072540255232961,
          0.018055338341847048,
          0.027400647509110622,
          0.000011251346992913765
         ],
         "yaxis": "y"
        }
       ],
       "layout": {
        "barmode": "relative",
        "legend": {
         "tracegroupgap": 0
        },
        "template": {
         "data": {
          "bar": [
           {
            "error_x": {
             "color": "#2a3f5f"
            },
            "error_y": {
             "color": "#2a3f5f"
            },
            "marker": {
             "line": {
              "color": "#E5ECF6",
              "width": 0.5
             },
             "pattern": {
              "fillmode": "overlay",
              "size": 10,
              "solidity": 0.2
             }
            },
            "type": "bar"
           }
          ],
          "barpolar": [
           {
            "marker": {
             "line": {
              "color": "#E5ECF6",
              "width": 0.5
             },
             "pattern": {
              "fillmode": "overlay",
              "size": 10,
              "solidity": 0.2
             }
            },
            "type": "barpolar"
           }
          ],
          "carpet": [
           {
            "aaxis": {
             "endlinecolor": "#2a3f5f",
             "gridcolor": "white",
             "linecolor": "white",
             "minorgridcolor": "white",
             "startlinecolor": "#2a3f5f"
            },
            "baxis": {
             "endlinecolor": "#2a3f5f",
             "gridcolor": "white",
             "linecolor": "white",
             "minorgridcolor": "white",
             "startlinecolor": "#2a3f5f"
            },
            "type": "carpet"
           }
          ],
          "choropleth": [
           {
            "colorbar": {
             "outlinewidth": 0,
             "ticks": ""
            },
            "type": "choropleth"
           }
          ],
          "contour": [
           {
            "colorbar": {
             "outlinewidth": 0,
             "ticks": ""
            },
            "colorscale": [
             [
              0,
              "#0d0887"
             ],
             [
              0.1111111111111111,
              "#46039f"
             ],
             [
              0.2222222222222222,
              "#7201a8"
             ],
             [
              0.3333333333333333,
              "#9c179e"
             ],
             [
              0.4444444444444444,
              "#bd3786"
             ],
             [
              0.5555555555555556,
              "#d8576b"
             ],
             [
              0.6666666666666666,
              "#ed7953"
             ],
             [
              0.7777777777777778,
              "#fb9f3a"
             ],
             [
              0.8888888888888888,
              "#fdca26"
             ],
             [
              1,
              "#f0f921"
             ]
            ],
            "type": "contour"
           }
          ],
          "contourcarpet": [
           {
            "colorbar": {
             "outlinewidth": 0,
             "ticks": ""
            },
            "type": "contourcarpet"
           }
          ],
          "heatmap": [
           {
            "colorbar": {
             "outlinewidth": 0,
             "ticks": ""
            },
            "colorscale": [
             [
              0,
              "#0d0887"
             ],
             [
              0.1111111111111111,
              "#46039f"
             ],
             [
              0.2222222222222222,
              "#7201a8"
             ],
             [
              0.3333333333333333,
              "#9c179e"
             ],
             [
              0.4444444444444444,
              "#bd3786"
             ],
             [
              0.5555555555555556,
              "#d8576b"
             ],
             [
              0.6666666666666666,
              "#ed7953"
             ],
             [
              0.7777777777777778,
              "#fb9f3a"
             ],
             [
              0.8888888888888888,
              "#fdca26"
             ],
             [
              1,
              "#f0f921"
             ]
            ],
            "type": "heatmap"
           }
          ],
          "heatmapgl": [
           {
            "colorbar": {
             "outlinewidth": 0,
             "ticks": ""
            },
            "colorscale": [
             [
              0,
              "#0d0887"
             ],
             [
              0.1111111111111111,
              "#46039f"
             ],
             [
              0.2222222222222222,
              "#7201a8"
             ],
             [
              0.3333333333333333,
              "#9c179e"
             ],
             [
              0.4444444444444444,
              "#bd3786"
             ],
             [
              0.5555555555555556,
              "#d8576b"
             ],
             [
              0.6666666666666666,
              "#ed7953"
             ],
             [
              0.7777777777777778,
              "#fb9f3a"
             ],
             [
              0.8888888888888888,
              "#fdca26"
             ],
             [
              1,
              "#f0f921"
             ]
            ],
            "type": "heatmapgl"
           }
          ],
          "histogram": [
           {
            "marker": {
             "pattern": {
              "fillmode": "overlay",
              "size": 10,
              "solidity": 0.2
             }
            },
            "type": "histogram"
           }
          ],
          "histogram2d": [
           {
            "colorbar": {
             "outlinewidth": 0,
             "ticks": ""
            },
            "colorscale": [
             [
              0,
              "#0d0887"
             ],
             [
              0.1111111111111111,
              "#46039f"
             ],
             [
              0.2222222222222222,
              "#7201a8"
             ],
             [
              0.3333333333333333,
              "#9c179e"
             ],
             [
              0.4444444444444444,
              "#bd3786"
             ],
             [
              0.5555555555555556,
              "#d8576b"
             ],
             [
              0.6666666666666666,
              "#ed7953"
             ],
             [
              0.7777777777777778,
              "#fb9f3a"
             ],
             [
              0.8888888888888888,
              "#fdca26"
             ],
             [
              1,
              "#f0f921"
             ]
            ],
            "type": "histogram2d"
           }
          ],
          "histogram2dcontour": [
           {
            "colorbar": {
             "outlinewidth": 0,
             "ticks": ""
            },
            "colorscale": [
             [
              0,
              "#0d0887"
             ],
             [
              0.1111111111111111,
              "#46039f"
             ],
             [
              0.2222222222222222,
              "#7201a8"
             ],
             [
              0.3333333333333333,
              "#9c179e"
             ],
             [
              0.4444444444444444,
              "#bd3786"
             ],
             [
              0.5555555555555556,
              "#d8576b"
             ],
             [
              0.6666666666666666,
              "#ed7953"
             ],
             [
              0.7777777777777778,
              "#fb9f3a"
             ],
             [
              0.8888888888888888,
              "#fdca26"
             ],
             [
              1,
              "#f0f921"
             ]
            ],
            "type": "histogram2dcontour"
           }
          ],
          "mesh3d": [
           {
            "colorbar": {
             "outlinewidth": 0,
             "ticks": ""
            },
            "type": "mesh3d"
           }
          ],
          "parcoords": [
           {
            "line": {
             "colorbar": {
              "outlinewidth": 0,
              "ticks": ""
             }
            },
            "type": "parcoords"
           }
          ],
          "pie": [
           {
            "automargin": true,
            "type": "pie"
           }
          ],
          "scatter": [
           {
            "fillpattern": {
             "fillmode": "overlay",
             "size": 10,
             "solidity": 0.2
            },
            "type": "scatter"
           }
          ],
          "scatter3d": [
           {
            "line": {
             "colorbar": {
              "outlinewidth": 0,
              "ticks": ""
             }
            },
            "marker": {
             "colorbar": {
              "outlinewidth": 0,
              "ticks": ""
             }
            },
            "type": "scatter3d"
           }
          ],
          "scattercarpet": [
           {
            "marker": {
             "colorbar": {
              "outlinewidth": 0,
              "ticks": ""
             }
            },
            "type": "scattercarpet"
           }
          ],
          "scattergeo": [
           {
            "marker": {
             "colorbar": {
              "outlinewidth": 0,
              "ticks": ""
             }
            },
            "type": "scattergeo"
           }
          ],
          "scattergl": [
           {
            "marker": {
             "colorbar": {
              "outlinewidth": 0,
              "ticks": ""
             }
            },
            "type": "scattergl"
           }
          ],
          "scattermapbox": [
           {
            "marker": {
             "colorbar": {
              "outlinewidth": 0,
              "ticks": ""
             }
            },
            "type": "scattermapbox"
           }
          ],
          "scatterpolar": [
           {
            "marker": {
             "colorbar": {
              "outlinewidth": 0,
              "ticks": ""
             }
            },
            "type": "scatterpolar"
           }
          ],
          "scatterpolargl": [
           {
            "marker": {
             "colorbar": {
              "outlinewidth": 0,
              "ticks": ""
             }
            },
            "type": "scatterpolargl"
           }
          ],
          "scatterternary": [
           {
            "marker": {
             "colorbar": {
              "outlinewidth": 0,
              "ticks": ""
             }
            },
            "type": "scatterternary"
           }
          ],
          "surface": [
           {
            "colorbar": {
             "outlinewidth": 0,
             "ticks": ""
            },
            "colorscale": [
             [
              0,
              "#0d0887"
             ],
             [
              0.1111111111111111,
              "#46039f"
             ],
             [
              0.2222222222222222,
              "#7201a8"
             ],
             [
              0.3333333333333333,
              "#9c179e"
             ],
             [
              0.4444444444444444,
              "#bd3786"
             ],
             [
              0.5555555555555556,
              "#d8576b"
             ],
             [
              0.6666666666666666,
              "#ed7953"
             ],
             [
              0.7777777777777778,
              "#fb9f3a"
             ],
             [
              0.8888888888888888,
              "#fdca26"
             ],
             [
              1,
              "#f0f921"
             ]
            ],
            "type": "surface"
           }
          ],
          "table": [
           {
            "cells": {
             "fill": {
              "color": "#EBF0F8"
             },
             "line": {
              "color": "white"
             }
            },
            "header": {
             "fill": {
              "color": "#C8D4E3"
             },
             "line": {
              "color": "white"
             }
            },
            "type": "table"
           }
          ]
         },
         "layout": {
          "annotationdefaults": {
           "arrowcolor": "#2a3f5f",
           "arrowhead": 0,
           "arrowwidth": 1
          },
          "autotypenumbers": "strict",
          "coloraxis": {
           "colorbar": {
            "outlinewidth": 0,
            "ticks": ""
           }
          },
          "colorscale": {
           "diverging": [
            [
             0,
             "#8e0152"
            ],
            [
             0.1,
             "#c51b7d"
            ],
            [
             0.2,
             "#de77ae"
            ],
            [
             0.3,
             "#f1b6da"
            ],
            [
             0.4,
             "#fde0ef"
            ],
            [
             0.5,
             "#f7f7f7"
            ],
            [
             0.6,
             "#e6f5d0"
            ],
            [
             0.7,
             "#b8e186"
            ],
            [
             0.8,
             "#7fbc41"
            ],
            [
             0.9,
             "#4d9221"
            ],
            [
             1,
             "#276419"
            ]
           ],
           "sequential": [
            [
             0,
             "#0d0887"
            ],
            [
             0.1111111111111111,
             "#46039f"
            ],
            [
             0.2222222222222222,
             "#7201a8"
            ],
            [
             0.3333333333333333,
             "#9c179e"
            ],
            [
             0.4444444444444444,
             "#bd3786"
            ],
            [
             0.5555555555555556,
             "#d8576b"
            ],
            [
             0.6666666666666666,
             "#ed7953"
            ],
            [
             0.7777777777777778,
             "#fb9f3a"
            ],
            [
             0.8888888888888888,
             "#fdca26"
            ],
            [
             1,
             "#f0f921"
            ]
           ],
           "sequentialminus": [
            [
             0,
             "#0d0887"
            ],
            [
             0.1111111111111111,
             "#46039f"
            ],
            [
             0.2222222222222222,
             "#7201a8"
            ],
            [
             0.3333333333333333,
             "#9c179e"
            ],
            [
             0.4444444444444444,
             "#bd3786"
            ],
            [
             0.5555555555555556,
             "#d8576b"
            ],
            [
             0.6666666666666666,
             "#ed7953"
            ],
            [
             0.7777777777777778,
             "#fb9f3a"
            ],
            [
             0.8888888888888888,
             "#fdca26"
            ],
            [
             1,
             "#f0f921"
            ]
           ]
          },
          "colorway": [
           "#636efa",
           "#EF553B",
           "#00cc96",
           "#ab63fa",
           "#FFA15A",
           "#19d3f3",
           "#FF6692",
           "#B6E880",
           "#FF97FF",
           "#FECB52"
          ],
          "font": {
           "color": "#2a3f5f"
          },
          "geo": {
           "bgcolor": "white",
           "lakecolor": "white",
           "landcolor": "#E5ECF6",
           "showlakes": true,
           "showland": true,
           "subunitcolor": "white"
          },
          "hoverlabel": {
           "align": "left"
          },
          "hovermode": "closest",
          "mapbox": {
           "style": "light"
          },
          "paper_bgcolor": "white",
          "plot_bgcolor": "#E5ECF6",
          "polar": {
           "angularaxis": {
            "gridcolor": "white",
            "linecolor": "white",
            "ticks": ""
           },
           "bgcolor": "#E5ECF6",
           "radialaxis": {
            "gridcolor": "white",
            "linecolor": "white",
            "ticks": ""
           }
          },
          "scene": {
           "xaxis": {
            "backgroundcolor": "#E5ECF6",
            "gridcolor": "white",
            "gridwidth": 2,
            "linecolor": "white",
            "showbackground": true,
            "ticks": "",
            "zerolinecolor": "white"
           },
           "yaxis": {
            "backgroundcolor": "#E5ECF6",
            "gridcolor": "white",
            "gridwidth": 2,
            "linecolor": "white",
            "showbackground": true,
            "ticks": "",
            "zerolinecolor": "white"
           },
           "zaxis": {
            "backgroundcolor": "#E5ECF6",
            "gridcolor": "white",
            "gridwidth": 2,
            "linecolor": "white",
            "showbackground": true,
            "ticks": "",
            "zerolinecolor": "white"
           }
          },
          "shapedefaults": {
           "line": {
            "color": "#2a3f5f"
           }
          },
          "ternary": {
           "aaxis": {
            "gridcolor": "white",
            "linecolor": "white",
            "ticks": ""
           },
           "baxis": {
            "gridcolor": "white",
            "linecolor": "white",
            "ticks": ""
           },
           "bgcolor": "#E5ECF6",
           "caxis": {
            "gridcolor": "white",
            "linecolor": "white",
            "ticks": ""
           }
          },
          "title": {
           "x": 0.05
          },
          "xaxis": {
           "automargin": true,
           "gridcolor": "white",
           "linecolor": "white",
           "ticks": "",
           "title": {
            "standoff": 15
           },
           "zerolinecolor": "white",
           "zerolinewidth": 2
          },
          "yaxis": {
           "automargin": true,
           "gridcolor": "white",
           "linecolor": "white",
           "ticks": "",
           "title": {
            "standoff": 15
           },
           "zerolinecolor": "white",
           "zerolinewidth": 2
          }
         }
        },
        "title": {
         "text": "Gradient Boosting Regressor Feature Importances"
        },
        "xaxis": {
         "anchor": "y",
         "categoryorder": "total descending",
         "domain": [
          0,
          1
         ],
         "title": {
          "text": "Feature"
         }
        },
        "yaxis": {
         "anchor": "x",
         "domain": [
          0,
          1
         ],
         "title": {
          "text": "Importance"
         }
        }
       }
      }
     },
     "metadata": {},
     "output_type": "display_data"
    }
   ],
   "source": [
    "fig = px.bar(x=X.columns, y=gbm.feature_importances_, title=\"Gradient Boosting Regressor Feature Importances\")\n",
    "fig.update_layout(xaxis_title=\"Feature\", yaxis_title=\"Importance\", xaxis={'categoryorder':'total descending'})"
   ]
  },
  {
   "cell_type": "code",
   "execution_count": 35,
   "metadata": {},
   "outputs": [
    {
     "name": "stdout",
     "output_type": "stream",
     "text": [
      "Train MSE: 14501.91\n",
      "Test MSE: 51071.60\n"
     ]
    }
   ],
   "source": [
    "bagging = BaggingRegressor(estimator=DecisionTreeRegressor(), n_estimators=100, random_state=0)\n",
    "bagging.fit(X_train_scale, y_train)\n",
    "\n",
    "train_mse = mean_squared_error(y_train, bagging.predict(X_train_scale))\n",
    "test_mse = mean_squared_error(y_test, bagging.predict(X_test_scale))\n",
    "print(f\"Train MSE: {train_mse:.2f}\")\n",
    "print(f\"Test MSE: {test_mse:.2f}\")"
   ]
  },
  {
   "cell_type": "code",
   "execution_count": 36,
   "metadata": {},
   "outputs": [
    {
     "name": "stdout",
     "output_type": "stream",
     "text": [
      "Train MSE: 2515.04\n",
      "Test MSE: 66868.40\n"
     ]
    }
   ],
   "source": [
    "boosting = GradientBoostingRegressor(n_estimators=100, random_state=0)\n",
    "boosting.fit(X_train_scale, y_train)\n",
    "\n",
    "train_mse = mean_squared_error(y_train, boosting.predict(X_train_scale))\n",
    "test_mse = mean_squared_error(y_test, boosting.predict(X_test_scale))\n",
    "print(f\"Train MSE: {train_mse:.2f}\")\n",
    "print(f\"Test MSE: {test_mse:.2f}\")"
   ]
  },
  {
   "cell_type": "markdown",
   "metadata": {},
   "source": [
    "# Question 11"
   ]
  },
  {
   "cell_type": "code",
   "execution_count": 37,
   "metadata": {},
   "outputs": [
    {
     "data": {
      "application/vnd.plotly.v1+json": {
       "config": {
        "plotlyServerURL": "https://plot.ly"
       },
       "data": [
        {
         "alignmentgroup": "True",
         "hovertemplate": "x=%{x}<br>y=%{y}<extra></extra>",
         "legendgroup": "",
         "marker": {
          "color": "#636efa",
          "pattern": {
           "shape": ""
          }
         },
         "name": "",
         "offsetgroup": "",
         "orientation": "v",
         "showlegend": false,
         "textposition": "auto",
         "type": "bar",
         "x": [
          "MOSTYPE",
          "MAANTHUI",
          "MGEMOMV",
          "MGEMLEEF",
          "MOSHOOFD",
          "MGODRK",
          "MGODPR",
          "MGODOV",
          "MGODGE",
          "MRELGE",
          "MRELSA",
          "MRELOV",
          "MFALLEEN",
          "MFGEKIND",
          "MFWEKIND",
          "MOPLHOOG",
          "MOPLMIDD",
          "MOPLLAAG",
          "MBERHOOG",
          "MBERZELF",
          "MBERBOER",
          "MBERMIDD",
          "MBERARBG",
          "MBERARBO",
          "MSKA",
          "MSKB1",
          "MSKB2",
          "MSKC",
          "MSKD",
          "MHHUUR",
          "MHKOOP",
          "MAUT1",
          "MAUT2",
          "MAUT0",
          "MZFONDS",
          "MZPART",
          "MINKM30",
          "MINK3045",
          "MINK4575",
          "MINK7512",
          "MINK123M",
          "MINKGEM",
          "MKOOPKLA",
          "PWAPART",
          "PWABEDR",
          "PWALAND",
          "PPERSAUT",
          "PBESAUT",
          "PMOTSCO",
          "PVRAAUT",
          "PAANHANG",
          "PTRACTOR",
          "PWERKT",
          "PBROM",
          "PLEVEN",
          "PPERSONG",
          "PGEZONG",
          "PWAOREG",
          "PBRAND",
          "PZEILPL",
          "PPLEZIER",
          "PFIETS",
          "PINBOED",
          "PBYSTAND",
          "AWAPART",
          "AWABEDR",
          "AWALAND",
          "APERSAUT",
          "ABESAUT",
          "AMOTSCO",
          "AVRAAUT",
          "AAANHANG",
          "ATRACTOR",
          "AWERKT",
          "ABROM",
          "ALEVEN",
          "APERSONG",
          "AGEZONG",
          "AWAOREG",
          "ABRAND",
          "AZEILPL",
          "APLEZIER",
          "AFIETS",
          "AINBOED",
          "ABYSTAND"
         ],
         "xaxis": "x",
         "y": [
          0.06699961629195224,
          0.0005627619061613575,
          0.002847106962554704,
          0.0037894462936659727,
          0.010689639287660353,
          0.009631417108923531,
          0.031842124510836414,
          0.009829184124398253,
          0.059008082031935985,
          0.02035720193978802,
          0.008264567239068573,
          0.01084880635322934,
          0.013000055592616086,
          0.020700547943109247,
          0.01015439517545394,
          0.04249670215477486,
          0.008185917744214854,
          0.0018559001203024594,
          0.008464805922777322,
          0.0009354919297787771,
          0.0035266270594904925,
          0.04564772602660113,
          0.01712512529374156,
          0.0034845687857782996,
          0.013086621453803004,
          0.017532514721833595,
          0.012762403224604932,
          0.0040440766953866595,
          0.004528337208768931,
          0.0024710336826702637,
          0.003759799941468845,
          0.005204565949136211,
          0.007432608260647652,
          0.00434194960502158,
          0.009101221217027543,
          0.00850110498356026,
          0.009955666459974496,
          0.012725335873548219,
          0.0035283475277506967,
          0.011090075295278362,
          0.000003600895315395605,
          0.007427367664909493,
          0.05097806148956677,
          0.026761736843544676,
          0.0006107313381022221,
          0.0003051245348327038,
          0.07510297170161886,
          0.00008262517138006008,
          0.004847225059939304,
          0,
          0.00001091780888206623,
          0.0001769839202920522,
          0,
          0,
          0.022590275185691726,
          0,
          0.018389747753097825,
          0.015625888719010016,
          0.030209781123633362,
          0.006809631453806206,
          0.02945790867415457,
          0.00016628147378006133,
          0.000014190178550871973,
          0.0203107102017874,
          0.009640437538020795,
          0,
          0.0005872527610797023,
          0.005836118915612961,
          0.00006575747979856163,
          0.027883614319081023,
          0,
          0.000010811212733857442,
          0.0003539014993158657,
          0,
          0,
          0.0002339007764964096,
          0,
          0.00004226874425199532,
          0.0122317029306309,
          0.05430012579883197,
          0.008094245704706802,
          0.023001860765065104,
          0.004700233306056349,
          0.000007762077457871473,
          0.0028147650796691405
         ],
         "yaxis": "y"
        }
       ],
       "layout": {
        "barmode": "relative",
        "legend": {
         "tracegroupgap": 0
        },
        "template": {
         "data": {
          "bar": [
           {
            "error_x": {
             "color": "#2a3f5f"
            },
            "error_y": {
             "color": "#2a3f5f"
            },
            "marker": {
             "line": {
              "color": "#E5ECF6",
              "width": 0.5
             },
             "pattern": {
              "fillmode": "overlay",
              "size": 10,
              "solidity": 0.2
             }
            },
            "type": "bar"
           }
          ],
          "barpolar": [
           {
            "marker": {
             "line": {
              "color": "#E5ECF6",
              "width": 0.5
             },
             "pattern": {
              "fillmode": "overlay",
              "size": 10,
              "solidity": 0.2
             }
            },
            "type": "barpolar"
           }
          ],
          "carpet": [
           {
            "aaxis": {
             "endlinecolor": "#2a3f5f",
             "gridcolor": "white",
             "linecolor": "white",
             "minorgridcolor": "white",
             "startlinecolor": "#2a3f5f"
            },
            "baxis": {
             "endlinecolor": "#2a3f5f",
             "gridcolor": "white",
             "linecolor": "white",
             "minorgridcolor": "white",
             "startlinecolor": "#2a3f5f"
            },
            "type": "carpet"
           }
          ],
          "choropleth": [
           {
            "colorbar": {
             "outlinewidth": 0,
             "ticks": ""
            },
            "type": "choropleth"
           }
          ],
          "contour": [
           {
            "colorbar": {
             "outlinewidth": 0,
             "ticks": ""
            },
            "colorscale": [
             [
              0,
              "#0d0887"
             ],
             [
              0.1111111111111111,
              "#46039f"
             ],
             [
              0.2222222222222222,
              "#7201a8"
             ],
             [
              0.3333333333333333,
              "#9c179e"
             ],
             [
              0.4444444444444444,
              "#bd3786"
             ],
             [
              0.5555555555555556,
              "#d8576b"
             ],
             [
              0.6666666666666666,
              "#ed7953"
             ],
             [
              0.7777777777777778,
              "#fb9f3a"
             ],
             [
              0.8888888888888888,
              "#fdca26"
             ],
             [
              1,
              "#f0f921"
             ]
            ],
            "type": "contour"
           }
          ],
          "contourcarpet": [
           {
            "colorbar": {
             "outlinewidth": 0,
             "ticks": ""
            },
            "type": "contourcarpet"
           }
          ],
          "heatmap": [
           {
            "colorbar": {
             "outlinewidth": 0,
             "ticks": ""
            },
            "colorscale": [
             [
              0,
              "#0d0887"
             ],
             [
              0.1111111111111111,
              "#46039f"
             ],
             [
              0.2222222222222222,
              "#7201a8"
             ],
             [
              0.3333333333333333,
              "#9c179e"
             ],
             [
              0.4444444444444444,
              "#bd3786"
             ],
             [
              0.5555555555555556,
              "#d8576b"
             ],
             [
              0.6666666666666666,
              "#ed7953"
             ],
             [
              0.7777777777777778,
              "#fb9f3a"
             ],
             [
              0.8888888888888888,
              "#fdca26"
             ],
             [
              1,
              "#f0f921"
             ]
            ],
            "type": "heatmap"
           }
          ],
          "heatmapgl": [
           {
            "colorbar": {
             "outlinewidth": 0,
             "ticks": ""
            },
            "colorscale": [
             [
              0,
              "#0d0887"
             ],
             [
              0.1111111111111111,
              "#46039f"
             ],
             [
              0.2222222222222222,
              "#7201a8"
             ],
             [
              0.3333333333333333,
              "#9c179e"
             ],
             [
              0.4444444444444444,
              "#bd3786"
             ],
             [
              0.5555555555555556,
              "#d8576b"
             ],
             [
              0.6666666666666666,
              "#ed7953"
             ],
             [
              0.7777777777777778,
              "#fb9f3a"
             ],
             [
              0.8888888888888888,
              "#fdca26"
             ],
             [
              1,
              "#f0f921"
             ]
            ],
            "type": "heatmapgl"
           }
          ],
          "histogram": [
           {
            "marker": {
             "pattern": {
              "fillmode": "overlay",
              "size": 10,
              "solidity": 0.2
             }
            },
            "type": "histogram"
           }
          ],
          "histogram2d": [
           {
            "colorbar": {
             "outlinewidth": 0,
             "ticks": ""
            },
            "colorscale": [
             [
              0,
              "#0d0887"
             ],
             [
              0.1111111111111111,
              "#46039f"
             ],
             [
              0.2222222222222222,
              "#7201a8"
             ],
             [
              0.3333333333333333,
              "#9c179e"
             ],
             [
              0.4444444444444444,
              "#bd3786"
             ],
             [
              0.5555555555555556,
              "#d8576b"
             ],
             [
              0.6666666666666666,
              "#ed7953"
             ],
             [
              0.7777777777777778,
              "#fb9f3a"
             ],
             [
              0.8888888888888888,
              "#fdca26"
             ],
             [
              1,
              "#f0f921"
             ]
            ],
            "type": "histogram2d"
           }
          ],
          "histogram2dcontour": [
           {
            "colorbar": {
             "outlinewidth": 0,
             "ticks": ""
            },
            "colorscale": [
             [
              0,
              "#0d0887"
             ],
             [
              0.1111111111111111,
              "#46039f"
             ],
             [
              0.2222222222222222,
              "#7201a8"
             ],
             [
              0.3333333333333333,
              "#9c179e"
             ],
             [
              0.4444444444444444,
              "#bd3786"
             ],
             [
              0.5555555555555556,
              "#d8576b"
             ],
             [
              0.6666666666666666,
              "#ed7953"
             ],
             [
              0.7777777777777778,
              "#fb9f3a"
             ],
             [
              0.8888888888888888,
              "#fdca26"
             ],
             [
              1,
              "#f0f921"
             ]
            ],
            "type": "histogram2dcontour"
           }
          ],
          "mesh3d": [
           {
            "colorbar": {
             "outlinewidth": 0,
             "ticks": ""
            },
            "type": "mesh3d"
           }
          ],
          "parcoords": [
           {
            "line": {
             "colorbar": {
              "outlinewidth": 0,
              "ticks": ""
             }
            },
            "type": "parcoords"
           }
          ],
          "pie": [
           {
            "automargin": true,
            "type": "pie"
           }
          ],
          "scatter": [
           {
            "fillpattern": {
             "fillmode": "overlay",
             "size": 10,
             "solidity": 0.2
            },
            "type": "scatter"
           }
          ],
          "scatter3d": [
           {
            "line": {
             "colorbar": {
              "outlinewidth": 0,
              "ticks": ""
             }
            },
            "marker": {
             "colorbar": {
              "outlinewidth": 0,
              "ticks": ""
             }
            },
            "type": "scatter3d"
           }
          ],
          "scattercarpet": [
           {
            "marker": {
             "colorbar": {
              "outlinewidth": 0,
              "ticks": ""
             }
            },
            "type": "scattercarpet"
           }
          ],
          "scattergeo": [
           {
            "marker": {
             "colorbar": {
              "outlinewidth": 0,
              "ticks": ""
             }
            },
            "type": "scattergeo"
           }
          ],
          "scattergl": [
           {
            "marker": {
             "colorbar": {
              "outlinewidth": 0,
              "ticks": ""
             }
            },
            "type": "scattergl"
           }
          ],
          "scattermapbox": [
           {
            "marker": {
             "colorbar": {
              "outlinewidth": 0,
              "ticks": ""
             }
            },
            "type": "scattermapbox"
           }
          ],
          "scatterpolar": [
           {
            "marker": {
             "colorbar": {
              "outlinewidth": 0,
              "ticks": ""
             }
            },
            "type": "scatterpolar"
           }
          ],
          "scatterpolargl": [
           {
            "marker": {
             "colorbar": {
              "outlinewidth": 0,
              "ticks": ""
             }
            },
            "type": "scatterpolargl"
           }
          ],
          "scatterternary": [
           {
            "marker": {
             "colorbar": {
              "outlinewidth": 0,
              "ticks": ""
             }
            },
            "type": "scatterternary"
           }
          ],
          "surface": [
           {
            "colorbar": {
             "outlinewidth": 0,
             "ticks": ""
            },
            "colorscale": [
             [
              0,
              "#0d0887"
             ],
             [
              0.1111111111111111,
              "#46039f"
             ],
             [
              0.2222222222222222,
              "#7201a8"
             ],
             [
              0.3333333333333333,
              "#9c179e"
             ],
             [
              0.4444444444444444,
              "#bd3786"
             ],
             [
              0.5555555555555556,
              "#d8576b"
             ],
             [
              0.6666666666666666,
              "#ed7953"
             ],
             [
              0.7777777777777778,
              "#fb9f3a"
             ],
             [
              0.8888888888888888,
              "#fdca26"
             ],
             [
              1,
              "#f0f921"
             ]
            ],
            "type": "surface"
           }
          ],
          "table": [
           {
            "cells": {
             "fill": {
              "color": "#EBF0F8"
             },
             "line": {
              "color": "white"
             }
            },
            "header": {
             "fill": {
              "color": "#C8D4E3"
             },
             "line": {
              "color": "white"
             }
            },
            "type": "table"
           }
          ]
         },
         "layout": {
          "annotationdefaults": {
           "arrowcolor": "#2a3f5f",
           "arrowhead": 0,
           "arrowwidth": 1
          },
          "autotypenumbers": "strict",
          "coloraxis": {
           "colorbar": {
            "outlinewidth": 0,
            "ticks": ""
           }
          },
          "colorscale": {
           "diverging": [
            [
             0,
             "#8e0152"
            ],
            [
             0.1,
             "#c51b7d"
            ],
            [
             0.2,
             "#de77ae"
            ],
            [
             0.3,
             "#f1b6da"
            ],
            [
             0.4,
             "#fde0ef"
            ],
            [
             0.5,
             "#f7f7f7"
            ],
            [
             0.6,
             "#e6f5d0"
            ],
            [
             0.7,
             "#b8e186"
            ],
            [
             0.8,
             "#7fbc41"
            ],
            [
             0.9,
             "#4d9221"
            ],
            [
             1,
             "#276419"
            ]
           ],
           "sequential": [
            [
             0,
             "#0d0887"
            ],
            [
             0.1111111111111111,
             "#46039f"
            ],
            [
             0.2222222222222222,
             "#7201a8"
            ],
            [
             0.3333333333333333,
             "#9c179e"
            ],
            [
             0.4444444444444444,
             "#bd3786"
            ],
            [
             0.5555555555555556,
             "#d8576b"
            ],
            [
             0.6666666666666666,
             "#ed7953"
            ],
            [
             0.7777777777777778,
             "#fb9f3a"
            ],
            [
             0.8888888888888888,
             "#fdca26"
            ],
            [
             1,
             "#f0f921"
            ]
           ],
           "sequentialminus": [
            [
             0,
             "#0d0887"
            ],
            [
             0.1111111111111111,
             "#46039f"
            ],
            [
             0.2222222222222222,
             "#7201a8"
            ],
            [
             0.3333333333333333,
             "#9c179e"
            ],
            [
             0.4444444444444444,
             "#bd3786"
            ],
            [
             0.5555555555555556,
             "#d8576b"
            ],
            [
             0.6666666666666666,
             "#ed7953"
            ],
            [
             0.7777777777777778,
             "#fb9f3a"
            ],
            [
             0.8888888888888888,
             "#fdca26"
            ],
            [
             1,
             "#f0f921"
            ]
           ]
          },
          "colorway": [
           "#636efa",
           "#EF553B",
           "#00cc96",
           "#ab63fa",
           "#FFA15A",
           "#19d3f3",
           "#FF6692",
           "#B6E880",
           "#FF97FF",
           "#FECB52"
          ],
          "font": {
           "color": "#2a3f5f"
          },
          "geo": {
           "bgcolor": "white",
           "lakecolor": "white",
           "landcolor": "#E5ECF6",
           "showlakes": true,
           "showland": true,
           "subunitcolor": "white"
          },
          "hoverlabel": {
           "align": "left"
          },
          "hovermode": "closest",
          "mapbox": {
           "style": "light"
          },
          "paper_bgcolor": "white",
          "plot_bgcolor": "#E5ECF6",
          "polar": {
           "angularaxis": {
            "gridcolor": "white",
            "linecolor": "white",
            "ticks": ""
           },
           "bgcolor": "#E5ECF6",
           "radialaxis": {
            "gridcolor": "white",
            "linecolor": "white",
            "ticks": ""
           }
          },
          "scene": {
           "xaxis": {
            "backgroundcolor": "#E5ECF6",
            "gridcolor": "white",
            "gridwidth": 2,
            "linecolor": "white",
            "showbackground": true,
            "ticks": "",
            "zerolinecolor": "white"
           },
           "yaxis": {
            "backgroundcolor": "#E5ECF6",
            "gridcolor": "white",
            "gridwidth": 2,
            "linecolor": "white",
            "showbackground": true,
            "ticks": "",
            "zerolinecolor": "white"
           },
           "zaxis": {
            "backgroundcolor": "#E5ECF6",
            "gridcolor": "white",
            "gridwidth": 2,
            "linecolor": "white",
            "showbackground": true,
            "ticks": "",
            "zerolinecolor": "white"
           }
          },
          "shapedefaults": {
           "line": {
            "color": "#2a3f5f"
           }
          },
          "ternary": {
           "aaxis": {
            "gridcolor": "white",
            "linecolor": "white",
            "ticks": ""
           },
           "baxis": {
            "gridcolor": "white",
            "linecolor": "white",
            "ticks": ""
           },
           "bgcolor": "#E5ECF6",
           "caxis": {
            "gridcolor": "white",
            "linecolor": "white",
            "ticks": ""
           }
          },
          "title": {
           "x": 0.05
          },
          "xaxis": {
           "automargin": true,
           "gridcolor": "white",
           "linecolor": "white",
           "ticks": "",
           "title": {
            "standoff": 15
           },
           "zerolinecolor": "white",
           "zerolinewidth": 2
          },
          "yaxis": {
           "automargin": true,
           "gridcolor": "white",
           "linecolor": "white",
           "ticks": "",
           "title": {
            "standoff": 15
           },
           "zerolinecolor": "white",
           "zerolinewidth": 2
          }
         }
        },
        "title": {
         "text": "Gradient Boosting Regressor Feature Importances"
        },
        "xaxis": {
         "anchor": "y",
         "categoryorder": "total descending",
         "domain": [
          0,
          1
         ],
         "title": {
          "text": "Feature"
         }
        },
        "yaxis": {
         "anchor": "x",
         "domain": [
          0,
          1
         ],
         "title": {
          "text": "Importance"
         }
        }
       }
      }
     },
     "metadata": {},
     "output_type": "display_data"
    }
   ],
   "source": [
    "from sklearn.ensemble import GradientBoostingClassifier\n",
    "\n",
    "caravan = load_data(\"Caravan\")\n",
    "\n",
    "X = caravan.drop(\"Purchase\", axis=1)\n",
    "y = caravan[\"Purchase\"]\n",
    "y = y.map({\"No\": 0, \"Yes\": 1})\n",
    "\n",
    "num_train = 1000\n",
    "X_train = X.iloc[:num_train]\n",
    "y_train = y.iloc[:num_train]\n",
    "X_test = X.iloc[num_train:]\n",
    "y_test = y.iloc[num_train:]\n",
    "\n",
    "caravan_boost = GradientBoostingRegressor(n_estimators=1000, random_state=0, learning_rate=0.01)\n",
    "caravan_boost.fit(X_train, y_train)\n",
    "\n",
    "fig = px.bar(x=X.columns, y=caravan_boost.feature_importances_, title=\"Gradient Boosting Regressor Feature Importances\")\n",
    "fig.update_layout(xaxis_title=\"Feature\", yaxis_title=\"Importance\", xaxis={'categoryorder':'total descending'})"
   ]
  },
  {
   "cell_type": "code",
   "execution_count": 38,
   "metadata": {},
   "outputs": [
    {
     "name": "stdout",
     "output_type": "stream",
     "text": [
      "[[4271  262]\n",
      " [ 247   42]]\n",
      "Recall: 0.15\n",
      "Precision: 0.14\n",
      "F1: 0.14\n"
     ]
    }
   ],
   "source": [
    "y_pred_test = caravan_boost.predict(X_test)\n",
    "y_pred_label = y_pred_test > 0.2\n",
    "\n",
    "confuse = confusion_matrix(y_test, y_pred_label, labels=[0, 1])\n",
    "\n",
    "recall = confuse[1, 1] / (confuse[1, 1] + confuse[1, 0])\n",
    "precision = confuse[1, 1] / (confuse[1, 1] + confuse[0, 1])\n",
    "f1 = 2 * (precision * recall) / (precision + recall)\n",
    "\n",
    "print(confuse)\n",
    "print(f\"Recall: {recall:.2f}\")\n",
    "print(f\"Precision: {precision:.2f}\")\n",
    "print(f\"F1: {f1:.2f}\")"
   ]
  },
  {
   "cell_type": "code",
   "execution_count": 39,
   "metadata": {},
   "outputs": [
    {
     "name": "stdout",
     "output_type": "stream",
     "text": [
      "[[4496   37]\n",
      " [ 278   11]]\n",
      "Logistic Accuracy: 0.93\n",
      "Logistic Precision: 0.23\n",
      "Logistic Recall: 0.04\n",
      "[[4502   31]\n",
      " [ 285    4]]\n",
      "KNN Accuracy: 0.93\n",
      "KNN Precision: 0.11\n",
      "KNN Recall: 0.01\n"
     ]
    },
    {
     "name": "stderr",
     "output_type": "stream",
     "text": [
      "/home/albert/miniforge3/envs/islp/lib/python3.11/site-packages/sklearn/base.py:493: UserWarning:\n",
      "\n",
      "X does not have valid feature names, but KNeighborsClassifier was fitted with feature names\n",
      "\n"
     ]
    }
   ],
   "source": [
    "from sklearn.linear_model import LogisticRegression\n",
    "from sklearn.neighbors import KNeighborsClassifier\n",
    "from sklearn.metrics import accuracy_score, f1_score, precision_score, recall_score\n",
    "\n",
    "\n",
    "logistic = LogisticRegression(max_iter=1000)\n",
    "logistic.fit(X_train, y_train)\n",
    "\n",
    "knn = KNeighborsClassifier()\n",
    "knn.fit(X_train, y_train)\n",
    "\n",
    "logistic_pred = logistic.predict(X_test)\n",
    "knn_pred = knn.predict(X_test.to_numpy())\n",
    "\n",
    "logistic_accuracy = accuracy_score(y_test, logistic_pred)\n",
    "knn_accuracy = accuracy_score(y_test, knn_pred)\n",
    "logistic_precision = precision_score(y_test, logistic_pred)\n",
    "knn_precision = precision_score(y_test, knn_pred)\n",
    "logistic_recall = recall_score(y_test, logistic_pred)\n",
    "knn_recall = recall_score(y_test, knn_pred)\n",
    "\n",
    "knn_confuse = confusion_matrix(y_test, knn_pred, labels=[0, 1])\n",
    "logistic_confuse = confusion_matrix(y_test, logistic_pred, labels=[0, 1])\n",
    "\n",
    "print(logistic_confuse)\n",
    "print(f\"Logistic Accuracy: {logistic_accuracy:.2f}\")\n",
    "print(f\"Logistic Precision: {logistic_precision:.2f}\")\n",
    "print(f\"Logistic Recall: {logistic_recall:.2f}\")\n",
    "\n",
    "print(knn_confuse)\n",
    "print(f\"KNN Accuracy: {knn_accuracy:.2f}\")\n",
    "print(f\"KNN Precision: {knn_precision:.2f}\")\n",
    "print(f\"KNN Recall: {knn_recall:.2f}\")\n"
   ]
  },
  {
   "cell_type": "markdown",
   "metadata": {},
   "source": [
    "# Question 12"
   ]
  },
  {
   "cell_type": "code",
   "execution_count": 73,
   "metadata": {},
   "outputs": [
    {
     "data": {
      "text/html": [
       "<div>\n",
       "<style scoped>\n",
       "    .dataframe tbody tr th:only-of-type {\n",
       "        vertical-align: middle;\n",
       "    }\n",
       "\n",
       "    .dataframe tbody tr th {\n",
       "        vertical-align: top;\n",
       "    }\n",
       "\n",
       "    .dataframe thead th {\n",
       "        text-align: right;\n",
       "    }\n",
       "</style>\n",
       "<table border=\"1\" class=\"dataframe\">\n",
       "  <thead>\n",
       "    <tr style=\"text-align: right;\">\n",
       "      <th></th>\n",
       "      <th>age</th>\n",
       "      <th>sex</th>\n",
       "      <th>bmi</th>\n",
       "      <th>bp</th>\n",
       "      <th>s1</th>\n",
       "      <th>s2</th>\n",
       "      <th>s3</th>\n",
       "      <th>s4</th>\n",
       "      <th>s5</th>\n",
       "      <th>s6</th>\n",
       "    </tr>\n",
       "  </thead>\n",
       "  <tbody>\n",
       "    <tr>\n",
       "      <th>0</th>\n",
       "      <td>0.038076</td>\n",
       "      <td>0.050680</td>\n",
       "      <td>0.061696</td>\n",
       "      <td>0.021872</td>\n",
       "      <td>-0.044223</td>\n",
       "      <td>-0.034821</td>\n",
       "      <td>-0.043401</td>\n",
       "      <td>-0.002592</td>\n",
       "      <td>0.019907</td>\n",
       "      <td>-0.017646</td>\n",
       "    </tr>\n",
       "    <tr>\n",
       "      <th>1</th>\n",
       "      <td>-0.001882</td>\n",
       "      <td>-0.044642</td>\n",
       "      <td>-0.051474</td>\n",
       "      <td>-0.026328</td>\n",
       "      <td>-0.008449</td>\n",
       "      <td>-0.019163</td>\n",
       "      <td>0.074412</td>\n",
       "      <td>-0.039493</td>\n",
       "      <td>-0.068332</td>\n",
       "      <td>-0.092204</td>\n",
       "    </tr>\n",
       "    <tr>\n",
       "      <th>2</th>\n",
       "      <td>0.085299</td>\n",
       "      <td>0.050680</td>\n",
       "      <td>0.044451</td>\n",
       "      <td>-0.005670</td>\n",
       "      <td>-0.045599</td>\n",
       "      <td>-0.034194</td>\n",
       "      <td>-0.032356</td>\n",
       "      <td>-0.002592</td>\n",
       "      <td>0.002861</td>\n",
       "      <td>-0.025930</td>\n",
       "    </tr>\n",
       "    <tr>\n",
       "      <th>3</th>\n",
       "      <td>-0.089063</td>\n",
       "      <td>-0.044642</td>\n",
       "      <td>-0.011595</td>\n",
       "      <td>-0.036656</td>\n",
       "      <td>0.012191</td>\n",
       "      <td>0.024991</td>\n",
       "      <td>-0.036038</td>\n",
       "      <td>0.034309</td>\n",
       "      <td>0.022688</td>\n",
       "      <td>-0.009362</td>\n",
       "    </tr>\n",
       "    <tr>\n",
       "      <th>4</th>\n",
       "      <td>0.005383</td>\n",
       "      <td>-0.044642</td>\n",
       "      <td>-0.036385</td>\n",
       "      <td>0.021872</td>\n",
       "      <td>0.003935</td>\n",
       "      <td>0.015596</td>\n",
       "      <td>0.008142</td>\n",
       "      <td>-0.002592</td>\n",
       "      <td>-0.031988</td>\n",
       "      <td>-0.046641</td>\n",
       "    </tr>\n",
       "    <tr>\n",
       "      <th>...</th>\n",
       "      <td>...</td>\n",
       "      <td>...</td>\n",
       "      <td>...</td>\n",
       "      <td>...</td>\n",
       "      <td>...</td>\n",
       "      <td>...</td>\n",
       "      <td>...</td>\n",
       "      <td>...</td>\n",
       "      <td>...</td>\n",
       "      <td>...</td>\n",
       "    </tr>\n",
       "    <tr>\n",
       "      <th>437</th>\n",
       "      <td>0.041708</td>\n",
       "      <td>0.050680</td>\n",
       "      <td>0.019662</td>\n",
       "      <td>0.059744</td>\n",
       "      <td>-0.005697</td>\n",
       "      <td>-0.002566</td>\n",
       "      <td>-0.028674</td>\n",
       "      <td>-0.002592</td>\n",
       "      <td>0.031193</td>\n",
       "      <td>0.007207</td>\n",
       "    </tr>\n",
       "    <tr>\n",
       "      <th>438</th>\n",
       "      <td>-0.005515</td>\n",
       "      <td>0.050680</td>\n",
       "      <td>-0.015906</td>\n",
       "      <td>-0.067642</td>\n",
       "      <td>0.049341</td>\n",
       "      <td>0.079165</td>\n",
       "      <td>-0.028674</td>\n",
       "      <td>0.034309</td>\n",
       "      <td>-0.018114</td>\n",
       "      <td>0.044485</td>\n",
       "    </tr>\n",
       "    <tr>\n",
       "      <th>439</th>\n",
       "      <td>0.041708</td>\n",
       "      <td>0.050680</td>\n",
       "      <td>-0.015906</td>\n",
       "      <td>0.017293</td>\n",
       "      <td>-0.037344</td>\n",
       "      <td>-0.013840</td>\n",
       "      <td>-0.024993</td>\n",
       "      <td>-0.011080</td>\n",
       "      <td>-0.046883</td>\n",
       "      <td>0.015491</td>\n",
       "    </tr>\n",
       "    <tr>\n",
       "      <th>440</th>\n",
       "      <td>-0.045472</td>\n",
       "      <td>-0.044642</td>\n",
       "      <td>0.039062</td>\n",
       "      <td>0.001215</td>\n",
       "      <td>0.016318</td>\n",
       "      <td>0.015283</td>\n",
       "      <td>-0.028674</td>\n",
       "      <td>0.026560</td>\n",
       "      <td>0.044529</td>\n",
       "      <td>-0.025930</td>\n",
       "    </tr>\n",
       "    <tr>\n",
       "      <th>441</th>\n",
       "      <td>-0.045472</td>\n",
       "      <td>-0.044642</td>\n",
       "      <td>-0.073030</td>\n",
       "      <td>-0.081413</td>\n",
       "      <td>0.083740</td>\n",
       "      <td>0.027809</td>\n",
       "      <td>0.173816</td>\n",
       "      <td>-0.039493</td>\n",
       "      <td>-0.004222</td>\n",
       "      <td>0.003064</td>\n",
       "    </tr>\n",
       "  </tbody>\n",
       "</table>\n",
       "<p>442 rows × 10 columns</p>\n",
       "</div>"
      ],
      "text/plain": [
       "          age       sex       bmi        bp        s1        s2        s3  \\\n",
       "0    0.038076  0.050680  0.061696  0.021872 -0.044223 -0.034821 -0.043401   \n",
       "1   -0.001882 -0.044642 -0.051474 -0.026328 -0.008449 -0.019163  0.074412   \n",
       "2    0.085299  0.050680  0.044451 -0.005670 -0.045599 -0.034194 -0.032356   \n",
       "3   -0.089063 -0.044642 -0.011595 -0.036656  0.012191  0.024991 -0.036038   \n",
       "4    0.005383 -0.044642 -0.036385  0.021872  0.003935  0.015596  0.008142   \n",
       "..        ...       ...       ...       ...       ...       ...       ...   \n",
       "437  0.041708  0.050680  0.019662  0.059744 -0.005697 -0.002566 -0.028674   \n",
       "438 -0.005515  0.050680 -0.015906 -0.067642  0.049341  0.079165 -0.028674   \n",
       "439  0.041708  0.050680 -0.015906  0.017293 -0.037344 -0.013840 -0.024993   \n",
       "440 -0.045472 -0.044642  0.039062  0.001215  0.016318  0.015283 -0.028674   \n",
       "441 -0.045472 -0.044642 -0.073030 -0.081413  0.083740  0.027809  0.173816   \n",
       "\n",
       "           s4        s5        s6  \n",
       "0   -0.002592  0.019907 -0.017646  \n",
       "1   -0.039493 -0.068332 -0.092204  \n",
       "2   -0.002592  0.002861 -0.025930  \n",
       "3    0.034309  0.022688 -0.009362  \n",
       "4   -0.002592 -0.031988 -0.046641  \n",
       "..        ...       ...       ...  \n",
       "437 -0.002592  0.031193  0.007207  \n",
       "438  0.034309 -0.018114  0.044485  \n",
       "439 -0.011080 -0.046883  0.015491  \n",
       "440  0.026560  0.044529 -0.025930  \n",
       "441 -0.039493 -0.004222  0.003064  \n",
       "\n",
       "[442 rows x 10 columns]"
      ]
     },
     "execution_count": 73,
     "metadata": {},
     "output_type": "execute_result"
    }
   ],
   "source": [
    "from sklearn.datasets import load_diabetes\n",
    "\n",
    "X, y = load_diabetes(return_X_y=True, as_frame=True)\n",
    "X_train, X_test, y_train, y_test = train_test_split(X, y, test_size=0.2, random_state=0)\n",
    "\n",
    "X_train = X_train.to_numpy()\n",
    "X_test = X_test.to_numpy()\n",
    "\n",
    "\n",
    "def fit_and_evaluate_model(model, X_train, y_train, X_test, y_test):\n",
    "    model.fit(X_train, y_train)\n",
    "    y_train_pred = model.predict(X_train)\n",
    "    y_test_pred = model.predict(X_test)\n",
    "\n",
    "    train_metrics = {\n",
    "        \"mse\": mean_squared_error(y_train, y_train_pred),\n",
    "        \"r2\": model.score(X_train, y_train),\n",
    "        \"mae\": np.mean(np.abs(y_train - y_train_pred)),\n",
    "    }\n",
    "    test_metrics = {\n",
    "        \"mse\": mean_squared_error(y_test, y_test_pred),\n",
    "        \"r2\": model.score(X_test, y_test),\n",
    "        \"mae\": np.mean(np.abs(y_test - y_test_pred)),\n",
    "    }\n",
    "    return train_metrics, test_metrics\n",
    "\n",
    "X"
   ]
  },
  {
   "cell_type": "code",
   "execution_count": 71,
   "metadata": {},
   "outputs": [
    {
     "data": {
      "text/html": [
       "<div>\n",
       "<style scoped>\n",
       "    .dataframe tbody tr th:only-of-type {\n",
       "        vertical-align: middle;\n",
       "    }\n",
       "\n",
       "    .dataframe tbody tr th {\n",
       "        vertical-align: top;\n",
       "    }\n",
       "\n",
       "    .dataframe thead th {\n",
       "        text-align: right;\n",
       "    }\n",
       "</style>\n",
       "<table border=\"1\" class=\"dataframe\">\n",
       "  <thead>\n",
       "    <tr style=\"text-align: right;\">\n",
       "      <th></th>\n",
       "      <th>model</th>\n",
       "      <th>train_mse</th>\n",
       "      <th>train_r2</th>\n",
       "      <th>train_mae</th>\n",
       "      <th>test_mse</th>\n",
       "      <th>test_r2</th>\n",
       "      <th>test_mae</th>\n",
       "    </tr>\n",
       "  </thead>\n",
       "  <tbody>\n",
       "    <tr>\n",
       "      <th>5</th>\n",
       "      <td>Ridge</td>\n",
       "      <td>3279.410666</td>\n",
       "      <td>0.465084</td>\n",
       "      <td>48.381085</td>\n",
       "      <td>3379.406308</td>\n",
       "      <td>0.340980</td>\n",
       "      <td>46.566795</td>\n",
       "    </tr>\n",
       "    <tr>\n",
       "      <th>3</th>\n",
       "      <td>LinearRegression</td>\n",
       "      <td>2734.750899</td>\n",
       "      <td>0.553925</td>\n",
       "      <td>42.593344</td>\n",
       "      <td>3424.259334</td>\n",
       "      <td>0.332233</td>\n",
       "      <td>46.173585</td>\n",
       "    </tr>\n",
       "    <tr>\n",
       "      <th>7</th>\n",
       "      <td>BART</td>\n",
       "      <td>2240.585025</td>\n",
       "      <td>0.634530</td>\n",
       "      <td>38.604038</td>\n",
       "      <td>3535.131956</td>\n",
       "      <td>0.310612</td>\n",
       "      <td>44.826065</td>\n",
       "    </tr>\n",
       "    <tr>\n",
       "      <th>1</th>\n",
       "      <td>RandomForestRegressor</td>\n",
       "      <td>456.514856</td>\n",
       "      <td>0.925536</td>\n",
       "      <td>17.035977</td>\n",
       "      <td>3750.300122</td>\n",
       "      <td>0.268652</td>\n",
       "      <td>47.752247</td>\n",
       "    </tr>\n",
       "    <tr>\n",
       "      <th>6</th>\n",
       "      <td>Lasso</td>\n",
       "      <td>3663.284439</td>\n",
       "      <td>0.402469</td>\n",
       "      <td>51.915497</td>\n",
       "      <td>3787.874295</td>\n",
       "      <td>0.261324</td>\n",
       "      <td>50.089717</td>\n",
       "    </tr>\n",
       "    <tr>\n",
       "      <th>2</th>\n",
       "      <td>GradientBoostingRegressor</td>\n",
       "      <td>871.463175</td>\n",
       "      <td>0.857853</td>\n",
       "      <td>23.559587</td>\n",
       "      <td>4071.951046</td>\n",
       "      <td>0.205926</td>\n",
       "      <td>49.333135</td>\n",
       "    </tr>\n",
       "    <tr>\n",
       "      <th>0</th>\n",
       "      <td>DecisionTreeRegressor</td>\n",
       "      <td>0.000000</td>\n",
       "      <td>1.000000</td>\n",
       "      <td>0.000000</td>\n",
       "      <td>6891.797753</td>\n",
       "      <td>-0.343973</td>\n",
       "      <td>70.584270</td>\n",
       "    </tr>\n",
       "    <tr>\n",
       "      <th>4</th>\n",
       "      <td>LogisticRegression</td>\n",
       "      <td>12467.849858</td>\n",
       "      <td>0.016997</td>\n",
       "      <td>85.288952</td>\n",
       "      <td>11888.831461</td>\n",
       "      <td>0.000000</td>\n",
       "      <td>86.471910</td>\n",
       "    </tr>\n",
       "  </tbody>\n",
       "</table>\n",
       "</div>"
      ],
      "text/plain": [
       "                       model     train_mse  train_r2  train_mae      test_mse  \\\n",
       "5                      Ridge   3279.410666  0.465084  48.381085   3379.406308   \n",
       "3           LinearRegression   2734.750899  0.553925  42.593344   3424.259334   \n",
       "7                       BART   2240.585025  0.634530  38.604038   3535.131956   \n",
       "1      RandomForestRegressor    456.514856  0.925536  17.035977   3750.300122   \n",
       "6                      Lasso   3663.284439  0.402469  51.915497   3787.874295   \n",
       "2  GradientBoostingRegressor    871.463175  0.857853  23.559587   4071.951046   \n",
       "0      DecisionTreeRegressor      0.000000  1.000000   0.000000   6891.797753   \n",
       "4         LogisticRegression  12467.849858  0.016997  85.288952  11888.831461   \n",
       "\n",
       "    test_r2   test_mae  \n",
       "5  0.340980  46.566795  \n",
       "3  0.332233  46.173585  \n",
       "7  0.310612  44.826065  \n",
       "1  0.268652  47.752247  \n",
       "6  0.261324  50.089717  \n",
       "2  0.205926  49.333135  \n",
       "0 -0.343973  70.584270  \n",
       "4  0.000000  86.471910  "
      ]
     },
     "execution_count": 71,
     "metadata": {},
     "output_type": "execute_result"
    }
   ],
   "source": [
    "models = [\n",
    "    DecisionTreeRegressor(random_state=0),\n",
    "    RandomForestRegressor(random_state=0),\n",
    "    GradientBoostingRegressor(random_state=0),\n",
    "    LinearRegression(),\n",
    "    LogisticRegression(max_iter=1000),\n",
    "    Ridge(),\n",
    "    Lasso(),\n",
    "    BART(num_trees=100, burnin=5, ndraw=15, random_state=0),\n",
    "]\n",
    "\n",
    "results = []\n",
    "for model in models:\n",
    "    train_metrics, test_metrics = fit_and_evaluate_model(model, X_train, y_train, X_test, y_test)\n",
    "    results.append({\n",
    "        \"model\": model.__class__.__name__,\n",
    "        \"train_mse\": train_metrics[\"mse\"],\n",
    "        \"train_r2\": train_metrics[\"r2\"],\n",
    "        \"train_mae\": train_metrics[\"mae\"],\n",
    "        \"test_mse\": test_metrics[\"mse\"],\n",
    "        \"test_r2\": test_metrics[\"r2\"],\n",
    "        \"test_mae\": test_metrics[\"mae\"],\n",
    "    })\n",
    "\n",
    "results_df = pd.DataFrame(results)\n",
    "results_df.sort_values(\"test_mse\")\n"
   ]
  },
  {
   "cell_type": "code",
   "execution_count": null,
   "metadata": {},
   "outputs": [],
   "source": []
  }
 ],
 "metadata": {
  "kernelspec": {
   "display_name": "islp",
   "language": "python",
   "name": "python3"
  },
  "language_info": {
   "codemirror_mode": {
    "name": "ipython",
    "version": 3
   },
   "file_extension": ".py",
   "mimetype": "text/x-python",
   "name": "python",
   "nbconvert_exporter": "python",
   "pygments_lexer": "ipython3",
   "version": "3.11.9"
  }
 },
 "nbformat": 4,
 "nbformat_minor": 2
}
